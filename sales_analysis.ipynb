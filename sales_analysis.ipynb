{
  "cells": [
    {
      "cell_type": "markdown",
      "metadata": {
        "id": "view-in-github",
        "colab_type": "text"
      },
      "source": [
        "<a href=\"https://colab.research.google.com/github/andrade-adsf/sales_analysis/blob/main/sales_analysis.ipynb\" target=\"_parent\"><img src=\"https://colab.research.google.com/assets/colab-badge.svg\" alt=\"Open In Colab\"/></a>"
      ]
    },
    {
      "cell_type": "markdown",
      "metadata": {
        "id": "qPgyhvZu0QmW"
      },
      "source": [
        "# Real world sales data\n",
        "\n",
        "This is a study based on Keith Galli video \"[Solving real world data science tasks with Python Pandas](https://youtu.be/eMOA1pPVUc4)\" wich can be founded on his [Youtube Channel](https://www.youtube.com/channel/UCq6XkhO5SZ66N04IcPbqNcw).\n",
        "\n",
        "All data was provided by him and can be found on the description of the video or on his Github.\n",
        "\n",
        "Please feel free to send me feedbacks, you can find me on:\n",
        "\n",
        "linkedin: https://www.linkedin.com/in/ads-felipe/\n",
        "\n",
        "github: https://github.com/andrade-adsf"
      ]
    },
    {
      "cell_type": "markdown",
      "metadata": {
        "id": "kJT93AYE0fdo"
      },
      "source": [
        "# Setup work enviroment\n",
        "\n",
        "I'm just importing libraries, loading data and updating and setting up matplotlib on this part, feel free to jump to the interesting one."
      ]
    },
    {
      "cell_type": "code",
      "source": [
        "!pip install matplotlib --upgrade"
      ],
      "metadata": {
        "colab": {
          "base_uri": "https://localhost:8080/",
          "height": 520
        },
        "id": "_feG_MC-A8TM",
        "outputId": "ef2d6e72-6f50-4858-9aaf-1d534209779b"
      },
      "execution_count": 1,
      "outputs": [
        {
          "output_type": "stream",
          "name": "stdout",
          "text": [
            "Requirement already satisfied: matplotlib in /usr/local/lib/python3.7/dist-packages (3.2.2)\n",
            "Collecting matplotlib\n",
            "  Downloading matplotlib-3.5.1-cp37-cp37m-manylinux_2_5_x86_64.manylinux1_x86_64.whl (11.2 MB)\n",
            "\u001b[K     |████████████████████████████████| 11.2 MB 8.4 MB/s \n",
            "\u001b[?25hRequirement already satisfied: packaging>=20.0 in /usr/local/lib/python3.7/dist-packages (from matplotlib) (21.3)\n",
            "Requirement already satisfied: cycler>=0.10 in /usr/local/lib/python3.7/dist-packages (from matplotlib) (0.11.0)\n",
            "Requirement already satisfied: numpy>=1.17 in /usr/local/lib/python3.7/dist-packages (from matplotlib) (1.21.5)\n",
            "Requirement already satisfied: pyparsing>=2.2.1 in /usr/local/lib/python3.7/dist-packages (from matplotlib) (3.0.7)\n",
            "Requirement already satisfied: kiwisolver>=1.0.1 in /usr/local/lib/python3.7/dist-packages (from matplotlib) (1.4.0)\n",
            "Requirement already satisfied: pillow>=6.2.0 in /usr/local/lib/python3.7/dist-packages (from matplotlib) (7.1.2)\n",
            "Requirement already satisfied: python-dateutil>=2.7 in /usr/local/lib/python3.7/dist-packages (from matplotlib) (2.8.2)\n",
            "Collecting fonttools>=4.22.0\n",
            "  Downloading fonttools-4.31.2-py3-none-any.whl (899 kB)\n",
            "\u001b[K     |████████████████████████████████| 899 kB 36.3 MB/s \n",
            "\u001b[?25hRequirement already satisfied: typing-extensions in /usr/local/lib/python3.7/dist-packages (from kiwisolver>=1.0.1->matplotlib) (3.10.0.2)\n",
            "Requirement already satisfied: six>=1.5 in /usr/local/lib/python3.7/dist-packages (from python-dateutil>=2.7->matplotlib) (1.15.0)\n",
            "Installing collected packages: fonttools, matplotlib\n",
            "  Attempting uninstall: matplotlib\n",
            "    Found existing installation: matplotlib 3.2.2\n",
            "    Uninstalling matplotlib-3.2.2:\n",
            "      Successfully uninstalled matplotlib-3.2.2\n",
            "\u001b[31mERROR: pip's dependency resolver does not currently take into account all the packages that are installed. This behaviour is the source of the following dependency conflicts.\n",
            "albumentations 0.1.12 requires imgaug<0.2.7,>=0.2.5, but you have imgaug 0.2.9 which is incompatible.\u001b[0m\n",
            "Successfully installed fonttools-4.31.2 matplotlib-3.5.1\n"
          ]
        },
        {
          "output_type": "display_data",
          "data": {
            "application/vnd.colab-display-data+json": {
              "pip_warning": {
                "packages": [
                  "matplotlib",
                  "mpl_toolkits"
                ]
              }
            }
          },
          "metadata": {}
        }
      ]
    },
    {
      "cell_type": "code",
      "execution_count": 1,
      "metadata": {
        "id": "PSVMDJIr0eCM"
      },
      "outputs": [],
      "source": [
        "# import pandas\n",
        "import pandas as pd\n",
        "\n",
        "# import graph libs\n",
        "import matplotlib.pyplot as plt\n",
        "import matplotlib.ticker as ticker\n",
        "\n",
        "# import num lib\n",
        "import numpy as np\n",
        "\n",
        "# import datetime librarie\n",
        "from datetime import datetime as dt\n",
        "\n",
        "# import libraries to count pairs on a list\n",
        "from itertools import combinations\n",
        "from collections import Counter\n",
        "\n",
        "# configurar a visualização\n",
        "%config InlineBackend.figure_format = 'svg' # melhorar a resolução das imagens, figura vetorial"
      ]
    },
    {
      "cell_type": "markdown",
      "metadata": {
        "id": "f_MF1M_90ohW"
      },
      "source": [
        "# Data Manipulation\n",
        "\n",
        "This data was on several excel files wich I concanate to create `all_data` data frame, you can find the excel files on my github.\n",
        "\n",
        "Continuing the preparation work, here I'm preparing the data to be analised later."
      ]
    },
    {
      "cell_type": "code",
      "execution_count": 2,
      "metadata": {
        "id": "CFop7uqY0M6O"
      },
      "outputs": [],
      "source": [
        "path = \"https://raw.githubusercontent.com/andrade-adsf/sales_analysis/main/all_data.csv\" # set data path\n",
        "all_data = pd.read_csv(path, engine = 'python') # read csv"
      ]
    },
    {
      "cell_type": "markdown",
      "metadata": {
        "id": "vmJ_kdFS08Hl"
      },
      "source": [
        "## Data type\n",
        "\n",
        "This is the data types on my dataframe, I have some work to do with it in order to be more produtive."
      ]
    },
    {
      "cell_type": "code",
      "execution_count": 3,
      "metadata": {
        "colab": {
          "base_uri": "https://localhost:8080/"
        },
        "id": "VPt9vDuP09Se",
        "outputId": "2ae86416-f40f-4ba1-d9ab-bdd877d957e2"
      },
      "outputs": [
        {
          "output_type": "stream",
          "name": "stdout",
          "text": [
            "<class 'pandas.core.frame.DataFrame'>\n",
            "RangeIndex: 186850 entries, 0 to 186849\n",
            "Data columns (total 6 columns):\n",
            " #   Column            Non-Null Count   Dtype \n",
            "---  ------            --------------   ----- \n",
            " 0   Order ID          186305 non-null  object\n",
            " 1   Product           186305 non-null  object\n",
            " 2   Quantity Ordered  186305 non-null  object\n",
            " 3   Price Each        186305 non-null  object\n",
            " 4   Order Date        186305 non-null  object\n",
            " 5   Purchase Address  186305 non-null  object\n",
            "dtypes: object(6)\n",
            "memory usage: 8.6+ MB\n"
          ]
        }
      ],
      "source": [
        "all_data.info() # check  dtype of columns on the dataframe"
      ]
    },
    {
      "cell_type": "markdown",
      "metadata": {
        "id": "oumqr0me1McH"
      },
      "source": [
        "### Convert datetime"
      ]
    },
    {
      "cell_type": "code",
      "execution_count": 4,
      "metadata": {
        "id": "Yuy9mlTt1OKT"
      },
      "outputs": [],
      "source": [
        "all_data['Order Date'] = pd.to_datetime(all_data['Order Date'], infer_datetime_format=True, errors='coerce') # convert Order Date from string to datetime"
      ]
    },
    {
      "cell_type": "markdown",
      "metadata": {
        "id": "PkxmCHkd1Tp_"
      },
      "source": [
        "### Missing data\n",
        "\n",
        "As all the missing data is a complete blank row I cannot take any info from them, so for this datafrime all will exclude all null values from the dataframe"
      ]
    },
    {
      "cell_type": "code",
      "execution_count": 5,
      "metadata": {
        "id": "waDykReI1aSk",
        "colab": {
          "base_uri": "https://localhost:8080/"
        },
        "outputId": "d803ba7a-4671-4aac-e15e-3295088a1f75"
      },
      "outputs": [
        {
          "output_type": "execute_result",
          "data": {
            "text/plain": [
              "Order ID            0.291678\n",
              "Product             0.291678\n",
              "Quantity Ordered    0.291678\n",
              "Price Each          0.291678\n",
              "Order Date          0.481670\n",
              "Purchase Address    0.291678\n",
              "dtype: float64"
            ]
          },
          "metadata": {},
          "execution_count": 5
        }
      ],
      "source": [
        "# show percentage of data missing\n",
        "(((all_data.isna().sum())/all_data.shape[0])*100)"
      ]
    },
    {
      "cell_type": "code",
      "execution_count": 6,
      "metadata": {
        "id": "9_uPIBcd1eAe"
      },
      "outputs": [],
      "source": [
        "# drop missing data\n",
        "all_data.dropna(inplace=True)"
      ]
    },
    {
      "cell_type": "markdown",
      "metadata": {
        "id": "SXDnkXTv1jwB"
      },
      "source": [
        "### Convert str to int/float"
      ]
    },
    {
      "cell_type": "code",
      "execution_count": 7,
      "metadata": {
        "id": "ipbl864M1uVQ"
      },
      "outputs": [],
      "source": [
        "all_data['Price Each'] = pd.to_numeric(all_data['Price Each']) # convert to float\n",
        "all_data['Quantity Ordered'] = pd.to_numeric(all_data['Quantity Ordered']) # convert to int"
      ]
    },
    {
      "cell_type": "markdown",
      "metadata": {
        "id": "ncVxJ3Qc1yWC"
      },
      "source": [
        "### Result"
      ]
    },
    {
      "cell_type": "code",
      "execution_count": 8,
      "metadata": {
        "id": "Bt9l9kn811a0",
        "colab": {
          "base_uri": "https://localhost:8080/"
        },
        "outputId": "10bd0b69-3e32-4764-9057-1f7fb75e4a46"
      },
      "outputs": [
        {
          "output_type": "stream",
          "name": "stdout",
          "text": [
            "<class 'pandas.core.frame.DataFrame'>\n",
            "Int64Index: 185950 entries, 0 to 186849\n",
            "Data columns (total 6 columns):\n",
            " #   Column            Non-Null Count   Dtype         \n",
            "---  ------            --------------   -----         \n",
            " 0   Order ID          185950 non-null  object        \n",
            " 1   Product           185950 non-null  object        \n",
            " 2   Quantity Ordered  185950 non-null  int64         \n",
            " 3   Price Each        185950 non-null  float64       \n",
            " 4   Order Date        185950 non-null  datetime64[ns]\n",
            " 5   Purchase Address  185950 non-null  object        \n",
            "dtypes: datetime64[ns](1), float64(1), int64(1), object(3)\n",
            "memory usage: 9.9+ MB\n"
          ]
        }
      ],
      "source": [
        "all_data.info() # show dtypes"
      ]
    },
    {
      "cell_type": "markdown",
      "metadata": {
        "id": "cyeYs9Xp16rv"
      },
      "source": [
        "## Create sales column\n",
        "\n",
        "Sales columns will be worth it since I just have `Price Each` on the dataframe, and it represents the price of the product itself not considering the `Quantity Ordered`"
      ]
    },
    {
      "cell_type": "code",
      "execution_count": 9,
      "metadata": {
        "id": "pjRf7qmK1-tW",
        "colab": {
          "base_uri": "https://localhost:8080/",
          "height": 0
        },
        "outputId": "d9d82f23-8152-41fc-ac4f-a4463e62bdec"
      },
      "outputs": [
        {
          "output_type": "execute_result",
          "data": {
            "text/plain": [
              "  Order ID                     Product  Quantity Ordered  Price Each  \\\n",
              "0   176558        USB-C Charging Cable                 2       11.95   \n",
              "2   176559  Bose SoundSport Headphones                 1       99.99   \n",
              "3   176560                Google Phone                 1      600.00   \n",
              "4   176560            Wired Headphones                 1       11.99   \n",
              "5   176561            Wired Headphones                 1       11.99   \n",
              "\n",
              "           Order Date                      Purchase Address   Sales  \n",
              "0 2019-04-19 08:46:00          917 1st St, Dallas, TX 75001   23.90  \n",
              "2 2019-04-07 22:30:00     682 Chestnut St, Boston, MA 02215   99.99  \n",
              "3 2019-04-12 14:38:00  669 Spruce St, Los Angeles, CA 90001  600.00  \n",
              "4 2019-04-12 14:38:00  669 Spruce St, Los Angeles, CA 90001   11.99  \n",
              "5 2019-04-30 09:27:00     333 8th St, Los Angeles, CA 90001   11.99  "
            ],
            "text/html": [
              "\n",
              "  <div id=\"df-6d8ff201-b00a-4968-b8ec-fe756c97f0e7\">\n",
              "    <div class=\"colab-df-container\">\n",
              "      <div>\n",
              "<style scoped>\n",
              "    .dataframe tbody tr th:only-of-type {\n",
              "        vertical-align: middle;\n",
              "    }\n",
              "\n",
              "    .dataframe tbody tr th {\n",
              "        vertical-align: top;\n",
              "    }\n",
              "\n",
              "    .dataframe thead th {\n",
              "        text-align: right;\n",
              "    }\n",
              "</style>\n",
              "<table border=\"1\" class=\"dataframe\">\n",
              "  <thead>\n",
              "    <tr style=\"text-align: right;\">\n",
              "      <th></th>\n",
              "      <th>Order ID</th>\n",
              "      <th>Product</th>\n",
              "      <th>Quantity Ordered</th>\n",
              "      <th>Price Each</th>\n",
              "      <th>Order Date</th>\n",
              "      <th>Purchase Address</th>\n",
              "      <th>Sales</th>\n",
              "    </tr>\n",
              "  </thead>\n",
              "  <tbody>\n",
              "    <tr>\n",
              "      <th>0</th>\n",
              "      <td>176558</td>\n",
              "      <td>USB-C Charging Cable</td>\n",
              "      <td>2</td>\n",
              "      <td>11.95</td>\n",
              "      <td>2019-04-19 08:46:00</td>\n",
              "      <td>917 1st St, Dallas, TX 75001</td>\n",
              "      <td>23.90</td>\n",
              "    </tr>\n",
              "    <tr>\n",
              "      <th>2</th>\n",
              "      <td>176559</td>\n",
              "      <td>Bose SoundSport Headphones</td>\n",
              "      <td>1</td>\n",
              "      <td>99.99</td>\n",
              "      <td>2019-04-07 22:30:00</td>\n",
              "      <td>682 Chestnut St, Boston, MA 02215</td>\n",
              "      <td>99.99</td>\n",
              "    </tr>\n",
              "    <tr>\n",
              "      <th>3</th>\n",
              "      <td>176560</td>\n",
              "      <td>Google Phone</td>\n",
              "      <td>1</td>\n",
              "      <td>600.00</td>\n",
              "      <td>2019-04-12 14:38:00</td>\n",
              "      <td>669 Spruce St, Los Angeles, CA 90001</td>\n",
              "      <td>600.00</td>\n",
              "    </tr>\n",
              "    <tr>\n",
              "      <th>4</th>\n",
              "      <td>176560</td>\n",
              "      <td>Wired Headphones</td>\n",
              "      <td>1</td>\n",
              "      <td>11.99</td>\n",
              "      <td>2019-04-12 14:38:00</td>\n",
              "      <td>669 Spruce St, Los Angeles, CA 90001</td>\n",
              "      <td>11.99</td>\n",
              "    </tr>\n",
              "    <tr>\n",
              "      <th>5</th>\n",
              "      <td>176561</td>\n",
              "      <td>Wired Headphones</td>\n",
              "      <td>1</td>\n",
              "      <td>11.99</td>\n",
              "      <td>2019-04-30 09:27:00</td>\n",
              "      <td>333 8th St, Los Angeles, CA 90001</td>\n",
              "      <td>11.99</td>\n",
              "    </tr>\n",
              "  </tbody>\n",
              "</table>\n",
              "</div>\n",
              "      <button class=\"colab-df-convert\" onclick=\"convertToInteractive('df-6d8ff201-b00a-4968-b8ec-fe756c97f0e7')\"\n",
              "              title=\"Convert this dataframe to an interactive table.\"\n",
              "              style=\"display:none;\">\n",
              "        \n",
              "  <svg xmlns=\"http://www.w3.org/2000/svg\" height=\"24px\"viewBox=\"0 0 24 24\"\n",
              "       width=\"24px\">\n",
              "    <path d=\"M0 0h24v24H0V0z\" fill=\"none\"/>\n",
              "    <path d=\"M18.56 5.44l.94 2.06.94-2.06 2.06-.94-2.06-.94-.94-2.06-.94 2.06-2.06.94zm-11 1L8.5 8.5l.94-2.06 2.06-.94-2.06-.94L8.5 2.5l-.94 2.06-2.06.94zm10 10l.94 2.06.94-2.06 2.06-.94-2.06-.94-.94-2.06-.94 2.06-2.06.94z\"/><path d=\"M17.41 7.96l-1.37-1.37c-.4-.4-.92-.59-1.43-.59-.52 0-1.04.2-1.43.59L10.3 9.45l-7.72 7.72c-.78.78-.78 2.05 0 2.83L4 21.41c.39.39.9.59 1.41.59.51 0 1.02-.2 1.41-.59l7.78-7.78 2.81-2.81c.8-.78.8-2.07 0-2.86zM5.41 20L4 18.59l7.72-7.72 1.47 1.35L5.41 20z\"/>\n",
              "  </svg>\n",
              "      </button>\n",
              "      \n",
              "  <style>\n",
              "    .colab-df-container {\n",
              "      display:flex;\n",
              "      flex-wrap:wrap;\n",
              "      gap: 12px;\n",
              "    }\n",
              "\n",
              "    .colab-df-convert {\n",
              "      background-color: #E8F0FE;\n",
              "      border: none;\n",
              "      border-radius: 50%;\n",
              "      cursor: pointer;\n",
              "      display: none;\n",
              "      fill: #1967D2;\n",
              "      height: 32px;\n",
              "      padding: 0 0 0 0;\n",
              "      width: 32px;\n",
              "    }\n",
              "\n",
              "    .colab-df-convert:hover {\n",
              "      background-color: #E2EBFA;\n",
              "      box-shadow: 0px 1px 2px rgba(60, 64, 67, 0.3), 0px 1px 3px 1px rgba(60, 64, 67, 0.15);\n",
              "      fill: #174EA6;\n",
              "    }\n",
              "\n",
              "    [theme=dark] .colab-df-convert {\n",
              "      background-color: #3B4455;\n",
              "      fill: #D2E3FC;\n",
              "    }\n",
              "\n",
              "    [theme=dark] .colab-df-convert:hover {\n",
              "      background-color: #434B5C;\n",
              "      box-shadow: 0px 1px 3px 1px rgba(0, 0, 0, 0.15);\n",
              "      filter: drop-shadow(0px 1px 2px rgba(0, 0, 0, 0.3));\n",
              "      fill: #FFFFFF;\n",
              "    }\n",
              "  </style>\n",
              "\n",
              "      <script>\n",
              "        const buttonEl =\n",
              "          document.querySelector('#df-6d8ff201-b00a-4968-b8ec-fe756c97f0e7 button.colab-df-convert');\n",
              "        buttonEl.style.display =\n",
              "          google.colab.kernel.accessAllowed ? 'block' : 'none';\n",
              "\n",
              "        async function convertToInteractive(key) {\n",
              "          const element = document.querySelector('#df-6d8ff201-b00a-4968-b8ec-fe756c97f0e7');\n",
              "          const dataTable =\n",
              "            await google.colab.kernel.invokeFunction('convertToInteractive',\n",
              "                                                     [key], {});\n",
              "          if (!dataTable) return;\n",
              "\n",
              "          const docLinkHtml = 'Like what you see? Visit the ' +\n",
              "            '<a target=\"_blank\" href=https://colab.research.google.com/notebooks/data_table.ipynb>data table notebook</a>'\n",
              "            + ' to learn more about interactive tables.';\n",
              "          element.innerHTML = '';\n",
              "          dataTable['output_type'] = 'display_data';\n",
              "          await google.colab.output.renderOutput(dataTable, element);\n",
              "          const docLink = document.createElement('div');\n",
              "          docLink.innerHTML = docLinkHtml;\n",
              "          element.appendChild(docLink);\n",
              "        }\n",
              "      </script>\n",
              "    </div>\n",
              "  </div>\n",
              "  "
            ]
          },
          "metadata": {},
          "execution_count": 9
        }
      ],
      "source": [
        "all_data['Sales'] = all_data['Quantity Ordered'] * all_data['Price Each'] # create a new column sales with the value of each order\n",
        "all_data.head() # show new df"
      ]
    },
    {
      "cell_type": "markdown",
      "metadata": {
        "id": "K72XM4iX2ZOP"
      },
      "source": [
        "## Create Street, City and State columns"
      ]
    },
    {
      "cell_type": "code",
      "execution_count": 10,
      "metadata": {
        "id": "A4XgNqnE2daN",
        "colab": {
          "base_uri": "https://localhost:8080/",
          "height": 0
        },
        "outputId": "987e28ef-6a2f-4948-e0f5-4a6612c3c90b"
      },
      "outputs": [
        {
          "output_type": "execute_result",
          "data": {
            "text/plain": [
              "  Order ID                     Product  Quantity Ordered  Price Each  \\\n",
              "0   176558        USB-C Charging Cable                 2       11.95   \n",
              "2   176559  Bose SoundSport Headphones                 1       99.99   \n",
              "3   176560                Google Phone                 1      600.00   \n",
              "4   176560            Wired Headphones                 1       11.99   \n",
              "5   176561            Wired Headphones                 1       11.99   \n",
              "\n",
              "           Order Date                      Purchase Address   Sales  \\\n",
              "0 2019-04-19 08:46:00          917 1st St, Dallas, TX 75001   23.90   \n",
              "2 2019-04-07 22:30:00     682 Chestnut St, Boston, MA 02215   99.99   \n",
              "3 2019-04-12 14:38:00  669 Spruce St, Los Angeles, CA 90001  600.00   \n",
              "4 2019-04-12 14:38:00  669 Spruce St, Los Angeles, CA 90001   11.99   \n",
              "5 2019-04-30 09:27:00     333 8th St, Los Angeles, CA 90001   11.99   \n",
              "\n",
              "            Street         City State  \n",
              "0       917 1st St       Dallas    TX  \n",
              "2  682 Chestnut St       Boston    MA  \n",
              "3    669 Spruce St  Los Angeles    CA  \n",
              "4    669 Spruce St  Los Angeles    CA  \n",
              "5       333 8th St  Los Angeles    CA  "
            ],
            "text/html": [
              "\n",
              "  <div id=\"df-48a1cb48-42ed-4669-9a92-e8878cb6263e\">\n",
              "    <div class=\"colab-df-container\">\n",
              "      <div>\n",
              "<style scoped>\n",
              "    .dataframe tbody tr th:only-of-type {\n",
              "        vertical-align: middle;\n",
              "    }\n",
              "\n",
              "    .dataframe tbody tr th {\n",
              "        vertical-align: top;\n",
              "    }\n",
              "\n",
              "    .dataframe thead th {\n",
              "        text-align: right;\n",
              "    }\n",
              "</style>\n",
              "<table border=\"1\" class=\"dataframe\">\n",
              "  <thead>\n",
              "    <tr style=\"text-align: right;\">\n",
              "      <th></th>\n",
              "      <th>Order ID</th>\n",
              "      <th>Product</th>\n",
              "      <th>Quantity Ordered</th>\n",
              "      <th>Price Each</th>\n",
              "      <th>Order Date</th>\n",
              "      <th>Purchase Address</th>\n",
              "      <th>Sales</th>\n",
              "      <th>Street</th>\n",
              "      <th>City</th>\n",
              "      <th>State</th>\n",
              "    </tr>\n",
              "  </thead>\n",
              "  <tbody>\n",
              "    <tr>\n",
              "      <th>0</th>\n",
              "      <td>176558</td>\n",
              "      <td>USB-C Charging Cable</td>\n",
              "      <td>2</td>\n",
              "      <td>11.95</td>\n",
              "      <td>2019-04-19 08:46:00</td>\n",
              "      <td>917 1st St, Dallas, TX 75001</td>\n",
              "      <td>23.90</td>\n",
              "      <td>917 1st St</td>\n",
              "      <td>Dallas</td>\n",
              "      <td>TX</td>\n",
              "    </tr>\n",
              "    <tr>\n",
              "      <th>2</th>\n",
              "      <td>176559</td>\n",
              "      <td>Bose SoundSport Headphones</td>\n",
              "      <td>1</td>\n",
              "      <td>99.99</td>\n",
              "      <td>2019-04-07 22:30:00</td>\n",
              "      <td>682 Chestnut St, Boston, MA 02215</td>\n",
              "      <td>99.99</td>\n",
              "      <td>682 Chestnut St</td>\n",
              "      <td>Boston</td>\n",
              "      <td>MA</td>\n",
              "    </tr>\n",
              "    <tr>\n",
              "      <th>3</th>\n",
              "      <td>176560</td>\n",
              "      <td>Google Phone</td>\n",
              "      <td>1</td>\n",
              "      <td>600.00</td>\n",
              "      <td>2019-04-12 14:38:00</td>\n",
              "      <td>669 Spruce St, Los Angeles, CA 90001</td>\n",
              "      <td>600.00</td>\n",
              "      <td>669 Spruce St</td>\n",
              "      <td>Los Angeles</td>\n",
              "      <td>CA</td>\n",
              "    </tr>\n",
              "    <tr>\n",
              "      <th>4</th>\n",
              "      <td>176560</td>\n",
              "      <td>Wired Headphones</td>\n",
              "      <td>1</td>\n",
              "      <td>11.99</td>\n",
              "      <td>2019-04-12 14:38:00</td>\n",
              "      <td>669 Spruce St, Los Angeles, CA 90001</td>\n",
              "      <td>11.99</td>\n",
              "      <td>669 Spruce St</td>\n",
              "      <td>Los Angeles</td>\n",
              "      <td>CA</td>\n",
              "    </tr>\n",
              "    <tr>\n",
              "      <th>5</th>\n",
              "      <td>176561</td>\n",
              "      <td>Wired Headphones</td>\n",
              "      <td>1</td>\n",
              "      <td>11.99</td>\n",
              "      <td>2019-04-30 09:27:00</td>\n",
              "      <td>333 8th St, Los Angeles, CA 90001</td>\n",
              "      <td>11.99</td>\n",
              "      <td>333 8th St</td>\n",
              "      <td>Los Angeles</td>\n",
              "      <td>CA</td>\n",
              "    </tr>\n",
              "  </tbody>\n",
              "</table>\n",
              "</div>\n",
              "      <button class=\"colab-df-convert\" onclick=\"convertToInteractive('df-48a1cb48-42ed-4669-9a92-e8878cb6263e')\"\n",
              "              title=\"Convert this dataframe to an interactive table.\"\n",
              "              style=\"display:none;\">\n",
              "        \n",
              "  <svg xmlns=\"http://www.w3.org/2000/svg\" height=\"24px\"viewBox=\"0 0 24 24\"\n",
              "       width=\"24px\">\n",
              "    <path d=\"M0 0h24v24H0V0z\" fill=\"none\"/>\n",
              "    <path d=\"M18.56 5.44l.94 2.06.94-2.06 2.06-.94-2.06-.94-.94-2.06-.94 2.06-2.06.94zm-11 1L8.5 8.5l.94-2.06 2.06-.94-2.06-.94L8.5 2.5l-.94 2.06-2.06.94zm10 10l.94 2.06.94-2.06 2.06-.94-2.06-.94-.94-2.06-.94 2.06-2.06.94z\"/><path d=\"M17.41 7.96l-1.37-1.37c-.4-.4-.92-.59-1.43-.59-.52 0-1.04.2-1.43.59L10.3 9.45l-7.72 7.72c-.78.78-.78 2.05 0 2.83L4 21.41c.39.39.9.59 1.41.59.51 0 1.02-.2 1.41-.59l7.78-7.78 2.81-2.81c.8-.78.8-2.07 0-2.86zM5.41 20L4 18.59l7.72-7.72 1.47 1.35L5.41 20z\"/>\n",
              "  </svg>\n",
              "      </button>\n",
              "      \n",
              "  <style>\n",
              "    .colab-df-container {\n",
              "      display:flex;\n",
              "      flex-wrap:wrap;\n",
              "      gap: 12px;\n",
              "    }\n",
              "\n",
              "    .colab-df-convert {\n",
              "      background-color: #E8F0FE;\n",
              "      border: none;\n",
              "      border-radius: 50%;\n",
              "      cursor: pointer;\n",
              "      display: none;\n",
              "      fill: #1967D2;\n",
              "      height: 32px;\n",
              "      padding: 0 0 0 0;\n",
              "      width: 32px;\n",
              "    }\n",
              "\n",
              "    .colab-df-convert:hover {\n",
              "      background-color: #E2EBFA;\n",
              "      box-shadow: 0px 1px 2px rgba(60, 64, 67, 0.3), 0px 1px 3px 1px rgba(60, 64, 67, 0.15);\n",
              "      fill: #174EA6;\n",
              "    }\n",
              "\n",
              "    [theme=dark] .colab-df-convert {\n",
              "      background-color: #3B4455;\n",
              "      fill: #D2E3FC;\n",
              "    }\n",
              "\n",
              "    [theme=dark] .colab-df-convert:hover {\n",
              "      background-color: #434B5C;\n",
              "      box-shadow: 0px 1px 3px 1px rgba(0, 0, 0, 0.15);\n",
              "      filter: drop-shadow(0px 1px 2px rgba(0, 0, 0, 0.3));\n",
              "      fill: #FFFFFF;\n",
              "    }\n",
              "  </style>\n",
              "\n",
              "      <script>\n",
              "        const buttonEl =\n",
              "          document.querySelector('#df-48a1cb48-42ed-4669-9a92-e8878cb6263e button.colab-df-convert');\n",
              "        buttonEl.style.display =\n",
              "          google.colab.kernel.accessAllowed ? 'block' : 'none';\n",
              "\n",
              "        async function convertToInteractive(key) {\n",
              "          const element = document.querySelector('#df-48a1cb48-42ed-4669-9a92-e8878cb6263e');\n",
              "          const dataTable =\n",
              "            await google.colab.kernel.invokeFunction('convertToInteractive',\n",
              "                                                     [key], {});\n",
              "          if (!dataTable) return;\n",
              "\n",
              "          const docLinkHtml = 'Like what you see? Visit the ' +\n",
              "            '<a target=\"_blank\" href=https://colab.research.google.com/notebooks/data_table.ipynb>data table notebook</a>'\n",
              "            + ' to learn more about interactive tables.';\n",
              "          element.innerHTML = '';\n",
              "          dataTable['output_type'] = 'display_data';\n",
              "          await google.colab.output.renderOutput(dataTable, element);\n",
              "          const docLink = document.createElement('div');\n",
              "          docLink.innerHTML = docLinkHtml;\n",
              "          element.appendChild(docLink);\n",
              "        }\n",
              "      </script>\n",
              "    </div>\n",
              "  </div>\n",
              "  "
            ]
          },
          "metadata": {},
          "execution_count": 10
        }
      ],
      "source": [
        "all_data[['Street', 'City', 'State']] = all_data['Purchase Address'].str.split(',', expand=True) # split Purchase address into 3 columns\n",
        "all_data['Street'] = all_data['Street'].str.strip() # clean spaces on start and end of Street names\n",
        "all_data['City'] = all_data['City'].str.strip() # clean spaces on start and end of City names\n",
        "all_data['State'] = all_data['State'].str.strip() # clean spaces on start and end of State names\n",
        "all_data['State'] = all_data['State'].str[:2] # Keep only the two letter from the states\n",
        "\n",
        "all_data.head() # show new df"
      ]
    },
    {
      "cell_type": "markdown",
      "metadata": {
        "id": "c1ZQD3ll3Gvl"
      },
      "source": [
        "## Create new dataframes from the original one"
      ]
    },
    {
      "cell_type": "markdown",
      "metadata": {
        "id": "DwGbzVS051Y-"
      },
      "source": [
        "### sales_month"
      ]
    },
    {
      "cell_type": "code",
      "execution_count": 11,
      "metadata": {
        "id": "2fmr_cgC3Js_"
      },
      "outputs": [],
      "source": [
        "sales_month = all_data.groupby(all_data['Order Date'].dt.to_period('M')).sum()[['Sales']] # sales summed by month period"
      ]
    },
    {
      "cell_type": "markdown",
      "metadata": {
        "id": "P7KUCrDM6DM_"
      },
      "source": [
        "### sales_city"
      ]
    },
    {
      "cell_type": "code",
      "execution_count": 12,
      "metadata": {
        "id": "GhFWs8kK6KwG"
      },
      "outputs": [],
      "source": [
        "sales_city = all_data.groupby(['City', 'State']).sum()[['Sales']] # sales summed by city\n",
        "sales_citystate = sales_city.reset_index() # city state not indexed\n",
        "sales_citystate['City'] = sales_citystate['City'] + ', ' + sales_citystate['State'] # city state on same column\n",
        "sales_citystate.drop('State', axis = 1, inplace=True) # drop state column"
      ]
    },
    {
      "cell_type": "markdown",
      "metadata": {
        "id": "LoIyDEnU6Kd-"
      },
      "source": [
        "### sales_time "
      ]
    },
    {
      "cell_type": "code",
      "execution_count": 13,
      "metadata": {
        "id": "lm3xjKCK6dq7",
        "colab": {
          "base_uri": "https://localhost:8080/"
        },
        "outputId": "4aae026e-f871-46be-c637-4710659c7562"
      },
      "outputs": [
        {
          "output_type": "stream",
          "name": "stderr",
          "text": [
            "/usr/local/lib/python3.7/dist-packages/ipykernel_launcher.py:2: SettingWithCopyWarning: \n",
            "A value is trying to be set on a copy of a slice from a DataFrame.\n",
            "Try using .loc[row_indexer,col_indexer] = value instead\n",
            "\n",
            "See the caveats in the documentation: https://pandas.pydata.org/pandas-docs/stable/user_guide/indexing.html#returning-a-view-versus-a-copy\n",
            "  \n"
          ]
        }
      ],
      "source": [
        "sales_time = all_data[['Order Date', 'Sales']] # creating a different dataframe with the data I need\n",
        "sales_time['Hour'] = sales_time['Order Date'].dt.hour # creating a column with just the hours\n",
        "sales_time_sum = sales_time.groupby('Hour').sum()[['Sales']] # sum and grouping by hours\n",
        "sales_time_count = sales_time.groupby('Hour').count()[['Sales']] # count and grouping by hours"
      ]
    },
    {
      "cell_type": "markdown",
      "metadata": {
        "id": "q3EfWrF-6uN3"
      },
      "source": [
        "### sold_together"
      ]
    },
    {
      "cell_type": "code",
      "execution_count": 14,
      "metadata": {
        "id": "PfMbdJpo6r-g",
        "colab": {
          "base_uri": "https://localhost:8080/"
        },
        "outputId": "cf8f320f-4810-4566-e228-a8777a21956f"
      },
      "outputs": [
        {
          "output_type": "stream",
          "name": "stderr",
          "text": [
            "/usr/local/lib/python3.7/dist-packages/ipykernel_launcher.py:2: SettingWithCopyWarning: \n",
            "A value is trying to be set on a copy of a slice from a DataFrame.\n",
            "Try using .loc[row_indexer,col_indexer] = value instead\n",
            "\n",
            "See the caveats in the documentation: https://pandas.pydata.org/pandas-docs/stable/user_guide/indexing.html#returning-a-view-versus-a-copy\n",
            "  \n"
          ]
        }
      ],
      "source": [
        "not_single_purchase = all_data[all_data['Order ID'].duplicated(keep=False)] # keep only duplicated order id\n",
        "not_single_purchase['Product Grouped'] = not_single_purchase.groupby('Order ID')['Product'].transform(lambda x: ','.join(x)) # create a colum with single row for each order\n",
        "sold_together = not_single_purchase[['Order ID', 'Product Grouped']].drop_duplicates() # delete duplicated rows"
      ]
    },
    {
      "cell_type": "code",
      "execution_count": 15,
      "metadata": {
        "id": "4geI1pj_7clR",
        "colab": {
          "base_uri": "https://localhost:8080/"
        },
        "outputId": "e1a31f7f-89dc-48aa-a241-a1a17b1046a4"
      },
      "outputs": [
        {
          "output_type": "stream",
          "name": "stdout",
          "text": [
            "('iPhone', 'Lightning Charging Cable') 1005\n",
            "('Google Phone', 'USB-C Charging Cable') 987\n",
            "('iPhone', 'Wired Headphones') 447\n",
            "('Google Phone', 'Wired Headphones') 414\n",
            "('Vareebadd Phone', 'USB-C Charging Cable') 361\n",
            "('iPhone', 'Apple Airpods Headphones') 360\n",
            "('Google Phone', 'Bose SoundSport Headphones') 220\n",
            "('USB-C Charging Cable', 'Wired Headphones') 160\n",
            "('Vareebadd Phone', 'Wired Headphones') 143\n",
            "('Lightning Charging Cable', 'Wired Headphones') 92\n"
          ]
        }
      ],
      "source": [
        "count = Counter() # list to manipulate\n",
        "\n",
        "# combine product grouped column on a list\n",
        "for row in sold_together['Product Grouped']:\n",
        "  row_list = row.split(',')\n",
        "  count.update(Counter(combinations(row_list, 2)))\n",
        "\n",
        "# count pairs\n",
        "for key, value in count.most_common(10):\n",
        "  print(key, value)\n",
        "\n",
        "together = dict(count.most_common(3)) # save Counter as a dict\n",
        "df_together = pd.DataFrame.from_dict(together, orient='index').reset_index() # read new dict as dataframe\n",
        "df_together.rename(columns={'index':'Product', 0:'qt'}, inplace=True) # rename columns\n",
        "df_together_split = pd.DataFrame(df_together['Product'].tolist(), columns=['Product 1', 'Product 2']) # separate column tuple as columns for each item\n",
        "df_together = pd.concat([df_together, df_together_split], axis=1) # join new columns on df\n",
        "df_together.drop('Product', axis=1, inplace=True) # drop column with products tuple\n",
        "df_together['Products'] = df_together['Product 1'] + ' + ' + df_together['Product 2'] # create new column with pair products on a string\n",
        "df_together.drop(['Product 1', 'Product 2'], axis=1, inplace=True) # drop product 1, product 2 columns"
      ]
    },
    {
      "cell_type": "markdown",
      "source": [
        "### sold_most"
      ],
      "metadata": {
        "id": "g-hqUXYKSguy"
      }
    },
    {
      "cell_type": "code",
      "source": [
        "sold_most = all_data.groupby('Product').sum()[['Quantity Ordered', 'Price Each']].nlargest(5,'Quantity Ordered').reset_index() # save top 5 most sold products on a variable\n",
        "sold_most_norm = (sold_most - sold_most.mean()*-1) / sold_most.std()"
      ],
      "metadata": {
        "colab": {
          "base_uri": "https://localhost:8080/"
        },
        "id": "F1jLevJySksL",
        "outputId": "85418e23-8e05-43de-8fa7-5b4dea569bba"
      },
      "execution_count": 16,
      "outputs": [
        {
          "output_type": "stream",
          "name": "stderr",
          "text": [
            "/usr/local/lib/python3.7/dist-packages/ipykernel_launcher.py:2: FutureWarning: Dropping of nuisance columns in DataFrame reductions (with 'numeric_only=None') is deprecated; in a future version this will raise TypeError.  Select only valid columns before calling the reduction.\n",
            "  \n"
          ]
        }
      ]
    },
    {
      "cell_type": "markdown",
      "source": [
        "# Def Function\n",
        "\n",
        "This is a function I created to annotate on bar charts, I believe it is much more readable with the numbers on the bar instead of having it on the labels on the left."
      ],
      "metadata": {
        "id": "BDSbcZei3Gzz"
      }
    },
    {
      "cell_type": "code",
      "source": [
        "# create function to annotate label on the bars of the chart\n",
        "def autolabel(rects, x, y, size, float=True):\n",
        "    '''\n",
        "    Identify values and create an annotation with the same on top of each bar of\n",
        "    the chart. Also abreviate the number if is higher than one million.\n",
        "    :param rects: insert the variable with chart rectangles.\n",
        "    :param x: change position based on x value.\n",
        "    :param y: change position based on y value.\n",
        "    :param size: change text size.\n",
        "    :param float: altera a exibição do número caso seja float. default = True\n",
        "    '''\n",
        "    for rect in rects: # loop chart rectangles\n",
        "        height = rect.get_height() # save rectangle rect on a variable\n",
        "        if height > 400000: # abreviate large numbers\n",
        "          ann = height/1000000\n",
        "        else: # do nto abreviate if not large\n",
        "          ann = height\n",
        "        if float == True: \n",
        "          ax.annotate(\n",
        "                      f\"{ann:,.2f} M\", # anottate height on rectangle M can be a string to inset next to it\n",
        "                      xy=(rect.get_x() + rect.get_width(),  height), # anottation position\n",
        "                      xytext=(x,y),  # micro adjustment on annotation position can be passed as argument\n",
        "                      textcoords=\"offset points\", # position\n",
        "                      ha='center', # position\n",
        "                      va='bottom', # position\n",
        "                      fontsize=size, # fontsize\n",
        "                      color=\"white\", # color\n",
        "                      )\n",
        "        else:\n",
        "          ax.annotate(\n",
        "                      f\"{ann}\", # anottate height on rectangle M can be a string to inset next to it\n",
        "                      xy=(rect.get_x() + rect.get_width(),  height), # anottation position\n",
        "                      xytext=(x,y),  # micro adjustment on annotation position can be passed as argument\n",
        "                      textcoords=\"offset points\", # position\n",
        "                      ha='center', # position\n",
        "                      va='bottom', # position \n",
        "                      fontsize=size, # fontsize\n",
        "                      color=\"white\", # color\n",
        "                      )"
      ],
      "metadata": {
        "id": "E8q6qORe3MGB"
      },
      "execution_count": 17,
      "outputs": []
    },
    {
      "cell_type": "markdown",
      "source": [
        "# Answering some questions.\n",
        "\n",
        "This is the start of the fun part! With all the work done on the data I can start to make some questions and try to answer them. Let's see what I can do with it."
      ],
      "metadata": {
        "id": "ViqT1mcuczo4"
      }
    },
    {
      "cell_type": "markdown",
      "metadata": {
        "id": "hJIp6Laz3ctl"
      },
      "source": [
        "# What was the best month for sales? And how much was earned that month?"
      ]
    },
    {
      "cell_type": "code",
      "source": [
        "#@title\n",
        "# plot\n",
        "fig, ax = plt.subplots() # set figure and axis\n",
        "sales_month.plot(kind='line', ax=ax, figsize=(8,4), # plot\n",
        "                 color='#253760', # color of the line and markers\n",
        "                 marker='o', markevery=[3, 9, 11], clip_on=False) # set markers\n",
        "\n",
        "# remove corners\n",
        "ax.spines['right'].set_visible(False) # remove right corner\n",
        "ax.spines['top'].set_visible(False) # remove top corner\n",
        "\n",
        "# set corners color\n",
        "ax.spines[\"bottom\"].set_color('#787878') # set bottom color\n",
        "ax.spines[\"left\"].set_color('#787878') # set left color\n",
        "\n",
        "# plotar título\n",
        "ax.set_title('Sales per Month', # text\n",
        "             loc='left', # position\n",
        "             fontsize=16, # fontsize\n",
        "             fontweight='bold', #fontweight\n",
        "             color='#787878', # color\n",
        "             pad=18) # distance from border to chart\n",
        "\n",
        "# describing text \n",
        "fig.text(0.92, 0.5, # position\n",
        "         \"$\\\\bf{RESULTS}$\\n\"\n",
        "         \"of sales on 1 year period.\\n\"\n",
        "         \"Highlighted is the 3\\n\"\n",
        "         \"months with the highest sales.\"\n",
        "         ,\n",
        "         fontsize=14, # fontsize\n",
        "         color='#787878') # color\n",
        "\n",
        "# set label style\n",
        "ax.set_xlabel('') # hide label name\n",
        "ax.tick_params(colors='#787878', which='both') # change tick color\n",
        "\n",
        "# remove legend\n",
        "ax.get_legend().remove()\n",
        "\n",
        "# change font style\n",
        "plt.rcParams['font.family'] = 'sans-serif'\n",
        "\n",
        "# annotation\n",
        "for index, row in sales_month.nlargest(3,'Sales').iterrows(): # read each index row for top 3 sales_month\n",
        "    ax.annotate(xy=(index, row['Sales']), xycoords='data', xytext=(0,10), textcoords='offset points',# positioning annotation\n",
        "            color='#5e5e5e', # color\n",
        "            text=f\"{row['Sales']/1000000:.2f} Million\", # annotation text\n",
        "            fontsize=12, # fontsize\n",
        "            horizontalalignment='center', # alignment\n",
        "            verticalalignment='center') # alignment\n",
        "\n",
        "plt.show()"
      ],
      "metadata": {
        "colab": {
          "base_uri": "https://localhost:8080/",
          "height": 408
        },
        "id": "7z04N9sZ05UB",
        "outputId": "cef736d6-91d1-49aa-886d-f84abb0a7da4",
        "cellView": "form"
      },
      "execution_count": 18,
      "outputs": [
        {
          "output_type": "display_data",
          "data": {
            "text/plain": [
              "<Figure size 576x288 with 1 Axes>"
            ],
            "image/svg+xml": "<?xml version=\"1.0\" encoding=\"utf-8\" standalone=\"no\"?>\n<!DOCTYPE svg PUBLIC \"-//W3C//DTD SVG 1.1//EN\"\n  \"http://www.w3.org/Graphics/SVG/1.1/DTD/svg11.dtd\">\n<svg xmlns:xlink=\"http://www.w3.org/1999/xlink\" width=\"700.921563pt\" height=\"289.873438pt\" viewBox=\"0 0 700.921563 289.873438\" xmlns=\"http://www.w3.org/2000/svg\" version=\"1.1\">\n <metadata>\n  <rdf:RDF xmlns:dc=\"http://purl.org/dc/elements/1.1/\" xmlns:cc=\"http://creativecommons.org/ns#\" xmlns:rdf=\"http://www.w3.org/1999/02/22-rdf-syntax-ns#\">\n   <cc:Work>\n    <dc:type rdf:resource=\"http://purl.org/dc/dcmitype/StillImage\"/>\n    <dc:date>2022-03-30T14:37:03.925223</dc:date>\n    <dc:format>image/svg+xml</dc:format>\n    <dc:creator>\n     <cc:Agent>\n      <dc:title>Matplotlib v3.5.1, https://matplotlib.org/</dc:title>\n     </cc:Agent>\n    </dc:creator>\n   </cc:Work>\n  </rdf:RDF>\n </metadata>\n <defs>\n  <style type=\"text/css\">*{stroke-linejoin: round; stroke-linecap: butt}</style>\n </defs>\n <g id=\"figure_1\">\n  <g id=\"patch_1\">\n   <path d=\"M 0 289.873438 \nL 700.921563 289.873438 \nL 700.921563 0 \nL 0 0 \nL 0 289.873438 \nz\n\" style=\"fill: none\"/>\n  </g>\n  <g id=\"axes_1\">\n   <g id=\"patch_2\">\n    <path d=\"M 20.5625 254.7975 \nL 466.9625 254.7975 \nL 466.9625 37.3575 \nL 20.5625 37.3575 \nz\n\" style=\"fill: #ffffff\"/>\n   </g>\n   <g id=\"matplotlib.axis_1\">\n    <g id=\"xtick_1\">\n     <g id=\"line2d_1\">\n      <defs>\n       <path id=\"m4ce5b68582\" d=\"M 0 0 \nL 0 3.5 \n\" style=\"stroke: #787878; stroke-width: 0.8\"/>\n      </defs>\n      <g>\n       <use xlink:href=\"#m4ce5b68582\" x=\"20.5625\" y=\"254.7975\" style=\"fill: #787878; stroke: #787878; stroke-width: 0.8\"/>\n      </g>\n     </g>\n     <g id=\"text_1\">\n      <!-- Jan -->\n      <g style=\"fill: #787878\" transform=\"translate(12.854688 269.395938)scale(0.1 -0.1)\">\n       <defs>\n        <path id=\"DejaVuSans-4a\" d=\"M 628 4666 \nL 1259 4666 \nL 1259 325 \nQ 1259 -519 939 -900 \nQ 619 -1281 -91 -1281 \nL -331 -1281 \nL -331 -750 \nL -134 -750 \nQ 284 -750 456 -515 \nQ 628 -281 628 325 \nL 628 4666 \nz\n\" transform=\"scale(0.015625)\"/>\n        <path id=\"DejaVuSans-61\" d=\"M 2194 1759 \nQ 1497 1759 1228 1600 \nQ 959 1441 959 1056 \nQ 959 750 1161 570 \nQ 1363 391 1709 391 \nQ 2188 391 2477 730 \nQ 2766 1069 2766 1631 \nL 2766 1759 \nL 2194 1759 \nz\nM 3341 1997 \nL 3341 0 \nL 2766 0 \nL 2766 531 \nQ 2569 213 2275 61 \nQ 1981 -91 1556 -91 \nQ 1019 -91 701 211 \nQ 384 513 384 1019 \nQ 384 1609 779 1909 \nQ 1175 2209 1959 2209 \nL 2766 2209 \nL 2766 2266 \nQ 2766 2663 2505 2880 \nQ 2244 3097 1772 3097 \nQ 1472 3097 1187 3025 \nQ 903 2953 641 2809 \nL 641 3341 \nQ 956 3463 1253 3523 \nQ 1550 3584 1831 3584 \nQ 2591 3584 2966 3190 \nQ 3341 2797 3341 1997 \nz\n\" transform=\"scale(0.015625)\"/>\n        <path id=\"DejaVuSans-6e\" d=\"M 3513 2113 \nL 3513 0 \nL 2938 0 \nL 2938 2094 \nQ 2938 2591 2744 2837 \nQ 2550 3084 2163 3084 \nQ 1697 3084 1428 2787 \nQ 1159 2491 1159 1978 \nL 1159 0 \nL 581 0 \nL 581 3500 \nL 1159 3500 \nL 1159 2956 \nQ 1366 3272 1645 3428 \nQ 1925 3584 2291 3584 \nQ 2894 3584 3203 3211 \nQ 3513 2838 3513 2113 \nz\n\" transform=\"scale(0.015625)\"/>\n       </defs>\n       <use xlink:href=\"#DejaVuSans-4a\"/>\n       <use xlink:href=\"#DejaVuSans-61\" x=\"29.492188\"/>\n       <use xlink:href=\"#DejaVuSans-6e\" x=\"90.771484\"/>\n      </g>\n      <!-- 2019 -->\n      <g style=\"fill: #787878\" transform=\"translate(7.8375 280.59375)scale(0.1 -0.1)\">\n       <defs>\n        <path id=\"DejaVuSans-32\" d=\"M 1228 531 \nL 3431 531 \nL 3431 0 \nL 469 0 \nL 469 531 \nQ 828 903 1448 1529 \nQ 2069 2156 2228 2338 \nQ 2531 2678 2651 2914 \nQ 2772 3150 2772 3378 \nQ 2772 3750 2511 3984 \nQ 2250 4219 1831 4219 \nQ 1534 4219 1204 4116 \nQ 875 4013 500 3803 \nL 500 4441 \nQ 881 4594 1212 4672 \nQ 1544 4750 1819 4750 \nQ 2544 4750 2975 4387 \nQ 3406 4025 3406 3419 \nQ 3406 3131 3298 2873 \nQ 3191 2616 2906 2266 \nQ 2828 2175 2409 1742 \nQ 1991 1309 1228 531 \nz\n\" transform=\"scale(0.015625)\"/>\n        <path id=\"DejaVuSans-30\" d=\"M 2034 4250 \nQ 1547 4250 1301 3770 \nQ 1056 3291 1056 2328 \nQ 1056 1369 1301 889 \nQ 1547 409 2034 409 \nQ 2525 409 2770 889 \nQ 3016 1369 3016 2328 \nQ 3016 3291 2770 3770 \nQ 2525 4250 2034 4250 \nz\nM 2034 4750 \nQ 2819 4750 3233 4129 \nQ 3647 3509 3647 2328 \nQ 3647 1150 3233 529 \nQ 2819 -91 2034 -91 \nQ 1250 -91 836 529 \nQ 422 1150 422 2328 \nQ 422 3509 836 4129 \nQ 1250 4750 2034 4750 \nz\n\" transform=\"scale(0.015625)\"/>\n        <path id=\"DejaVuSans-31\" d=\"M 794 531 \nL 1825 531 \nL 1825 4091 \nL 703 3866 \nL 703 4441 \nL 1819 4666 \nL 2450 4666 \nL 2450 531 \nL 3481 531 \nL 3481 0 \nL 794 0 \nL 794 531 \nz\n\" transform=\"scale(0.015625)\"/>\n        <path id=\"DejaVuSans-39\" d=\"M 703 97 \nL 703 672 \nQ 941 559 1184 500 \nQ 1428 441 1663 441 \nQ 2288 441 2617 861 \nQ 2947 1281 2994 2138 \nQ 2813 1869 2534 1725 \nQ 2256 1581 1919 1581 \nQ 1219 1581 811 2004 \nQ 403 2428 403 3163 \nQ 403 3881 828 4315 \nQ 1253 4750 1959 4750 \nQ 2769 4750 3195 4129 \nQ 3622 3509 3622 2328 \nQ 3622 1225 3098 567 \nQ 2575 -91 1691 -91 \nQ 1453 -91 1209 -44 \nQ 966 3 703 97 \nz\nM 1959 2075 \nQ 2384 2075 2632 2365 \nQ 2881 2656 2881 3163 \nQ 2881 3666 2632 3958 \nQ 2384 4250 1959 4250 \nQ 1534 4250 1286 3958 \nQ 1038 3666 1038 3163 \nQ 1038 2656 1286 2365 \nQ 1534 2075 1959 2075 \nz\n\" transform=\"scale(0.015625)\"/>\n       </defs>\n       <use xlink:href=\"#DejaVuSans-32\"/>\n       <use xlink:href=\"#DejaVuSans-30\" x=\"63.623047\"/>\n       <use xlink:href=\"#DejaVuSans-31\" x=\"127.246094\"/>\n       <use xlink:href=\"#DejaVuSans-39\" x=\"190.869141\"/>\n      </g>\n     </g>\n    </g>\n    <g id=\"xtick_2\">\n     <g id=\"line2d_2\">\n      <g>\n       <use xlink:href=\"#m4ce5b68582\" x=\"466.9625\" y=\"254.7975\" style=\"fill: #787878; stroke: #787878; stroke-width: 0.8\"/>\n      </g>\n     </g>\n     <g id=\"text_2\">\n      <!-- Jan -->\n      <g style=\"fill: #787878\" transform=\"translate(459.254687 269.395938)scale(0.1 -0.1)\">\n       <use xlink:href=\"#DejaVuSans-4a\"/>\n       <use xlink:href=\"#DejaVuSans-61\" x=\"29.492188\"/>\n       <use xlink:href=\"#DejaVuSans-6e\" x=\"90.771484\"/>\n      </g>\n      <!-- 2020 -->\n      <g style=\"fill: #787878\" transform=\"translate(454.2375 280.59375)scale(0.1 -0.1)\">\n       <use xlink:href=\"#DejaVuSans-32\"/>\n       <use xlink:href=\"#DejaVuSans-30\" x=\"63.623047\"/>\n       <use xlink:href=\"#DejaVuSans-32\" x=\"127.246094\"/>\n       <use xlink:href=\"#DejaVuSans-30\" x=\"190.869141\"/>\n      </g>\n     </g>\n    </g>\n    <g id=\"xtick_3\">\n     <g id=\"line2d_3\">\n      <defs>\n       <path id=\"ma92cdd19bf\" d=\"M 0 0 \nL 0 2 \n\" style=\"stroke: #787878; stroke-width: 0.6\"/>\n      </defs>\n      <g>\n       <use xlink:href=\"#ma92cdd19bf\" x=\"57.7625\" y=\"254.7975\" style=\"fill: #787878; stroke: #787878; stroke-width: 0.6\"/>\n      </g>\n     </g>\n     <g id=\"text_3\">\n      <!-- Feb -->\n      <g style=\"fill: #787878\" transform=\"translate(48.910938 267.795938)scale(0.1 -0.1)\">\n       <defs>\n        <path id=\"DejaVuSans-46\" d=\"M 628 4666 \nL 3309 4666 \nL 3309 4134 \nL 1259 4134 \nL 1259 2759 \nL 3109 2759 \nL 3109 2228 \nL 1259 2228 \nL 1259 0 \nL 628 0 \nL 628 4666 \nz\n\" transform=\"scale(0.015625)\"/>\n        <path id=\"DejaVuSans-65\" d=\"M 3597 1894 \nL 3597 1613 \nL 953 1613 \nQ 991 1019 1311 708 \nQ 1631 397 2203 397 \nQ 2534 397 2845 478 \nQ 3156 559 3463 722 \nL 3463 178 \nQ 3153 47 2828 -22 \nQ 2503 -91 2169 -91 \nQ 1331 -91 842 396 \nQ 353 884 353 1716 \nQ 353 2575 817 3079 \nQ 1281 3584 2069 3584 \nQ 2775 3584 3186 3129 \nQ 3597 2675 3597 1894 \nz\nM 3022 2063 \nQ 3016 2534 2758 2815 \nQ 2500 3097 2075 3097 \nQ 1594 3097 1305 2825 \nQ 1016 2553 972 2059 \nL 3022 2063 \nz\n\" transform=\"scale(0.015625)\"/>\n        <path id=\"DejaVuSans-62\" d=\"M 3116 1747 \nQ 3116 2381 2855 2742 \nQ 2594 3103 2138 3103 \nQ 1681 3103 1420 2742 \nQ 1159 2381 1159 1747 \nQ 1159 1113 1420 752 \nQ 1681 391 2138 391 \nQ 2594 391 2855 752 \nQ 3116 1113 3116 1747 \nz\nM 1159 2969 \nQ 1341 3281 1617 3432 \nQ 1894 3584 2278 3584 \nQ 2916 3584 3314 3078 \nQ 3713 2572 3713 1747 \nQ 3713 922 3314 415 \nQ 2916 -91 2278 -91 \nQ 1894 -91 1617 61 \nQ 1341 213 1159 525 \nL 1159 0 \nL 581 0 \nL 581 4863 \nL 1159 4863 \nL 1159 2969 \nz\n\" transform=\"scale(0.015625)\"/>\n       </defs>\n       <use xlink:href=\"#DejaVuSans-46\"/>\n       <use xlink:href=\"#DejaVuSans-65\" x=\"52.019531\"/>\n       <use xlink:href=\"#DejaVuSans-62\" x=\"113.542969\"/>\n      </g>\n     </g>\n    </g>\n    <g id=\"xtick_4\">\n     <g id=\"line2d_4\">\n      <g>\n       <use xlink:href=\"#ma92cdd19bf\" x=\"94.9625\" y=\"254.7975\" style=\"fill: #787878; stroke: #787878; stroke-width: 0.6\"/>\n      </g>\n     </g>\n     <g id=\"text_4\">\n      <!-- Mar -->\n      <g style=\"fill: #787878\" transform=\"translate(85.528906 267.795938)scale(0.1 -0.1)\">\n       <defs>\n        <path id=\"DejaVuSans-4d\" d=\"M 628 4666 \nL 1569 4666 \nL 2759 1491 \nL 3956 4666 \nL 4897 4666 \nL 4897 0 \nL 4281 0 \nL 4281 4097 \nL 3078 897 \nL 2444 897 \nL 1241 4097 \nL 1241 0 \nL 628 0 \nL 628 4666 \nz\n\" transform=\"scale(0.015625)\"/>\n        <path id=\"DejaVuSans-72\" d=\"M 2631 2963 \nQ 2534 3019 2420 3045 \nQ 2306 3072 2169 3072 \nQ 1681 3072 1420 2755 \nQ 1159 2438 1159 1844 \nL 1159 0 \nL 581 0 \nL 581 3500 \nL 1159 3500 \nL 1159 2956 \nQ 1341 3275 1631 3429 \nQ 1922 3584 2338 3584 \nQ 2397 3584 2469 3576 \nQ 2541 3569 2628 3553 \nL 2631 2963 \nz\n\" transform=\"scale(0.015625)\"/>\n       </defs>\n       <use xlink:href=\"#DejaVuSans-4d\"/>\n       <use xlink:href=\"#DejaVuSans-61\" x=\"86.279297\"/>\n       <use xlink:href=\"#DejaVuSans-72\" x=\"147.558594\"/>\n      </g>\n     </g>\n    </g>\n    <g id=\"xtick_5\">\n     <g id=\"line2d_5\">\n      <g>\n       <use xlink:href=\"#ma92cdd19bf\" x=\"132.1625\" y=\"254.7975\" style=\"fill: #787878; stroke: #787878; stroke-width: 0.6\"/>\n      </g>\n     </g>\n     <g id=\"text_5\">\n      <!-- Apr -->\n      <g style=\"fill: #787878\" transform=\"translate(123.5125 267.795938)scale(0.1 -0.1)\">\n       <defs>\n        <path id=\"DejaVuSans-41\" d=\"M 2188 4044 \nL 1331 1722 \nL 3047 1722 \nL 2188 4044 \nz\nM 1831 4666 \nL 2547 4666 \nL 4325 0 \nL 3669 0 \nL 3244 1197 \nL 1141 1197 \nL 716 0 \nL 50 0 \nL 1831 4666 \nz\n\" transform=\"scale(0.015625)\"/>\n        <path id=\"DejaVuSans-70\" d=\"M 1159 525 \nL 1159 -1331 \nL 581 -1331 \nL 581 3500 \nL 1159 3500 \nL 1159 2969 \nQ 1341 3281 1617 3432 \nQ 1894 3584 2278 3584 \nQ 2916 3584 3314 3078 \nQ 3713 2572 3713 1747 \nQ 3713 922 3314 415 \nQ 2916 -91 2278 -91 \nQ 1894 -91 1617 61 \nQ 1341 213 1159 525 \nz\nM 3116 1747 \nQ 3116 2381 2855 2742 \nQ 2594 3103 2138 3103 \nQ 1681 3103 1420 2742 \nQ 1159 2381 1159 1747 \nQ 1159 1113 1420 752 \nQ 1681 391 2138 391 \nQ 2594 391 2855 752 \nQ 3116 1113 3116 1747 \nz\n\" transform=\"scale(0.015625)\"/>\n       </defs>\n       <use xlink:href=\"#DejaVuSans-41\"/>\n       <use xlink:href=\"#DejaVuSans-70\" x=\"68.408203\"/>\n       <use xlink:href=\"#DejaVuSans-72\" x=\"131.884766\"/>\n      </g>\n     </g>\n    </g>\n    <g id=\"xtick_6\">\n     <g id=\"line2d_6\">\n      <g>\n       <use xlink:href=\"#ma92cdd19bf\" x=\"169.3625\" y=\"254.7975\" style=\"fill: #787878; stroke: #787878; stroke-width: 0.6\"/>\n      </g>\n     </g>\n     <g id=\"text_6\">\n      <!-- May -->\n      <g style=\"fill: #787878\" transform=\"translate(159.025 267.795938)scale(0.1 -0.1)\">\n       <defs>\n        <path id=\"DejaVuSans-79\" d=\"M 2059 -325 \nQ 1816 -950 1584 -1140 \nQ 1353 -1331 966 -1331 \nL 506 -1331 \nL 506 -850 \nL 844 -850 \nQ 1081 -850 1212 -737 \nQ 1344 -625 1503 -206 \nL 1606 56 \nL 191 3500 \nL 800 3500 \nL 1894 763 \nL 2988 3500 \nL 3597 3500 \nL 2059 -325 \nz\n\" transform=\"scale(0.015625)\"/>\n       </defs>\n       <use xlink:href=\"#DejaVuSans-4d\"/>\n       <use xlink:href=\"#DejaVuSans-61\" x=\"86.279297\"/>\n       <use xlink:href=\"#DejaVuSans-79\" x=\"147.558594\"/>\n      </g>\n     </g>\n    </g>\n    <g id=\"xtick_7\">\n     <g id=\"line2d_7\">\n      <g>\n       <use xlink:href=\"#ma92cdd19bf\" x=\"206.5625\" y=\"254.7975\" style=\"fill: #787878; stroke: #787878; stroke-width: 0.6\"/>\n      </g>\n     </g>\n     <g id=\"text_7\">\n      <!-- Jun -->\n      <g style=\"fill: #787878\" transform=\"translate(198.75 267.795938)scale(0.1 -0.1)\">\n       <defs>\n        <path id=\"DejaVuSans-75\" d=\"M 544 1381 \nL 544 3500 \nL 1119 3500 \nL 1119 1403 \nQ 1119 906 1312 657 \nQ 1506 409 1894 409 \nQ 2359 409 2629 706 \nQ 2900 1003 2900 1516 \nL 2900 3500 \nL 3475 3500 \nL 3475 0 \nL 2900 0 \nL 2900 538 \nQ 2691 219 2414 64 \nQ 2138 -91 1772 -91 \nQ 1169 -91 856 284 \nQ 544 659 544 1381 \nz\nM 1991 3584 \nL 1991 3584 \nz\n\" transform=\"scale(0.015625)\"/>\n       </defs>\n       <use xlink:href=\"#DejaVuSans-4a\"/>\n       <use xlink:href=\"#DejaVuSans-75\" x=\"29.492188\"/>\n       <use xlink:href=\"#DejaVuSans-6e\" x=\"92.871094\"/>\n      </g>\n     </g>\n    </g>\n    <g id=\"xtick_8\">\n     <g id=\"line2d_8\">\n      <g>\n       <use xlink:href=\"#ma92cdd19bf\" x=\"243.7625\" y=\"254.7975\" style=\"fill: #787878; stroke: #787878; stroke-width: 0.6\"/>\n      </g>\n     </g>\n     <g id=\"text_8\">\n      <!-- Jul -->\n      <g style=\"fill: #787878\" transform=\"translate(237.729688 267.795938)scale(0.1 -0.1)\">\n       <defs>\n        <path id=\"DejaVuSans-6c\" d=\"M 603 4863 \nL 1178 4863 \nL 1178 0 \nL 603 0 \nL 603 4863 \nz\n\" transform=\"scale(0.015625)\"/>\n       </defs>\n       <use xlink:href=\"#DejaVuSans-4a\"/>\n       <use xlink:href=\"#DejaVuSans-75\" x=\"29.492188\"/>\n       <use xlink:href=\"#DejaVuSans-6c\" x=\"92.871094\"/>\n      </g>\n     </g>\n    </g>\n    <g id=\"xtick_9\">\n     <g id=\"line2d_9\">\n      <g>\n       <use xlink:href=\"#ma92cdd19bf\" x=\"280.9625\" y=\"254.7975\" style=\"fill: #787878; stroke: #787878; stroke-width: 0.6\"/>\n      </g>\n     </g>\n     <g id=\"text_9\">\n      <!-- Aug -->\n      <g style=\"fill: #787878\" transform=\"translate(271.199219 267.795938)scale(0.1 -0.1)\">\n       <defs>\n        <path id=\"DejaVuSans-67\" d=\"M 2906 1791 \nQ 2906 2416 2648 2759 \nQ 2391 3103 1925 3103 \nQ 1463 3103 1205 2759 \nQ 947 2416 947 1791 \nQ 947 1169 1205 825 \nQ 1463 481 1925 481 \nQ 2391 481 2648 825 \nQ 2906 1169 2906 1791 \nz\nM 3481 434 \nQ 3481 -459 3084 -895 \nQ 2688 -1331 1869 -1331 \nQ 1566 -1331 1297 -1286 \nQ 1028 -1241 775 -1147 \nL 775 -588 \nQ 1028 -725 1275 -790 \nQ 1522 -856 1778 -856 \nQ 2344 -856 2625 -561 \nQ 2906 -266 2906 331 \nL 2906 616 \nQ 2728 306 2450 153 \nQ 2172 0 1784 0 \nQ 1141 0 747 490 \nQ 353 981 353 1791 \nQ 353 2603 747 3093 \nQ 1141 3584 1784 3584 \nQ 2172 3584 2450 3431 \nQ 2728 3278 2906 2969 \nL 2906 3500 \nL 3481 3500 \nL 3481 434 \nz\n\" transform=\"scale(0.015625)\"/>\n       </defs>\n       <use xlink:href=\"#DejaVuSans-41\"/>\n       <use xlink:href=\"#DejaVuSans-75\" x=\"68.408203\"/>\n       <use xlink:href=\"#DejaVuSans-67\" x=\"131.787109\"/>\n      </g>\n     </g>\n    </g>\n    <g id=\"xtick_10\">\n     <g id=\"line2d_10\">\n      <g>\n       <use xlink:href=\"#ma92cdd19bf\" x=\"318.1625\" y=\"254.7975\" style=\"fill: #787878; stroke: #787878; stroke-width: 0.6\"/>\n      </g>\n     </g>\n     <g id=\"text_10\">\n      <!-- Sep -->\n      <g style=\"fill: #787878\" transform=\"translate(308.7375 267.795938)scale(0.1 -0.1)\">\n       <defs>\n        <path id=\"DejaVuSans-53\" d=\"M 3425 4513 \nL 3425 3897 \nQ 3066 4069 2747 4153 \nQ 2428 4238 2131 4238 \nQ 1616 4238 1336 4038 \nQ 1056 3838 1056 3469 \nQ 1056 3159 1242 3001 \nQ 1428 2844 1947 2747 \nL 2328 2669 \nQ 3034 2534 3370 2195 \nQ 3706 1856 3706 1288 \nQ 3706 609 3251 259 \nQ 2797 -91 1919 -91 \nQ 1588 -91 1214 -16 \nQ 841 59 441 206 \nL 441 856 \nQ 825 641 1194 531 \nQ 1563 422 1919 422 \nQ 2459 422 2753 634 \nQ 3047 847 3047 1241 \nQ 3047 1584 2836 1778 \nQ 2625 1972 2144 2069 \nL 1759 2144 \nQ 1053 2284 737 2584 \nQ 422 2884 422 3419 \nQ 422 4038 858 4394 \nQ 1294 4750 2059 4750 \nQ 2388 4750 2728 4690 \nQ 3069 4631 3425 4513 \nz\n\" transform=\"scale(0.015625)\"/>\n       </defs>\n       <use xlink:href=\"#DejaVuSans-53\"/>\n       <use xlink:href=\"#DejaVuSans-65\" x=\"63.476562\"/>\n       <use xlink:href=\"#DejaVuSans-70\" x=\"125\"/>\n      </g>\n     </g>\n    </g>\n    <g id=\"xtick_11\">\n     <g id=\"line2d_11\">\n      <g>\n       <use xlink:href=\"#ma92cdd19bf\" x=\"355.3625\" y=\"254.7975\" style=\"fill: #787878; stroke: #787878; stroke-width: 0.6\"/>\n      </g>\n     </g>\n     <g id=\"text_11\">\n      <!-- Oct -->\n      <g style=\"fill: #787878\" transform=\"translate(346.717187 267.795938)scale(0.1 -0.1)\">\n       <defs>\n        <path id=\"DejaVuSans-4f\" d=\"M 2522 4238 \nQ 1834 4238 1429 3725 \nQ 1025 3213 1025 2328 \nQ 1025 1447 1429 934 \nQ 1834 422 2522 422 \nQ 3209 422 3611 934 \nQ 4013 1447 4013 2328 \nQ 4013 3213 3611 3725 \nQ 3209 4238 2522 4238 \nz\nM 2522 4750 \nQ 3503 4750 4090 4092 \nQ 4678 3434 4678 2328 \nQ 4678 1225 4090 567 \nQ 3503 -91 2522 -91 \nQ 1538 -91 948 565 \nQ 359 1222 359 2328 \nQ 359 3434 948 4092 \nQ 1538 4750 2522 4750 \nz\n\" transform=\"scale(0.015625)\"/>\n        <path id=\"DejaVuSans-63\" d=\"M 3122 3366 \nL 3122 2828 \nQ 2878 2963 2633 3030 \nQ 2388 3097 2138 3097 \nQ 1578 3097 1268 2742 \nQ 959 2388 959 1747 \nQ 959 1106 1268 751 \nQ 1578 397 2138 397 \nQ 2388 397 2633 464 \nQ 2878 531 3122 666 \nL 3122 134 \nQ 2881 22 2623 -34 \nQ 2366 -91 2075 -91 \nQ 1284 -91 818 406 \nQ 353 903 353 1747 \nQ 353 2603 823 3093 \nQ 1294 3584 2113 3584 \nQ 2378 3584 2631 3529 \nQ 2884 3475 3122 3366 \nz\n\" transform=\"scale(0.015625)\"/>\n        <path id=\"DejaVuSans-74\" d=\"M 1172 4494 \nL 1172 3500 \nL 2356 3500 \nL 2356 3053 \nL 1172 3053 \nL 1172 1153 \nQ 1172 725 1289 603 \nQ 1406 481 1766 481 \nL 2356 481 \nL 2356 0 \nL 1766 0 \nQ 1100 0 847 248 \nQ 594 497 594 1153 \nL 594 3053 \nL 172 3053 \nL 172 3500 \nL 594 3500 \nL 594 4494 \nL 1172 4494 \nz\n\" transform=\"scale(0.015625)\"/>\n       </defs>\n       <use xlink:href=\"#DejaVuSans-4f\"/>\n       <use xlink:href=\"#DejaVuSans-63\" x=\"78.710938\"/>\n       <use xlink:href=\"#DejaVuSans-74\" x=\"133.691406\"/>\n      </g>\n     </g>\n    </g>\n    <g id=\"xtick_12\">\n     <g id=\"line2d_12\">\n      <g>\n       <use xlink:href=\"#ma92cdd19bf\" x=\"392.5625\" y=\"254.7975\" style=\"fill: #787878; stroke: #787878; stroke-width: 0.6\"/>\n      </g>\n     </g>\n     <g id=\"text_12\">\n      <!-- Nov -->\n      <g style=\"fill: #787878\" transform=\"translate(382.803125 267.795938)scale(0.1 -0.1)\">\n       <defs>\n        <path id=\"DejaVuSans-4e\" d=\"M 628 4666 \nL 1478 4666 \nL 3547 763 \nL 3547 4666 \nL 4159 4666 \nL 4159 0 \nL 3309 0 \nL 1241 3903 \nL 1241 0 \nL 628 0 \nL 628 4666 \nz\n\" transform=\"scale(0.015625)\"/>\n        <path id=\"DejaVuSans-6f\" d=\"M 1959 3097 \nQ 1497 3097 1228 2736 \nQ 959 2375 959 1747 \nQ 959 1119 1226 758 \nQ 1494 397 1959 397 \nQ 2419 397 2687 759 \nQ 2956 1122 2956 1747 \nQ 2956 2369 2687 2733 \nQ 2419 3097 1959 3097 \nz\nM 1959 3584 \nQ 2709 3584 3137 3096 \nQ 3566 2609 3566 1747 \nQ 3566 888 3137 398 \nQ 2709 -91 1959 -91 \nQ 1206 -91 779 398 \nQ 353 888 353 1747 \nQ 353 2609 779 3096 \nQ 1206 3584 1959 3584 \nz\n\" transform=\"scale(0.015625)\"/>\n        <path id=\"DejaVuSans-76\" d=\"M 191 3500 \nL 800 3500 \nL 1894 563 \nL 2988 3500 \nL 3597 3500 \nL 2284 0 \nL 1503 0 \nL 191 3500 \nz\n\" transform=\"scale(0.015625)\"/>\n       </defs>\n       <use xlink:href=\"#DejaVuSans-4e\"/>\n       <use xlink:href=\"#DejaVuSans-6f\" x=\"74.804688\"/>\n       <use xlink:href=\"#DejaVuSans-76\" x=\"135.986328\"/>\n      </g>\n     </g>\n    </g>\n    <g id=\"xtick_13\">\n     <g id=\"line2d_13\">\n      <g>\n       <use xlink:href=\"#ma92cdd19bf\" x=\"429.7625\" y=\"254.7975\" style=\"fill: #787878; stroke: #787878; stroke-width: 0.6\"/>\n      </g>\n     </g>\n     <g id=\"text_13\">\n      <!-- Dec -->\n      <g style=\"fill: #787878\" transform=\"translate(420.086719 267.795938)scale(0.1 -0.1)\">\n       <defs>\n        <path id=\"DejaVuSans-44\" d=\"M 1259 4147 \nL 1259 519 \nL 2022 519 \nQ 2988 519 3436 956 \nQ 3884 1394 3884 2338 \nQ 3884 3275 3436 3711 \nQ 2988 4147 2022 4147 \nL 1259 4147 \nz\nM 628 4666 \nL 1925 4666 \nQ 3281 4666 3915 4102 \nQ 4550 3538 4550 2338 \nQ 4550 1131 3912 565 \nQ 3275 0 1925 0 \nL 628 0 \nL 628 4666 \nz\n\" transform=\"scale(0.015625)\"/>\n       </defs>\n       <use xlink:href=\"#DejaVuSans-44\"/>\n       <use xlink:href=\"#DejaVuSans-65\" x=\"77.001953\"/>\n       <use xlink:href=\"#DejaVuSans-63\" x=\"138.525391\"/>\n      </g>\n     </g>\n    </g>\n   </g>\n   <g id=\"matplotlib.axis_2\">\n    <g id=\"ytick_1\">\n     <g id=\"line2d_14\">\n      <defs>\n       <path id=\"m478025f932\" d=\"M 0 0 \nL -3.5 0 \n\" style=\"stroke: #787878; stroke-width: 0.8\"/>\n      </defs>\n      <g>\n       <use xlink:href=\"#m478025f932\" x=\"20.5625\" y=\"245.28606\" style=\"fill: #787878; stroke: #787878; stroke-width: 0.8\"/>\n      </g>\n     </g>\n     <g id=\"text_14\">\n      <!-- 0 -->\n      <g style=\"fill: #787878\" transform=\"translate(7.2 249.085279)scale(0.1 -0.1)\">\n       <use xlink:href=\"#DejaVuSans-30\"/>\n      </g>\n     </g>\n    </g>\n    <g id=\"ytick_2\">\n     <g id=\"line2d_15\">\n      <g>\n       <use xlink:href=\"#m478025f932\" x=\"20.5625\" y=\"202.358271\" style=\"fill: #787878; stroke: #787878; stroke-width: 0.8\"/>\n      </g>\n     </g>\n     <g id=\"text_15\">\n      <!-- 1 -->\n      <g style=\"fill: #787878\" transform=\"translate(7.2 206.157489)scale(0.1 -0.1)\">\n       <use xlink:href=\"#DejaVuSans-31\"/>\n      </g>\n     </g>\n    </g>\n    <g id=\"ytick_3\">\n     <g id=\"line2d_16\">\n      <g>\n       <use xlink:href=\"#m478025f932\" x=\"20.5625\" y=\"159.430481\" style=\"fill: #787878; stroke: #787878; stroke-width: 0.8\"/>\n      </g>\n     </g>\n     <g id=\"text_16\">\n      <!-- 2 -->\n      <g style=\"fill: #787878\" transform=\"translate(7.2 163.2297)scale(0.1 -0.1)\">\n       <use xlink:href=\"#DejaVuSans-32\"/>\n      </g>\n     </g>\n    </g>\n    <g id=\"ytick_4\">\n     <g id=\"line2d_17\">\n      <g>\n       <use xlink:href=\"#m478025f932\" x=\"20.5625\" y=\"116.502692\" style=\"fill: #787878; stroke: #787878; stroke-width: 0.8\"/>\n      </g>\n     </g>\n     <g id=\"text_17\">\n      <!-- 3 -->\n      <g style=\"fill: #787878\" transform=\"translate(7.2 120.301911)scale(0.1 -0.1)\">\n       <defs>\n        <path id=\"DejaVuSans-33\" d=\"M 2597 2516 \nQ 3050 2419 3304 2112 \nQ 3559 1806 3559 1356 \nQ 3559 666 3084 287 \nQ 2609 -91 1734 -91 \nQ 1441 -91 1130 -33 \nQ 819 25 488 141 \nL 488 750 \nQ 750 597 1062 519 \nQ 1375 441 1716 441 \nQ 2309 441 2620 675 \nQ 2931 909 2931 1356 \nQ 2931 1769 2642 2001 \nQ 2353 2234 1838 2234 \nL 1294 2234 \nL 1294 2753 \nL 1863 2753 \nQ 2328 2753 2575 2939 \nQ 2822 3125 2822 3475 \nQ 2822 3834 2567 4026 \nQ 2313 4219 1838 4219 \nQ 1578 4219 1281 4162 \nQ 984 4106 628 3988 \nL 628 4550 \nQ 988 4650 1302 4700 \nQ 1616 4750 1894 4750 \nQ 2613 4750 3031 4423 \nQ 3450 4097 3450 3541 \nQ 3450 3153 3228 2886 \nQ 3006 2619 2597 2516 \nz\n\" transform=\"scale(0.015625)\"/>\n       </defs>\n       <use xlink:href=\"#DejaVuSans-33\"/>\n      </g>\n     </g>\n    </g>\n    <g id=\"ytick_5\">\n     <g id=\"line2d_18\">\n      <g>\n       <use xlink:href=\"#m478025f932\" x=\"20.5625\" y=\"73.574903\" style=\"fill: #787878; stroke: #787878; stroke-width: 0.8\"/>\n      </g>\n     </g>\n     <g id=\"text_18\">\n      <!-- 4 -->\n      <g style=\"fill: #787878\" transform=\"translate(7.2 77.374122)scale(0.1 -0.1)\">\n       <defs>\n        <path id=\"DejaVuSans-34\" d=\"M 2419 4116 \nL 825 1625 \nL 2419 1625 \nL 2419 4116 \nz\nM 2253 4666 \nL 3047 4666 \nL 3047 1625 \nL 3713 1625 \nL 3713 1100 \nL 3047 1100 \nL 3047 0 \nL 2419 0 \nL 2419 1100 \nL 313 1100 \nL 313 1709 \nL 2253 4666 \nz\n\" transform=\"scale(0.015625)\"/>\n       </defs>\n       <use xlink:href=\"#DejaVuSans-34\"/>\n      </g>\n     </g>\n    </g>\n    <g id=\"text_19\">\n     <!-- 1e6 -->\n     <g style=\"fill: #787878\" transform=\"translate(20.5625 34.3575)scale(0.1 -0.1)\">\n      <defs>\n       <path id=\"DejaVuSans-36\" d=\"M 2113 2584 \nQ 1688 2584 1439 2293 \nQ 1191 2003 1191 1497 \nQ 1191 994 1439 701 \nQ 1688 409 2113 409 \nQ 2538 409 2786 701 \nQ 3034 994 3034 1497 \nQ 3034 2003 2786 2293 \nQ 2538 2584 2113 2584 \nz\nM 3366 4563 \nL 3366 3988 \nQ 3128 4100 2886 4159 \nQ 2644 4219 2406 4219 \nQ 1781 4219 1451 3797 \nQ 1122 3375 1075 2522 \nQ 1259 2794 1537 2939 \nQ 1816 3084 2150 3084 \nQ 2853 3084 3261 2657 \nQ 3669 2231 3669 1497 \nQ 3669 778 3244 343 \nQ 2819 -91 2113 -91 \nQ 1303 -91 875 529 \nQ 447 1150 447 2328 \nQ 447 3434 972 4092 \nQ 1497 4750 2381 4750 \nQ 2619 4750 2861 4703 \nQ 3103 4656 3366 4563 \nz\n\" transform=\"scale(0.015625)\"/>\n      </defs>\n      <use xlink:href=\"#DejaVuSans-31\"/>\n      <use xlink:href=\"#DejaVuSans-65\" x=\"63.623047\"/>\n      <use xlink:href=\"#DejaVuSans-36\" x=\"125.146484\"/>\n     </g>\n    </g>\n   </g>\n   <g id=\"line2d_19\">\n    <path d=\"M 20.5625 167.432803 \nL 57.7625 150.758106 \nL 94.9625 124.783446 \nL 132.1625 99.732082 \nL 169.3625 109.951622 \nL 206.5625 134.626708 \nL 243.7625 131.6229 \nL 280.9625 148.936016 \nL 318.1625 155.242441 \nL 355.3625 84.876636 \nL 392.5625 107.934168 \nL 429.7625 47.241136 \nL 466.9625 244.913864 \n\" style=\"fill: none; stroke: #253760; stroke-width: 1.5; stroke-linecap: square\"/>\n    <defs>\n     <path id=\"ma854f8cdf6\" d=\"M 0 3 \nC 0.795609 3 1.55874 2.683901 2.12132 2.12132 \nC 2.683901 1.55874 3 0.795609 3 0 \nC 3 -0.795609 2.683901 -1.55874 2.12132 -2.12132 \nC 1.55874 -2.683901 0.795609 -3 0 -3 \nC -0.795609 -3 -1.55874 -2.683901 -2.12132 -2.12132 \nC -2.683901 -1.55874 -3 -0.795609 -3 0 \nC -3 0.795609 -2.683901 1.55874 -2.12132 2.12132 \nC -1.55874 2.683901 -0.795609 3 0 3 \nz\n\" style=\"stroke: #253760\"/>\n    </defs>\n    <g>\n     <use xlink:href=\"#ma854f8cdf6\" x=\"132.1625\" y=\"99.732082\" style=\"fill: #253760; stroke: #253760\"/>\n     <use xlink:href=\"#ma854f8cdf6\" x=\"355.3625\" y=\"84.876636\" style=\"fill: #253760; stroke: #253760\"/>\n     <use xlink:href=\"#ma854f8cdf6\" x=\"429.7625\" y=\"47.241136\" style=\"fill: #253760; stroke: #253760\"/>\n    </g>\n   </g>\n   <g id=\"patch_3\">\n    <path d=\"M 20.5625 254.7975 \nL 20.5625 37.3575 \n\" style=\"fill: none; stroke: #787878; stroke-width: 0.8; stroke-linejoin: miter; stroke-linecap: square\"/>\n   </g>\n   <g id=\"patch_4\">\n    <path d=\"M 20.5625 254.7975 \nL 466.9625 254.7975 \n\" style=\"fill: none; stroke: #787878; stroke-width: 0.8; stroke-linejoin: miter; stroke-linecap: square\"/>\n   </g>\n   <g id=\"text_20\">\n    <!-- 4.61 Million -->\n    <g style=\"fill: #5e5e5e\" transform=\"translate(395.178125 40.552386)scale(0.12 -0.12)\">\n     <defs>\n      <path id=\"DejaVuSans-2e\" d=\"M 684 794 \nL 1344 794 \nL 1344 0 \nL 684 0 \nL 684 794 \nz\n\" transform=\"scale(0.015625)\"/>\n      <path id=\"DejaVuSans-20\" transform=\"scale(0.015625)\"/>\n      <path id=\"DejaVuSans-69\" d=\"M 603 3500 \nL 1178 3500 \nL 1178 0 \nL 603 0 \nL 603 3500 \nz\nM 603 4863 \nL 1178 4863 \nL 1178 4134 \nL 603 4134 \nL 603 4863 \nz\n\" transform=\"scale(0.015625)\"/>\n     </defs>\n     <use xlink:href=\"#DejaVuSans-34\"/>\n     <use xlink:href=\"#DejaVuSans-2e\" x=\"63.623047\"/>\n     <use xlink:href=\"#DejaVuSans-36\" x=\"95.410156\"/>\n     <use xlink:href=\"#DejaVuSans-31\" x=\"159.033203\"/>\n     <use xlink:href=\"#DejaVuSans-20\" x=\"222.65625\"/>\n     <use xlink:href=\"#DejaVuSans-4d\" x=\"254.443359\"/>\n     <use xlink:href=\"#DejaVuSans-69\" x=\"340.722656\"/>\n     <use xlink:href=\"#DejaVuSans-6c\" x=\"368.505859\"/>\n     <use xlink:href=\"#DejaVuSans-6c\" x=\"396.289062\"/>\n     <use xlink:href=\"#DejaVuSans-69\" x=\"424.072266\"/>\n     <use xlink:href=\"#DejaVuSans-6f\" x=\"451.855469\"/>\n     <use xlink:href=\"#DejaVuSans-6e\" x=\"513.037109\"/>\n    </g>\n   </g>\n   <g id=\"text_21\">\n    <!-- 3.74 Million -->\n    <g style=\"fill: #5e5e5e\" transform=\"translate(320.778125 78.187886)scale(0.12 -0.12)\">\n     <defs>\n      <path id=\"DejaVuSans-37\" d=\"M 525 4666 \nL 3525 4666 \nL 3525 4397 \nL 1831 0 \nL 1172 0 \nL 2766 4134 \nL 525 4134 \nL 525 4666 \nz\n\" transform=\"scale(0.015625)\"/>\n     </defs>\n     <use xlink:href=\"#DejaVuSans-33\"/>\n     <use xlink:href=\"#DejaVuSans-2e\" x=\"63.623047\"/>\n     <use xlink:href=\"#DejaVuSans-37\" x=\"95.410156\"/>\n     <use xlink:href=\"#DejaVuSans-34\" x=\"159.033203\"/>\n     <use xlink:href=\"#DejaVuSans-20\" x=\"222.65625\"/>\n     <use xlink:href=\"#DejaVuSans-4d\" x=\"254.443359\"/>\n     <use xlink:href=\"#DejaVuSans-69\" x=\"340.722656\"/>\n     <use xlink:href=\"#DejaVuSans-6c\" x=\"368.505859\"/>\n     <use xlink:href=\"#DejaVuSans-6c\" x=\"396.289062\"/>\n     <use xlink:href=\"#DejaVuSans-69\" x=\"424.072266\"/>\n     <use xlink:href=\"#DejaVuSans-6f\" x=\"451.855469\"/>\n     <use xlink:href=\"#DejaVuSans-6e\" x=\"513.037109\"/>\n    </g>\n   </g>\n   <g id=\"text_22\">\n    <!-- 3.39 Million -->\n    <g style=\"fill: #5e5e5e\" transform=\"translate(97.578125 93.043332)scale(0.12 -0.12)\">\n     <use xlink:href=\"#DejaVuSans-33\"/>\n     <use xlink:href=\"#DejaVuSans-2e\" x=\"63.623047\"/>\n     <use xlink:href=\"#DejaVuSans-33\" x=\"95.410156\"/>\n     <use xlink:href=\"#DejaVuSans-39\" x=\"159.033203\"/>\n     <use xlink:href=\"#DejaVuSans-20\" x=\"222.65625\"/>\n     <use xlink:href=\"#DejaVuSans-4d\" x=\"254.443359\"/>\n     <use xlink:href=\"#DejaVuSans-69\" x=\"340.722656\"/>\n     <use xlink:href=\"#DejaVuSans-6c\" x=\"368.505859\"/>\n     <use xlink:href=\"#DejaVuSans-6c\" x=\"396.289062\"/>\n     <use xlink:href=\"#DejaVuSans-69\" x=\"424.072266\"/>\n     <use xlink:href=\"#DejaVuSans-6f\" x=\"451.855469\"/>\n     <use xlink:href=\"#DejaVuSans-6e\" x=\"513.037109\"/>\n    </g>\n   </g>\n   <g id=\"text_23\">\n    <!-- Sales per Month -->\n    <g style=\"fill: #787878\" transform=\"translate(20.5625 19.3575)scale(0.16 -0.16)\">\n     <defs>\n      <path id=\"DejaVuSans-Bold-53\" d=\"M 3834 4519 \nL 3834 3531 \nQ 3450 3703 3084 3790 \nQ 2719 3878 2394 3878 \nQ 1963 3878 1756 3759 \nQ 1550 3641 1550 3391 \nQ 1550 3203 1689 3098 \nQ 1828 2994 2194 2919 \nL 2706 2816 \nQ 3484 2659 3812 2340 \nQ 4141 2022 4141 1434 \nQ 4141 663 3683 286 \nQ 3225 -91 2284 -91 \nQ 1841 -91 1394 -6 \nQ 947 78 500 244 \nL 500 1259 \nQ 947 1022 1364 901 \nQ 1781 781 2169 781 \nQ 2563 781 2772 912 \nQ 2981 1044 2981 1288 \nQ 2981 1506 2839 1625 \nQ 2697 1744 2272 1838 \nL 1806 1941 \nQ 1106 2091 782 2419 \nQ 459 2747 459 3303 \nQ 459 4000 909 4375 \nQ 1359 4750 2203 4750 \nQ 2588 4750 2994 4692 \nQ 3400 4634 3834 4519 \nz\n\" transform=\"scale(0.015625)\"/>\n      <path id=\"DejaVuSans-Bold-61\" d=\"M 2106 1575 \nQ 1756 1575 1579 1456 \nQ 1403 1338 1403 1106 \nQ 1403 894 1545 773 \nQ 1688 653 1941 653 \nQ 2256 653 2472 879 \nQ 2688 1106 2688 1447 \nL 2688 1575 \nL 2106 1575 \nz\nM 3816 1997 \nL 3816 0 \nL 2688 0 \nL 2688 519 \nQ 2463 200 2181 54 \nQ 1900 -91 1497 -91 \nQ 953 -91 614 226 \nQ 275 544 275 1050 \nQ 275 1666 698 1953 \nQ 1122 2241 2028 2241 \nL 2688 2241 \nL 2688 2328 \nQ 2688 2594 2478 2717 \nQ 2269 2841 1825 2841 \nQ 1466 2841 1156 2769 \nQ 847 2697 581 2553 \nL 581 3406 \nQ 941 3494 1303 3539 \nQ 1666 3584 2028 3584 \nQ 2975 3584 3395 3211 \nQ 3816 2838 3816 1997 \nz\n\" transform=\"scale(0.015625)\"/>\n      <path id=\"DejaVuSans-Bold-6c\" d=\"M 538 4863 \nL 1656 4863 \nL 1656 0 \nL 538 0 \nL 538 4863 \nz\n\" transform=\"scale(0.015625)\"/>\n      <path id=\"DejaVuSans-Bold-65\" d=\"M 4031 1759 \nL 4031 1441 \nL 1416 1441 \nQ 1456 1047 1700 850 \nQ 1944 653 2381 653 \nQ 2734 653 3104 758 \nQ 3475 863 3866 1075 \nL 3866 213 \nQ 3469 63 3072 -14 \nQ 2675 -91 2278 -91 \nQ 1328 -91 801 392 \nQ 275 875 275 1747 \nQ 275 2603 792 3093 \nQ 1309 3584 2216 3584 \nQ 3041 3584 3536 3087 \nQ 4031 2591 4031 1759 \nz\nM 2881 2131 \nQ 2881 2450 2695 2645 \nQ 2509 2841 2209 2841 \nQ 1884 2841 1681 2658 \nQ 1478 2475 1428 2131 \nL 2881 2131 \nz\n\" transform=\"scale(0.015625)\"/>\n      <path id=\"DejaVuSans-Bold-73\" d=\"M 3272 3391 \nL 3272 2541 \nQ 2913 2691 2578 2766 \nQ 2244 2841 1947 2841 \nQ 1628 2841 1473 2761 \nQ 1319 2681 1319 2516 \nQ 1319 2381 1436 2309 \nQ 1553 2238 1856 2203 \nL 2053 2175 \nQ 2913 2066 3209 1816 \nQ 3506 1566 3506 1031 \nQ 3506 472 3093 190 \nQ 2681 -91 1863 -91 \nQ 1516 -91 1145 -36 \nQ 775 19 384 128 \nL 384 978 \nQ 719 816 1070 734 \nQ 1422 653 1784 653 \nQ 2113 653 2278 743 \nQ 2444 834 2444 1013 \nQ 2444 1163 2330 1236 \nQ 2216 1309 1875 1350 \nL 1678 1375 \nQ 931 1469 631 1722 \nQ 331 1975 331 2491 \nQ 331 3047 712 3315 \nQ 1094 3584 1881 3584 \nQ 2191 3584 2531 3537 \nQ 2872 3491 3272 3391 \nz\n\" transform=\"scale(0.015625)\"/>\n      <path id=\"DejaVuSans-Bold-20\" transform=\"scale(0.015625)\"/>\n      <path id=\"DejaVuSans-Bold-70\" d=\"M 1656 506 \nL 1656 -1331 \nL 538 -1331 \nL 538 3500 \nL 1656 3500 \nL 1656 2988 \nQ 1888 3294 2169 3439 \nQ 2450 3584 2816 3584 \nQ 3463 3584 3878 3070 \nQ 4294 2556 4294 1747 \nQ 4294 938 3878 423 \nQ 3463 -91 2816 -91 \nQ 2450 -91 2169 54 \nQ 1888 200 1656 506 \nz\nM 2400 2772 \nQ 2041 2772 1848 2508 \nQ 1656 2244 1656 1747 \nQ 1656 1250 1848 986 \nQ 2041 722 2400 722 \nQ 2759 722 2948 984 \nQ 3138 1247 3138 1747 \nQ 3138 2247 2948 2509 \nQ 2759 2772 2400 2772 \nz\n\" transform=\"scale(0.015625)\"/>\n      <path id=\"DejaVuSans-Bold-72\" d=\"M 3138 2547 \nQ 2991 2616 2845 2648 \nQ 2700 2681 2553 2681 \nQ 2122 2681 1889 2404 \nQ 1656 2128 1656 1613 \nL 1656 0 \nL 538 0 \nL 538 3500 \nL 1656 3500 \nL 1656 2925 \nQ 1872 3269 2151 3426 \nQ 2431 3584 2822 3584 \nQ 2878 3584 2943 3579 \nQ 3009 3575 3134 3559 \nL 3138 2547 \nz\n\" transform=\"scale(0.015625)\"/>\n      <path id=\"DejaVuSans-Bold-4d\" d=\"M 588 4666 \nL 2119 4666 \nL 3181 2169 \nL 4250 4666 \nL 5778 4666 \nL 5778 0 \nL 4641 0 \nL 4641 3413 \nL 3566 897 \nL 2803 897 \nL 1728 3413 \nL 1728 0 \nL 588 0 \nL 588 4666 \nz\n\" transform=\"scale(0.015625)\"/>\n      <path id=\"DejaVuSans-Bold-6f\" d=\"M 2203 2784 \nQ 1831 2784 1636 2517 \nQ 1441 2250 1441 1747 \nQ 1441 1244 1636 976 \nQ 1831 709 2203 709 \nQ 2569 709 2762 976 \nQ 2956 1244 2956 1747 \nQ 2956 2250 2762 2517 \nQ 2569 2784 2203 2784 \nz\nM 2203 3584 \nQ 3106 3584 3614 3096 \nQ 4122 2609 4122 1747 \nQ 4122 884 3614 396 \nQ 3106 -91 2203 -91 \nQ 1297 -91 786 396 \nQ 275 884 275 1747 \nQ 275 2609 786 3096 \nQ 1297 3584 2203 3584 \nz\n\" transform=\"scale(0.015625)\"/>\n      <path id=\"DejaVuSans-Bold-6e\" d=\"M 4056 2131 \nL 4056 0 \nL 2931 0 \nL 2931 347 \nL 2931 1631 \nQ 2931 2084 2911 2256 \nQ 2891 2428 2841 2509 \nQ 2775 2619 2662 2680 \nQ 2550 2741 2406 2741 \nQ 2056 2741 1856 2470 \nQ 1656 2200 1656 1722 \nL 1656 0 \nL 538 0 \nL 538 3500 \nL 1656 3500 \nL 1656 2988 \nQ 1909 3294 2193 3439 \nQ 2478 3584 2822 3584 \nQ 3428 3584 3742 3212 \nQ 4056 2841 4056 2131 \nz\n\" transform=\"scale(0.015625)\"/>\n      <path id=\"DejaVuSans-Bold-74\" d=\"M 1759 4494 \nL 1759 3500 \nL 2913 3500 \nL 2913 2700 \nL 1759 2700 \nL 1759 1216 \nQ 1759 972 1856 886 \nQ 1953 800 2241 800 \nL 2816 800 \nL 2816 0 \nL 1856 0 \nQ 1194 0 917 276 \nQ 641 553 641 1216 \nL 641 2700 \nL 84 2700 \nL 84 3500 \nL 641 3500 \nL 641 4494 \nL 1759 4494 \nz\n\" transform=\"scale(0.015625)\"/>\n      <path id=\"DejaVuSans-Bold-68\" d=\"M 4056 2131 \nL 4056 0 \nL 2931 0 \nL 2931 347 \nL 2931 1625 \nQ 2931 2084 2911 2256 \nQ 2891 2428 2841 2509 \nQ 2775 2619 2662 2680 \nQ 2550 2741 2406 2741 \nQ 2056 2741 1856 2470 \nQ 1656 2200 1656 1722 \nL 1656 0 \nL 538 0 \nL 538 4863 \nL 1656 4863 \nL 1656 2988 \nQ 1909 3294 2193 3439 \nQ 2478 3584 2822 3584 \nQ 3428 3584 3742 3212 \nQ 4056 2841 4056 2131 \nz\n\" transform=\"scale(0.015625)\"/>\n     </defs>\n     <use xlink:href=\"#DejaVuSans-Bold-53\"/>\n     <use xlink:href=\"#DejaVuSans-Bold-61\" x=\"72.021484\"/>\n     <use xlink:href=\"#DejaVuSans-Bold-6c\" x=\"139.501953\"/>\n     <use xlink:href=\"#DejaVuSans-Bold-65\" x=\"173.779297\"/>\n     <use xlink:href=\"#DejaVuSans-Bold-73\" x=\"241.601562\"/>\n     <use xlink:href=\"#DejaVuSans-Bold-20\" x=\"301.123047\"/>\n     <use xlink:href=\"#DejaVuSans-Bold-70\" x=\"335.9375\"/>\n     <use xlink:href=\"#DejaVuSans-Bold-65\" x=\"407.519531\"/>\n     <use xlink:href=\"#DejaVuSans-Bold-72\" x=\"475.341797\"/>\n     <use xlink:href=\"#DejaVuSans-Bold-20\" x=\"524.658203\"/>\n     <use xlink:href=\"#DejaVuSans-Bold-4d\" x=\"559.472656\"/>\n     <use xlink:href=\"#DejaVuSans-Bold-6f\" x=\"658.984375\"/>\n     <use xlink:href=\"#DejaVuSans-Bold-6e\" x=\"727.685547\"/>\n     <use xlink:href=\"#DejaVuSans-Bold-74\" x=\"798.876953\"/>\n     <use xlink:href=\"#DejaVuSans-Bold-68\" x=\"846.679688\"/>\n    </g>\n   </g>\n  </g>\n  <g id=\"text_24\">\n   <!-- $\\bf{RESULTS}$ -->\n   <g style=\"fill: #787878\" transform=\"translate(478.4825 99.766688)scale(0.14 -0.14)\">\n    <defs>\n     <path id=\"DejaVuSans-Bold-52\" d=\"M 2297 2597 \nQ 2675 2597 2839 2737 \nQ 3003 2878 3003 3200 \nQ 3003 3519 2839 3656 \nQ 2675 3794 2297 3794 \nL 1791 3794 \nL 1791 2597 \nL 2297 2597 \nz\nM 1791 1766 \nL 1791 0 \nL 588 0 \nL 588 4666 \nL 2425 4666 \nQ 3347 4666 3776 4356 \nQ 4206 4047 4206 3378 \nQ 4206 2916 3982 2619 \nQ 3759 2322 3309 2181 \nQ 3556 2125 3751 1926 \nQ 3947 1728 4147 1325 \nL 4800 0 \nL 3519 0 \nL 2950 1159 \nQ 2778 1509 2601 1637 \nQ 2425 1766 2131 1766 \nL 1791 1766 \nz\n\" transform=\"scale(0.015625)\"/>\n     <path id=\"DejaVuSans-Bold-45\" d=\"M 588 4666 \nL 3834 4666 \nL 3834 3756 \nL 1791 3756 \nL 1791 2888 \nL 3713 2888 \nL 3713 1978 \nL 1791 1978 \nL 1791 909 \nL 3903 909 \nL 3903 0 \nL 588 0 \nL 588 4666 \nz\n\" transform=\"scale(0.015625)\"/>\n     <path id=\"DejaVuSans-Bold-55\" d=\"M 588 4666 \nL 1791 4666 \nL 1791 1869 \nQ 1791 1291 1980 1042 \nQ 2169 794 2597 794 \nQ 3028 794 3217 1042 \nQ 3406 1291 3406 1869 \nL 3406 4666 \nL 4609 4666 \nL 4609 1869 \nQ 4609 878 4112 393 \nQ 3616 -91 2597 -91 \nQ 1581 -91 1084 393 \nQ 588 878 588 1869 \nL 588 4666 \nz\n\" transform=\"scale(0.015625)\"/>\n     <path id=\"DejaVuSans-Bold-4c\" d=\"M 588 4666 \nL 1791 4666 \nL 1791 909 \nL 3903 909 \nL 3903 0 \nL 588 0 \nL 588 4666 \nz\n\" transform=\"scale(0.015625)\"/>\n     <path id=\"DejaVuSans-Bold-54\" d=\"M 31 4666 \nL 4331 4666 \nL 4331 3756 \nL 2784 3756 \nL 2784 0 \nL 1581 0 \nL 1581 3756 \nL 31 3756 \nL 31 4666 \nz\n\" transform=\"scale(0.015625)\"/>\n    </defs>\n    <use xlink:href=\"#DejaVuSans-Bold-52\" transform=\"translate(0 0.78125)\"/>\n    <use xlink:href=\"#DejaVuSans-Bold-45\" transform=\"translate(77.001953 0.78125)\"/>\n    <use xlink:href=\"#DejaVuSans-Bold-53\" transform=\"translate(145.3125 0.78125)\"/>\n    <use xlink:href=\"#DejaVuSans-Bold-55\" transform=\"translate(217.333984 0.78125)\"/>\n    <use xlink:href=\"#DejaVuSans-Bold-4c\" transform=\"translate(298.535156 0.78125)\"/>\n    <use xlink:href=\"#DejaVuSans-Bold-54\" transform=\"translate(362.255859 0.78125)\"/>\n    <use xlink:href=\"#DejaVuSans-Bold-53\" transform=\"translate(430.46875 0.78125)\"/>\n   </g>\n   <!-- of sales on 1 year period. -->\n   <g style=\"fill: #787878\" transform=\"translate(478.4825 115.443625)scale(0.14 -0.14)\">\n    <defs>\n     <path id=\"DejaVuSans-66\" d=\"M 2375 4863 \nL 2375 4384 \nL 1825 4384 \nQ 1516 4384 1395 4259 \nQ 1275 4134 1275 3809 \nL 1275 3500 \nL 2222 3500 \nL 2222 3053 \nL 1275 3053 \nL 1275 0 \nL 697 0 \nL 697 3053 \nL 147 3053 \nL 147 3500 \nL 697 3500 \nL 697 3744 \nQ 697 4328 969 4595 \nQ 1241 4863 1831 4863 \nL 2375 4863 \nz\n\" transform=\"scale(0.015625)\"/>\n     <path id=\"DejaVuSans-73\" d=\"M 2834 3397 \nL 2834 2853 \nQ 2591 2978 2328 3040 \nQ 2066 3103 1784 3103 \nQ 1356 3103 1142 2972 \nQ 928 2841 928 2578 \nQ 928 2378 1081 2264 \nQ 1234 2150 1697 2047 \nL 1894 2003 \nQ 2506 1872 2764 1633 \nQ 3022 1394 3022 966 \nQ 3022 478 2636 193 \nQ 2250 -91 1575 -91 \nQ 1294 -91 989 -36 \nQ 684 19 347 128 \nL 347 722 \nQ 666 556 975 473 \nQ 1284 391 1588 391 \nQ 1994 391 2212 530 \nQ 2431 669 2431 922 \nQ 2431 1156 2273 1281 \nQ 2116 1406 1581 1522 \nL 1381 1569 \nQ 847 1681 609 1914 \nQ 372 2147 372 2553 \nQ 372 3047 722 3315 \nQ 1072 3584 1716 3584 \nQ 2034 3584 2315 3537 \nQ 2597 3491 2834 3397 \nz\n\" transform=\"scale(0.015625)\"/>\n     <path id=\"DejaVuSans-64\" d=\"M 2906 2969 \nL 2906 4863 \nL 3481 4863 \nL 3481 0 \nL 2906 0 \nL 2906 525 \nQ 2725 213 2448 61 \nQ 2172 -91 1784 -91 \nQ 1150 -91 751 415 \nQ 353 922 353 1747 \nQ 353 2572 751 3078 \nQ 1150 3584 1784 3584 \nQ 2172 3584 2448 3432 \nQ 2725 3281 2906 2969 \nz\nM 947 1747 \nQ 947 1113 1208 752 \nQ 1469 391 1925 391 \nQ 2381 391 2643 752 \nQ 2906 1113 2906 1747 \nQ 2906 2381 2643 2742 \nQ 2381 3103 1925 3103 \nQ 1469 3103 1208 2742 \nQ 947 2381 947 1747 \nz\n\" transform=\"scale(0.015625)\"/>\n    </defs>\n    <use xlink:href=\"#DejaVuSans-6f\"/>\n    <use xlink:href=\"#DejaVuSans-66\" x=\"61.181641\"/>\n    <use xlink:href=\"#DejaVuSans-20\" x=\"96.386719\"/>\n    <use xlink:href=\"#DejaVuSans-73\" x=\"128.173828\"/>\n    <use xlink:href=\"#DejaVuSans-61\" x=\"180.273438\"/>\n    <use xlink:href=\"#DejaVuSans-6c\" x=\"241.552734\"/>\n    <use xlink:href=\"#DejaVuSans-65\" x=\"269.335938\"/>\n    <use xlink:href=\"#DejaVuSans-73\" x=\"330.859375\"/>\n    <use xlink:href=\"#DejaVuSans-20\" x=\"382.958984\"/>\n    <use xlink:href=\"#DejaVuSans-6f\" x=\"414.746094\"/>\n    <use xlink:href=\"#DejaVuSans-6e\" x=\"475.927734\"/>\n    <use xlink:href=\"#DejaVuSans-20\" x=\"539.306641\"/>\n    <use xlink:href=\"#DejaVuSans-31\" x=\"571.09375\"/>\n    <use xlink:href=\"#DejaVuSans-20\" x=\"634.716797\"/>\n    <use xlink:href=\"#DejaVuSans-79\" x=\"666.503906\"/>\n    <use xlink:href=\"#DejaVuSans-65\" x=\"725.683594\"/>\n    <use xlink:href=\"#DejaVuSans-61\" x=\"787.207031\"/>\n    <use xlink:href=\"#DejaVuSans-72\" x=\"848.486328\"/>\n    <use xlink:href=\"#DejaVuSans-20\" x=\"889.599609\"/>\n    <use xlink:href=\"#DejaVuSans-70\" x=\"921.386719\"/>\n    <use xlink:href=\"#DejaVuSans-65\" x=\"984.863281\"/>\n    <use xlink:href=\"#DejaVuSans-72\" x=\"1046.386719\"/>\n    <use xlink:href=\"#DejaVuSans-69\" x=\"1087.5\"/>\n    <use xlink:href=\"#DejaVuSans-6f\" x=\"1115.283203\"/>\n    <use xlink:href=\"#DejaVuSans-64\" x=\"1176.464844\"/>\n    <use xlink:href=\"#DejaVuSans-2e\" x=\"1239.941406\"/>\n   </g>\n   <!-- Highlighted is the 3 -->\n   <g style=\"fill: #787878\" transform=\"translate(478.4825 131.120563)scale(0.14 -0.14)\">\n    <defs>\n     <path id=\"DejaVuSans-48\" d=\"M 628 4666 \nL 1259 4666 \nL 1259 2753 \nL 3553 2753 \nL 3553 4666 \nL 4184 4666 \nL 4184 0 \nL 3553 0 \nL 3553 2222 \nL 1259 2222 \nL 1259 0 \nL 628 0 \nL 628 4666 \nz\n\" transform=\"scale(0.015625)\"/>\n     <path id=\"DejaVuSans-68\" d=\"M 3513 2113 \nL 3513 0 \nL 2938 0 \nL 2938 2094 \nQ 2938 2591 2744 2837 \nQ 2550 3084 2163 3084 \nQ 1697 3084 1428 2787 \nQ 1159 2491 1159 1978 \nL 1159 0 \nL 581 0 \nL 581 4863 \nL 1159 4863 \nL 1159 2956 \nQ 1366 3272 1645 3428 \nQ 1925 3584 2291 3584 \nQ 2894 3584 3203 3211 \nQ 3513 2838 3513 2113 \nz\n\" transform=\"scale(0.015625)\"/>\n    </defs>\n    <use xlink:href=\"#DejaVuSans-48\"/>\n    <use xlink:href=\"#DejaVuSans-69\" x=\"75.195312\"/>\n    <use xlink:href=\"#DejaVuSans-67\" x=\"102.978516\"/>\n    <use xlink:href=\"#DejaVuSans-68\" x=\"166.455078\"/>\n    <use xlink:href=\"#DejaVuSans-6c\" x=\"229.833984\"/>\n    <use xlink:href=\"#DejaVuSans-69\" x=\"257.617188\"/>\n    <use xlink:href=\"#DejaVuSans-67\" x=\"285.400391\"/>\n    <use xlink:href=\"#DejaVuSans-68\" x=\"348.876953\"/>\n    <use xlink:href=\"#DejaVuSans-74\" x=\"412.255859\"/>\n    <use xlink:href=\"#DejaVuSans-65\" x=\"451.464844\"/>\n    <use xlink:href=\"#DejaVuSans-64\" x=\"512.988281\"/>\n    <use xlink:href=\"#DejaVuSans-20\" x=\"576.464844\"/>\n    <use xlink:href=\"#DejaVuSans-69\" x=\"608.251953\"/>\n    <use xlink:href=\"#DejaVuSans-73\" x=\"636.035156\"/>\n    <use xlink:href=\"#DejaVuSans-20\" x=\"688.134766\"/>\n    <use xlink:href=\"#DejaVuSans-74\" x=\"719.921875\"/>\n    <use xlink:href=\"#DejaVuSans-68\" x=\"759.130859\"/>\n    <use xlink:href=\"#DejaVuSans-65\" x=\"822.509766\"/>\n    <use xlink:href=\"#DejaVuSans-20\" x=\"884.033203\"/>\n    <use xlink:href=\"#DejaVuSans-33\" x=\"915.820312\"/>\n   </g>\n   <!-- months with the highest sales. -->\n   <g style=\"fill: #787878\" transform=\"translate(478.4825 146.7975)scale(0.14 -0.14)\">\n    <defs>\n     <path id=\"DejaVuSans-6d\" d=\"M 3328 2828 \nQ 3544 3216 3844 3400 \nQ 4144 3584 4550 3584 \nQ 5097 3584 5394 3201 \nQ 5691 2819 5691 2113 \nL 5691 0 \nL 5113 0 \nL 5113 2094 \nQ 5113 2597 4934 2840 \nQ 4756 3084 4391 3084 \nQ 3944 3084 3684 2787 \nQ 3425 2491 3425 1978 \nL 3425 0 \nL 2847 0 \nL 2847 2094 \nQ 2847 2600 2669 2842 \nQ 2491 3084 2119 3084 \nQ 1678 3084 1418 2786 \nQ 1159 2488 1159 1978 \nL 1159 0 \nL 581 0 \nL 581 3500 \nL 1159 3500 \nL 1159 2956 \nQ 1356 3278 1631 3431 \nQ 1906 3584 2284 3584 \nQ 2666 3584 2933 3390 \nQ 3200 3197 3328 2828 \nz\n\" transform=\"scale(0.015625)\"/>\n     <path id=\"DejaVuSans-77\" d=\"M 269 3500 \nL 844 3500 \nL 1563 769 \nL 2278 3500 \nL 2956 3500 \nL 3675 769 \nL 4391 3500 \nL 4966 3500 \nL 4050 0 \nL 3372 0 \nL 2619 2869 \nL 1863 0 \nL 1184 0 \nL 269 3500 \nz\n\" transform=\"scale(0.015625)\"/>\n    </defs>\n    <use xlink:href=\"#DejaVuSans-6d\"/>\n    <use xlink:href=\"#DejaVuSans-6f\" x=\"97.412109\"/>\n    <use xlink:href=\"#DejaVuSans-6e\" x=\"158.59375\"/>\n    <use xlink:href=\"#DejaVuSans-74\" x=\"221.972656\"/>\n    <use xlink:href=\"#DejaVuSans-68\" x=\"261.181641\"/>\n    <use xlink:href=\"#DejaVuSans-73\" x=\"324.560547\"/>\n    <use xlink:href=\"#DejaVuSans-20\" x=\"376.660156\"/>\n    <use xlink:href=\"#DejaVuSans-77\" x=\"408.447266\"/>\n    <use xlink:href=\"#DejaVuSans-69\" x=\"490.234375\"/>\n    <use xlink:href=\"#DejaVuSans-74\" x=\"518.017578\"/>\n    <use xlink:href=\"#DejaVuSans-68\" x=\"557.226562\"/>\n    <use xlink:href=\"#DejaVuSans-20\" x=\"620.605469\"/>\n    <use xlink:href=\"#DejaVuSans-74\" x=\"652.392578\"/>\n    <use xlink:href=\"#DejaVuSans-68\" x=\"691.601562\"/>\n    <use xlink:href=\"#DejaVuSans-65\" x=\"754.980469\"/>\n    <use xlink:href=\"#DejaVuSans-20\" x=\"816.503906\"/>\n    <use xlink:href=\"#DejaVuSans-68\" x=\"848.291016\"/>\n    <use xlink:href=\"#DejaVuSans-69\" x=\"911.669922\"/>\n    <use xlink:href=\"#DejaVuSans-67\" x=\"939.453125\"/>\n    <use xlink:href=\"#DejaVuSans-68\" x=\"1002.929688\"/>\n    <use xlink:href=\"#DejaVuSans-65\" x=\"1066.308594\"/>\n    <use xlink:href=\"#DejaVuSans-73\" x=\"1127.832031\"/>\n    <use xlink:href=\"#DejaVuSans-74\" x=\"1179.931641\"/>\n    <use xlink:href=\"#DejaVuSans-20\" x=\"1219.140625\"/>\n    <use xlink:href=\"#DejaVuSans-73\" x=\"1250.927734\"/>\n    <use xlink:href=\"#DejaVuSans-61\" x=\"1303.027344\"/>\n    <use xlink:href=\"#DejaVuSans-6c\" x=\"1364.306641\"/>\n    <use xlink:href=\"#DejaVuSans-65\" x=\"1392.089844\"/>\n    <use xlink:href=\"#DejaVuSans-73\" x=\"1453.613281\"/>\n    <use xlink:href=\"#DejaVuSans-2e\" x=\"1505.712891\"/>\n   </g>\n  </g>\n </g>\n</svg>\n"
          },
          "metadata": {
            "needs_background": "light"
          }
        }
      ]
    },
    {
      "cell_type": "markdown",
      "source": [
        "The higher number on December definitevely is for Christmas sale, for October I believe is in preparation for thanksgiving, besides that I can see I high value on April too, I would like to have more data to guess if this is recurrent and if we can expect the sales on this month to be higher on every year."
      ],
      "metadata": {
        "id": "m5p48V37U3-x"
      }
    },
    {
      "cell_type": "markdown",
      "metadata": {
        "id": "IQmJkpGp3jzZ"
      },
      "source": [
        "# What city had the highest value of sales?"
      ]
    },
    {
      "cell_type": "code",
      "source": [
        "#@title\n",
        "# plot \n",
        "fig, ax = plt.subplots(figsize=(12,6)) # set figure and axis\n",
        "rect = ax.bar(sales_citystate.sort_values('Sales', ascending=False)['City'], sales_citystate.sort_values('Sales', ascending=False)['Sales'], width=0.8, color='#253760') # plot\n",
        "\n",
        "# plotar título\n",
        "ax.set_title('Sales per City', # text\n",
        "             loc='left', # position\n",
        "             fontsize=18, # fontsize\n",
        "             fontweight='bold', #fontweight\n",
        "             color='#787878') # color\n",
        "\n",
        "# remove corners\n",
        "ax.spines['right'].set_visible(False) # remove right corner\n",
        "ax.spines['top'].set_visible(False) # remove top corner\n",
        "ax.spines['bottom'].set_visible(False) # remove bottom corner\n",
        "ax.spines['left'].set_visible(False) # remove left corner\n",
        "\n",
        "# label rotation\n",
        "plt.xticks(rotation=30)\n",
        "\n",
        "# remove y ticks\n",
        "plt.gca().axes.get_yaxis().set_visible(False)\n",
        "\n",
        "# remove x ticks\n",
        "plt.tick_params(\n",
        "    axis='both',         \n",
        "    which='both',     \n",
        "    bottom=False,      \n",
        "    top=False,         \n",
        "    labelbottom=True)\n",
        "          \n",
        "# describing text \n",
        "fig.text(0.24, 0.65, # position\n",
        "         \"$\\\\bf{San Fracisco, CA}$\\n\"\n",
        "         \"is leading sales by\\n\"\n",
        "         \"a large gap.\\n\"\n",
        "         ,\n",
        "         fontsize=14, # fontsize\n",
        "         color='#787878') # color\n",
        "        \n",
        "# plotar labels dentro das barras\n",
        "autolabel(rect, -25, -17, 12)"
      ],
      "metadata": {
        "colab": {
          "base_uri": "https://localhost:8080/",
          "height": 581
        },
        "id": "zPAoU0jGI0lf",
        "outputId": "1f82d30b-928f-4254-bcac-6b7c01237804",
        "cellView": "form"
      },
      "execution_count": 19,
      "outputs": [
        {
          "output_type": "display_data",
          "data": {
            "text/plain": [
              "<Figure size 864x432 with 1 Axes>"
            ],
            "image/svg+xml": "<?xml version=\"1.0\" encoding=\"utf-8\" standalone=\"no\"?>\n<!DOCTYPE svg PUBLIC \"-//W3C//DTD SVG 1.1//EN\"\n  \"http://www.w3.org/Graphics/SVG/1.1/DTD/svg11.dtd\">\n<svg xmlns:xlink=\"http://www.w3.org/1999/xlink\" width=\"684pt\" height=\"420.057752pt\" viewBox=\"0 0 684 420.057752\" xmlns=\"http://www.w3.org/2000/svg\" version=\"1.1\">\n <metadata>\n  <rdf:RDF xmlns:dc=\"http://purl.org/dc/elements/1.1/\" xmlns:cc=\"http://creativecommons.org/ns#\" xmlns:rdf=\"http://www.w3.org/1999/02/22-rdf-syntax-ns#\">\n   <cc:Work>\n    <dc:type rdf:resource=\"http://purl.org/dc/dcmitype/StillImage\"/>\n    <dc:date>2022-03-30T14:37:04.338271</dc:date>\n    <dc:format>image/svg+xml</dc:format>\n    <dc:creator>\n     <cc:Agent>\n      <dc:title>Matplotlib v3.5.1, https://matplotlib.org/</dc:title>\n     </cc:Agent>\n    </dc:creator>\n   </cc:Work>\n  </rdf:RDF>\n </metadata>\n <defs>\n  <style type=\"text/css\">*{stroke-linejoin: round; stroke-linecap: butt}</style>\n </defs>\n <g id=\"figure_1\">\n  <g id=\"patch_1\">\n   <path d=\"M 0 420.057752 \nL 684 420.057752 \nL 684 0 \nL 0 0 \nL 0 420.057752 \nz\n\" style=\"fill: none\"/>\n  </g>\n  <g id=\"axes_1\">\n   <g id=\"patch_2\">\n    <path d=\"M 7.2 353.037187 \nL 676.8 353.037187 \nL 676.8 26.877187 \nL 7.2 26.877187 \nz\n\" style=\"fill: #ffffff\"/>\n   </g>\n   <g id=\"patch_3\">\n    <path d=\"M 37.636364 353.037187 \nL 87.328386 353.037187 \nL 87.328386 42.408616 \nL 37.636364 42.408616 \nz\n\" clip-path=\"url(#p3746ed85da)\" style=\"fill: #253760\"/>\n   </g>\n   <g id=\"patch_4\">\n    <path d=\"M 99.751391 353.037187 \nL 149.443414 353.037187 \nL 149.443414 148.040519 \nL 99.751391 148.040519 \nz\n\" clip-path=\"url(#p3746ed85da)\" style=\"fill: #253760\"/>\n   </g>\n   <g id=\"patch_5\">\n    <path d=\"M 161.866419 353.037187 \nL 211.558442 353.037187 \nL 211.558442 177.675955 \nL 161.866419 177.675955 \nz\n\" clip-path=\"url(#p3746ed85da)\" style=\"fill: #253760\"/>\n   </g>\n   <g id=\"patch_6\">\n    <path d=\"M 223.981447 353.037187 \nL 273.673469 353.037187 \nL 273.673469 215.372874 \nL 223.981447 215.372874 \nz\n\" clip-path=\"url(#p3746ed85da)\" style=\"fill: #253760\"/>\n   </g>\n   <g id=\"patch_7\">\n    <path d=\"M 286.096475 353.037187 \nL 335.788497 353.037187 \nL 335.788497 247.936691 \nL 286.096475 247.936691 \nz\n\" clip-path=\"url(#p3746ed85da)\" style=\"fill: #253760\"/>\n   </g>\n   <g id=\"patch_8\">\n    <path d=\"M 348.211503 353.037187 \nL 397.903525 353.037187 \nL 397.903525 248.971462 \nL 348.211503 248.971462 \nz\n\" clip-path=\"url(#p3746ed85da)\" style=\"fill: #253760\"/>\n   </g>\n   <g id=\"patch_9\">\n    <path d=\"M 410.326531 353.037187 \nL 460.018553 353.037187 \nL 460.018553 249.731657 \nL 410.326531 249.731657 \nz\n\" clip-path=\"url(#p3746ed85da)\" style=\"fill: #253760\"/>\n   </g>\n   <g id=\"patch_10\">\n    <path d=\"M 472.441558 353.037187 \nL 522.133581 353.037187 \nL 522.133581 282.704511 \nL 472.441558 282.704511 \nz\n\" clip-path=\"url(#p3746ed85da)\" style=\"fill: #253760\"/>\n   </g>\n   <g id=\"patch_11\">\n    <path d=\"M 534.556586 353.037187 \nL 584.248609 353.037187 \nL 584.248609 284.627586 \nL 534.556586 284.627586 \nz\n\" clip-path=\"url(#p3746ed85da)\" style=\"fill: #253760\"/>\n   </g>\n   <g id=\"patch_12\">\n    <path d=\"M 596.671614 353.037187 \nL 646.363636 353.037187 \nL 646.363636 336.127926 \nL 596.671614 336.127926 \nz\n\" clip-path=\"url(#p3746ed85da)\" style=\"fill: #253760\"/>\n   </g>\n   <g id=\"matplotlib.axis_1\">\n    <g id=\"xtick_1\">\n     <g id=\"text_1\">\n      <!-- San Francisco, CA -->\n      <g transform=\"translate(25.376705 411.05669)rotate(-30)scale(0.1 -0.1)\">\n       <defs>\n        <path id=\"DejaVuSans-53\" d=\"M 3425 4513 \nL 3425 3897 \nQ 3066 4069 2747 4153 \nQ 2428 4238 2131 4238 \nQ 1616 4238 1336 4038 \nQ 1056 3838 1056 3469 \nQ 1056 3159 1242 3001 \nQ 1428 2844 1947 2747 \nL 2328 2669 \nQ 3034 2534 3370 2195 \nQ 3706 1856 3706 1288 \nQ 3706 609 3251 259 \nQ 2797 -91 1919 -91 \nQ 1588 -91 1214 -16 \nQ 841 59 441 206 \nL 441 856 \nQ 825 641 1194 531 \nQ 1563 422 1919 422 \nQ 2459 422 2753 634 \nQ 3047 847 3047 1241 \nQ 3047 1584 2836 1778 \nQ 2625 1972 2144 2069 \nL 1759 2144 \nQ 1053 2284 737 2584 \nQ 422 2884 422 3419 \nQ 422 4038 858 4394 \nQ 1294 4750 2059 4750 \nQ 2388 4750 2728 4690 \nQ 3069 4631 3425 4513 \nz\n\" transform=\"scale(0.015625)\"/>\n        <path id=\"DejaVuSans-61\" d=\"M 2194 1759 \nQ 1497 1759 1228 1600 \nQ 959 1441 959 1056 \nQ 959 750 1161 570 \nQ 1363 391 1709 391 \nQ 2188 391 2477 730 \nQ 2766 1069 2766 1631 \nL 2766 1759 \nL 2194 1759 \nz\nM 3341 1997 \nL 3341 0 \nL 2766 0 \nL 2766 531 \nQ 2569 213 2275 61 \nQ 1981 -91 1556 -91 \nQ 1019 -91 701 211 \nQ 384 513 384 1019 \nQ 384 1609 779 1909 \nQ 1175 2209 1959 2209 \nL 2766 2209 \nL 2766 2266 \nQ 2766 2663 2505 2880 \nQ 2244 3097 1772 3097 \nQ 1472 3097 1187 3025 \nQ 903 2953 641 2809 \nL 641 3341 \nQ 956 3463 1253 3523 \nQ 1550 3584 1831 3584 \nQ 2591 3584 2966 3190 \nQ 3341 2797 3341 1997 \nz\n\" transform=\"scale(0.015625)\"/>\n        <path id=\"DejaVuSans-6e\" d=\"M 3513 2113 \nL 3513 0 \nL 2938 0 \nL 2938 2094 \nQ 2938 2591 2744 2837 \nQ 2550 3084 2163 3084 \nQ 1697 3084 1428 2787 \nQ 1159 2491 1159 1978 \nL 1159 0 \nL 581 0 \nL 581 3500 \nL 1159 3500 \nL 1159 2956 \nQ 1366 3272 1645 3428 \nQ 1925 3584 2291 3584 \nQ 2894 3584 3203 3211 \nQ 3513 2838 3513 2113 \nz\n\" transform=\"scale(0.015625)\"/>\n        <path id=\"DejaVuSans-20\" transform=\"scale(0.015625)\"/>\n        <path id=\"DejaVuSans-46\" d=\"M 628 4666 \nL 3309 4666 \nL 3309 4134 \nL 1259 4134 \nL 1259 2759 \nL 3109 2759 \nL 3109 2228 \nL 1259 2228 \nL 1259 0 \nL 628 0 \nL 628 4666 \nz\n\" transform=\"scale(0.015625)\"/>\n        <path id=\"DejaVuSans-72\" d=\"M 2631 2963 \nQ 2534 3019 2420 3045 \nQ 2306 3072 2169 3072 \nQ 1681 3072 1420 2755 \nQ 1159 2438 1159 1844 \nL 1159 0 \nL 581 0 \nL 581 3500 \nL 1159 3500 \nL 1159 2956 \nQ 1341 3275 1631 3429 \nQ 1922 3584 2338 3584 \nQ 2397 3584 2469 3576 \nQ 2541 3569 2628 3553 \nL 2631 2963 \nz\n\" transform=\"scale(0.015625)\"/>\n        <path id=\"DejaVuSans-63\" d=\"M 3122 3366 \nL 3122 2828 \nQ 2878 2963 2633 3030 \nQ 2388 3097 2138 3097 \nQ 1578 3097 1268 2742 \nQ 959 2388 959 1747 \nQ 959 1106 1268 751 \nQ 1578 397 2138 397 \nQ 2388 397 2633 464 \nQ 2878 531 3122 666 \nL 3122 134 \nQ 2881 22 2623 -34 \nQ 2366 -91 2075 -91 \nQ 1284 -91 818 406 \nQ 353 903 353 1747 \nQ 353 2603 823 3093 \nQ 1294 3584 2113 3584 \nQ 2378 3584 2631 3529 \nQ 2884 3475 3122 3366 \nz\n\" transform=\"scale(0.015625)\"/>\n        <path id=\"DejaVuSans-69\" d=\"M 603 3500 \nL 1178 3500 \nL 1178 0 \nL 603 0 \nL 603 3500 \nz\nM 603 4863 \nL 1178 4863 \nL 1178 4134 \nL 603 4134 \nL 603 4863 \nz\n\" transform=\"scale(0.015625)\"/>\n        <path id=\"DejaVuSans-73\" d=\"M 2834 3397 \nL 2834 2853 \nQ 2591 2978 2328 3040 \nQ 2066 3103 1784 3103 \nQ 1356 3103 1142 2972 \nQ 928 2841 928 2578 \nQ 928 2378 1081 2264 \nQ 1234 2150 1697 2047 \nL 1894 2003 \nQ 2506 1872 2764 1633 \nQ 3022 1394 3022 966 \nQ 3022 478 2636 193 \nQ 2250 -91 1575 -91 \nQ 1294 -91 989 -36 \nQ 684 19 347 128 \nL 347 722 \nQ 666 556 975 473 \nQ 1284 391 1588 391 \nQ 1994 391 2212 530 \nQ 2431 669 2431 922 \nQ 2431 1156 2273 1281 \nQ 2116 1406 1581 1522 \nL 1381 1569 \nQ 847 1681 609 1914 \nQ 372 2147 372 2553 \nQ 372 3047 722 3315 \nQ 1072 3584 1716 3584 \nQ 2034 3584 2315 3537 \nQ 2597 3491 2834 3397 \nz\n\" transform=\"scale(0.015625)\"/>\n        <path id=\"DejaVuSans-6f\" d=\"M 1959 3097 \nQ 1497 3097 1228 2736 \nQ 959 2375 959 1747 \nQ 959 1119 1226 758 \nQ 1494 397 1959 397 \nQ 2419 397 2687 759 \nQ 2956 1122 2956 1747 \nQ 2956 2369 2687 2733 \nQ 2419 3097 1959 3097 \nz\nM 1959 3584 \nQ 2709 3584 3137 3096 \nQ 3566 2609 3566 1747 \nQ 3566 888 3137 398 \nQ 2709 -91 1959 -91 \nQ 1206 -91 779 398 \nQ 353 888 353 1747 \nQ 353 2609 779 3096 \nQ 1206 3584 1959 3584 \nz\n\" transform=\"scale(0.015625)\"/>\n        <path id=\"DejaVuSans-2c\" d=\"M 750 794 \nL 1409 794 \nL 1409 256 \nL 897 -744 \nL 494 -744 \nL 750 256 \nL 750 794 \nz\n\" transform=\"scale(0.015625)\"/>\n        <path id=\"DejaVuSans-43\" d=\"M 4122 4306 \nL 4122 3641 \nQ 3803 3938 3442 4084 \nQ 3081 4231 2675 4231 \nQ 1875 4231 1450 3742 \nQ 1025 3253 1025 2328 \nQ 1025 1406 1450 917 \nQ 1875 428 2675 428 \nQ 3081 428 3442 575 \nQ 3803 722 4122 1019 \nL 4122 359 \nQ 3791 134 3420 21 \nQ 3050 -91 2638 -91 \nQ 1578 -91 968 557 \nQ 359 1206 359 2328 \nQ 359 3453 968 4101 \nQ 1578 4750 2638 4750 \nQ 3056 4750 3426 4639 \nQ 3797 4528 4122 4306 \nz\n\" transform=\"scale(0.015625)\"/>\n        <path id=\"DejaVuSans-41\" d=\"M 2188 4044 \nL 1331 1722 \nL 3047 1722 \nL 2188 4044 \nz\nM 1831 4666 \nL 2547 4666 \nL 4325 0 \nL 3669 0 \nL 3244 1197 \nL 1141 1197 \nL 716 0 \nL 50 0 \nL 1831 4666 \nz\n\" transform=\"scale(0.015625)\"/>\n       </defs>\n       <use xlink:href=\"#DejaVuSans-53\"/>\n       <use xlink:href=\"#DejaVuSans-61\" x=\"63.476562\"/>\n       <use xlink:href=\"#DejaVuSans-6e\" x=\"124.755859\"/>\n       <use xlink:href=\"#DejaVuSans-20\" x=\"188.134766\"/>\n       <use xlink:href=\"#DejaVuSans-46\" x=\"219.921875\"/>\n       <use xlink:href=\"#DejaVuSans-72\" x=\"270.191406\"/>\n       <use xlink:href=\"#DejaVuSans-61\" x=\"311.304688\"/>\n       <use xlink:href=\"#DejaVuSans-6e\" x=\"372.583984\"/>\n       <use xlink:href=\"#DejaVuSans-63\" x=\"435.962891\"/>\n       <use xlink:href=\"#DejaVuSans-69\" x=\"490.943359\"/>\n       <use xlink:href=\"#DejaVuSans-73\" x=\"518.726562\"/>\n       <use xlink:href=\"#DejaVuSans-63\" x=\"570.826172\"/>\n       <use xlink:href=\"#DejaVuSans-6f\" x=\"625.806641\"/>\n       <use xlink:href=\"#DejaVuSans-2c\" x=\"686.988281\"/>\n       <use xlink:href=\"#DejaVuSans-20\" x=\"718.775391\"/>\n       <use xlink:href=\"#DejaVuSans-43\" x=\"750.5625\"/>\n       <use xlink:href=\"#DejaVuSans-41\" x=\"820.386719\"/>\n      </g>\n     </g>\n    </g>\n    <g id=\"xtick_2\">\n     <g id=\"text_2\">\n      <!-- Los Angeles, CA -->\n      <g transform=\"translate(91.378022 406.56919)rotate(-30)scale(0.1 -0.1)\">\n       <defs>\n        <path id=\"DejaVuSans-4c\" d=\"M 628 4666 \nL 1259 4666 \nL 1259 531 \nL 3531 531 \nL 3531 0 \nL 628 0 \nL 628 4666 \nz\n\" transform=\"scale(0.015625)\"/>\n        <path id=\"DejaVuSans-67\" d=\"M 2906 1791 \nQ 2906 2416 2648 2759 \nQ 2391 3103 1925 3103 \nQ 1463 3103 1205 2759 \nQ 947 2416 947 1791 \nQ 947 1169 1205 825 \nQ 1463 481 1925 481 \nQ 2391 481 2648 825 \nQ 2906 1169 2906 1791 \nz\nM 3481 434 \nQ 3481 -459 3084 -895 \nQ 2688 -1331 1869 -1331 \nQ 1566 -1331 1297 -1286 \nQ 1028 -1241 775 -1147 \nL 775 -588 \nQ 1028 -725 1275 -790 \nQ 1522 -856 1778 -856 \nQ 2344 -856 2625 -561 \nQ 2906 -266 2906 331 \nL 2906 616 \nQ 2728 306 2450 153 \nQ 2172 0 1784 0 \nQ 1141 0 747 490 \nQ 353 981 353 1791 \nQ 353 2603 747 3093 \nQ 1141 3584 1784 3584 \nQ 2172 3584 2450 3431 \nQ 2728 3278 2906 2969 \nL 2906 3500 \nL 3481 3500 \nL 3481 434 \nz\n\" transform=\"scale(0.015625)\"/>\n        <path id=\"DejaVuSans-65\" d=\"M 3597 1894 \nL 3597 1613 \nL 953 1613 \nQ 991 1019 1311 708 \nQ 1631 397 2203 397 \nQ 2534 397 2845 478 \nQ 3156 559 3463 722 \nL 3463 178 \nQ 3153 47 2828 -22 \nQ 2503 -91 2169 -91 \nQ 1331 -91 842 396 \nQ 353 884 353 1716 \nQ 353 2575 817 3079 \nQ 1281 3584 2069 3584 \nQ 2775 3584 3186 3129 \nQ 3597 2675 3597 1894 \nz\nM 3022 2063 \nQ 3016 2534 2758 2815 \nQ 2500 3097 2075 3097 \nQ 1594 3097 1305 2825 \nQ 1016 2553 972 2059 \nL 3022 2063 \nz\n\" transform=\"scale(0.015625)\"/>\n        <path id=\"DejaVuSans-6c\" d=\"M 603 4863 \nL 1178 4863 \nL 1178 0 \nL 603 0 \nL 603 4863 \nz\n\" transform=\"scale(0.015625)\"/>\n       </defs>\n       <use xlink:href=\"#DejaVuSans-4c\"/>\n       <use xlink:href=\"#DejaVuSans-6f\" x=\"53.962891\"/>\n       <use xlink:href=\"#DejaVuSans-73\" x=\"115.144531\"/>\n       <use xlink:href=\"#DejaVuSans-20\" x=\"167.244141\"/>\n       <use xlink:href=\"#DejaVuSans-41\" x=\"199.03125\"/>\n       <use xlink:href=\"#DejaVuSans-6e\" x=\"267.439453\"/>\n       <use xlink:href=\"#DejaVuSans-67\" x=\"330.818359\"/>\n       <use xlink:href=\"#DejaVuSans-65\" x=\"394.294922\"/>\n       <use xlink:href=\"#DejaVuSans-6c\" x=\"455.818359\"/>\n       <use xlink:href=\"#DejaVuSans-65\" x=\"483.601562\"/>\n       <use xlink:href=\"#DejaVuSans-73\" x=\"545.125\"/>\n       <use xlink:href=\"#DejaVuSans-2c\" x=\"597.224609\"/>\n       <use xlink:href=\"#DejaVuSans-20\" x=\"629.011719\"/>\n       <use xlink:href=\"#DejaVuSans-43\" x=\"660.798828\"/>\n       <use xlink:href=\"#DejaVuSans-41\" x=\"730.623047\"/>\n      </g>\n     </g>\n    </g>\n    <g id=\"xtick_3\">\n     <g id=\"text_3\">\n      <!-- New York City, NY -->\n      <g transform=\"translate(149.763051 410.876221)rotate(-30)scale(0.1 -0.1)\">\n       <defs>\n        <path id=\"DejaVuSans-4e\" d=\"M 628 4666 \nL 1478 4666 \nL 3547 763 \nL 3547 4666 \nL 4159 4666 \nL 4159 0 \nL 3309 0 \nL 1241 3903 \nL 1241 0 \nL 628 0 \nL 628 4666 \nz\n\" transform=\"scale(0.015625)\"/>\n        <path id=\"DejaVuSans-77\" d=\"M 269 3500 \nL 844 3500 \nL 1563 769 \nL 2278 3500 \nL 2956 3500 \nL 3675 769 \nL 4391 3500 \nL 4966 3500 \nL 4050 0 \nL 3372 0 \nL 2619 2869 \nL 1863 0 \nL 1184 0 \nL 269 3500 \nz\n\" transform=\"scale(0.015625)\"/>\n        <path id=\"DejaVuSans-59\" d=\"M -13 4666 \nL 666 4666 \nL 1959 2747 \nL 3244 4666 \nL 3922 4666 \nL 2272 2222 \nL 2272 0 \nL 1638 0 \nL 1638 2222 \nL -13 4666 \nz\n\" transform=\"scale(0.015625)\"/>\n        <path id=\"DejaVuSans-6b\" d=\"M 581 4863 \nL 1159 4863 \nL 1159 1991 \nL 2875 3500 \nL 3609 3500 \nL 1753 1863 \nL 3688 0 \nL 2938 0 \nL 1159 1709 \nL 1159 0 \nL 581 0 \nL 581 4863 \nz\n\" transform=\"scale(0.015625)\"/>\n        <path id=\"DejaVuSans-74\" d=\"M 1172 4494 \nL 1172 3500 \nL 2356 3500 \nL 2356 3053 \nL 1172 3053 \nL 1172 1153 \nQ 1172 725 1289 603 \nQ 1406 481 1766 481 \nL 2356 481 \nL 2356 0 \nL 1766 0 \nQ 1100 0 847 248 \nQ 594 497 594 1153 \nL 594 3053 \nL 172 3053 \nL 172 3500 \nL 594 3500 \nL 594 4494 \nL 1172 4494 \nz\n\" transform=\"scale(0.015625)\"/>\n        <path id=\"DejaVuSans-79\" d=\"M 2059 -325 \nQ 1816 -950 1584 -1140 \nQ 1353 -1331 966 -1331 \nL 506 -1331 \nL 506 -850 \nL 844 -850 \nQ 1081 -850 1212 -737 \nQ 1344 -625 1503 -206 \nL 1606 56 \nL 191 3500 \nL 800 3500 \nL 1894 763 \nL 2988 3500 \nL 3597 3500 \nL 2059 -325 \nz\n\" transform=\"scale(0.015625)\"/>\n       </defs>\n       <use xlink:href=\"#DejaVuSans-4e\"/>\n       <use xlink:href=\"#DejaVuSans-65\" x=\"74.804688\"/>\n       <use xlink:href=\"#DejaVuSans-77\" x=\"136.328125\"/>\n       <use xlink:href=\"#DejaVuSans-20\" x=\"218.115234\"/>\n       <use xlink:href=\"#DejaVuSans-59\" x=\"249.902344\"/>\n       <use xlink:href=\"#DejaVuSans-6f\" x=\"297.736328\"/>\n       <use xlink:href=\"#DejaVuSans-72\" x=\"358.917969\"/>\n       <use xlink:href=\"#DejaVuSans-6b\" x=\"400.03125\"/>\n       <use xlink:href=\"#DejaVuSans-20\" x=\"457.941406\"/>\n       <use xlink:href=\"#DejaVuSans-43\" x=\"489.728516\"/>\n       <use xlink:href=\"#DejaVuSans-69\" x=\"559.552734\"/>\n       <use xlink:href=\"#DejaVuSans-74\" x=\"587.335938\"/>\n       <use xlink:href=\"#DejaVuSans-79\" x=\"626.544922\"/>\n       <use xlink:href=\"#DejaVuSans-2c\" x=\"685.724609\"/>\n       <use xlink:href=\"#DejaVuSans-20\" x=\"717.511719\"/>\n       <use xlink:href=\"#DejaVuSans-4e\" x=\"749.298828\"/>\n       <use xlink:href=\"#DejaVuSans-59\" x=\"824.103516\"/>\n      </g>\n     </g>\n    </g>\n    <g id=\"xtick_4\">\n     <g id=\"text_4\">\n      <!-- Boston, MA -->\n      <g transform=\"translate(225.789289 394.81294)rotate(-30)scale(0.1 -0.1)\">\n       <defs>\n        <path id=\"DejaVuSans-42\" d=\"M 1259 2228 \nL 1259 519 \nL 2272 519 \nQ 2781 519 3026 730 \nQ 3272 941 3272 1375 \nQ 3272 1813 3026 2020 \nQ 2781 2228 2272 2228 \nL 1259 2228 \nz\nM 1259 4147 \nL 1259 2741 \nL 2194 2741 \nQ 2656 2741 2882 2914 \nQ 3109 3088 3109 3444 \nQ 3109 3797 2882 3972 \nQ 2656 4147 2194 4147 \nL 1259 4147 \nz\nM 628 4666 \nL 2241 4666 \nQ 2963 4666 3353 4366 \nQ 3744 4066 3744 3513 \nQ 3744 3084 3544 2831 \nQ 3344 2578 2956 2516 \nQ 3422 2416 3680 2098 \nQ 3938 1781 3938 1306 \nQ 3938 681 3513 340 \nQ 3088 0 2303 0 \nL 628 0 \nL 628 4666 \nz\n\" transform=\"scale(0.015625)\"/>\n        <path id=\"DejaVuSans-4d\" d=\"M 628 4666 \nL 1569 4666 \nL 2759 1491 \nL 3956 4666 \nL 4897 4666 \nL 4897 0 \nL 4281 0 \nL 4281 4097 \nL 3078 897 \nL 2444 897 \nL 1241 4097 \nL 1241 0 \nL 628 0 \nL 628 4666 \nz\n\" transform=\"scale(0.015625)\"/>\n       </defs>\n       <use xlink:href=\"#DejaVuSans-42\"/>\n       <use xlink:href=\"#DejaVuSans-6f\" x=\"68.603516\"/>\n       <use xlink:href=\"#DejaVuSans-73\" x=\"129.785156\"/>\n       <use xlink:href=\"#DejaVuSans-74\" x=\"181.884766\"/>\n       <use xlink:href=\"#DejaVuSans-6f\" x=\"221.09375\"/>\n       <use xlink:href=\"#DejaVuSans-6e\" x=\"282.275391\"/>\n       <use xlink:href=\"#DejaVuSans-2c\" x=\"345.654297\"/>\n       <use xlink:href=\"#DejaVuSans-20\" x=\"377.441406\"/>\n       <use xlink:href=\"#DejaVuSans-4d\" x=\"409.228516\"/>\n       <use xlink:href=\"#DejaVuSans-41\" x=\"495.507812\"/>\n      </g>\n     </g>\n    </g>\n    <g id=\"xtick_5\">\n     <g id=\"text_5\">\n      <!-- Atlanta, GA -->\n      <g transform=\"translate(287.716903 395.029346)rotate(-30)scale(0.1 -0.1)\">\n       <defs>\n        <path id=\"DejaVuSans-47\" d=\"M 3809 666 \nL 3809 1919 \nL 2778 1919 \nL 2778 2438 \nL 4434 2438 \nL 4434 434 \nQ 4069 175 3628 42 \nQ 3188 -91 2688 -91 \nQ 1594 -91 976 548 \nQ 359 1188 359 2328 \nQ 359 3472 976 4111 \nQ 1594 4750 2688 4750 \nQ 3144 4750 3555 4637 \nQ 3966 4525 4313 4306 \nL 4313 3634 \nQ 3963 3931 3569 4081 \nQ 3175 4231 2741 4231 \nQ 1884 4231 1454 3753 \nQ 1025 3275 1025 2328 \nQ 1025 1384 1454 906 \nQ 1884 428 2741 428 \nQ 3075 428 3337 486 \nQ 3600 544 3809 666 \nz\n\" transform=\"scale(0.015625)\"/>\n       </defs>\n       <use xlink:href=\"#DejaVuSans-41\"/>\n       <use xlink:href=\"#DejaVuSans-74\" x=\"66.658203\"/>\n       <use xlink:href=\"#DejaVuSans-6c\" x=\"105.867188\"/>\n       <use xlink:href=\"#DejaVuSans-61\" x=\"133.650391\"/>\n       <use xlink:href=\"#DejaVuSans-6e\" x=\"194.929688\"/>\n       <use xlink:href=\"#DejaVuSans-74\" x=\"258.308594\"/>\n       <use xlink:href=\"#DejaVuSans-61\" x=\"297.517578\"/>\n       <use xlink:href=\"#DejaVuSans-2c\" x=\"358.796875\"/>\n       <use xlink:href=\"#DejaVuSans-20\" x=\"390.583984\"/>\n       <use xlink:href=\"#DejaVuSans-47\" x=\"422.371094\"/>\n       <use xlink:href=\"#DejaVuSans-41\" x=\"499.861328\"/>\n      </g>\n     </g>\n    </g>\n    <g id=\"xtick_6\">\n     <g id=\"text_6\">\n      <!-- Dallas, TX -->\n      <g transform=\"translate(352.771005 391.635596)rotate(-30)scale(0.1 -0.1)\">\n       <defs>\n        <path id=\"DejaVuSans-44\" d=\"M 1259 4147 \nL 1259 519 \nL 2022 519 \nQ 2988 519 3436 956 \nQ 3884 1394 3884 2338 \nQ 3884 3275 3436 3711 \nQ 2988 4147 2022 4147 \nL 1259 4147 \nz\nM 628 4666 \nL 1925 4666 \nQ 3281 4666 3915 4102 \nQ 4550 3538 4550 2338 \nQ 4550 1131 3912 565 \nQ 3275 0 1925 0 \nL 628 0 \nL 628 4666 \nz\n\" transform=\"scale(0.015625)\"/>\n        <path id=\"DejaVuSans-54\" d=\"M -19 4666 \nL 3928 4666 \nL 3928 4134 \nL 2272 4134 \nL 2272 0 \nL 1638 0 \nL 1638 4134 \nL -19 4134 \nL -19 4666 \nz\n\" transform=\"scale(0.015625)\"/>\n        <path id=\"DejaVuSans-58\" d=\"M 403 4666 \nL 1081 4666 \nL 2241 2931 \nL 3406 4666 \nL 4084 4666 \nL 2584 2425 \nL 4184 0 \nL 3506 0 \nL 2194 1984 \nL 872 0 \nL 191 0 \nL 1856 2491 \nL 403 4666 \nz\n\" transform=\"scale(0.015625)\"/>\n       </defs>\n       <use xlink:href=\"#DejaVuSans-44\"/>\n       <use xlink:href=\"#DejaVuSans-61\" x=\"77.001953\"/>\n       <use xlink:href=\"#DejaVuSans-6c\" x=\"138.28125\"/>\n       <use xlink:href=\"#DejaVuSans-6c\" x=\"166.064453\"/>\n       <use xlink:href=\"#DejaVuSans-61\" x=\"193.847656\"/>\n       <use xlink:href=\"#DejaVuSans-73\" x=\"255.126953\"/>\n       <use xlink:href=\"#DejaVuSans-2c\" x=\"307.226562\"/>\n       <use xlink:href=\"#DejaVuSans-20\" x=\"339.013672\"/>\n       <use xlink:href=\"#DejaVuSans-54\" x=\"370.800781\"/>\n       <use xlink:href=\"#DejaVuSans-58\" x=\"431.884766\"/>\n      </g>\n     </g>\n    </g>\n    <g id=\"xtick_7\">\n     <g id=\"text_7\">\n      <!-- Seattle, WA -->\n      <g transform=\"translate(411.465232 395.585596)rotate(-30)scale(0.1 -0.1)\">\n       <defs>\n        <path id=\"DejaVuSans-57\" d=\"M 213 4666 \nL 850 4666 \nL 1831 722 \nL 2809 4666 \nL 3519 4666 \nL 4500 722 \nL 5478 4666 \nL 6119 4666 \nL 4947 0 \nL 4153 0 \nL 3169 4050 \nL 2175 0 \nL 1381 0 \nL 213 4666 \nz\n\" transform=\"scale(0.015625)\"/>\n       </defs>\n       <use xlink:href=\"#DejaVuSans-53\"/>\n       <use xlink:href=\"#DejaVuSans-65\" x=\"63.476562\"/>\n       <use xlink:href=\"#DejaVuSans-61\" x=\"125\"/>\n       <use xlink:href=\"#DejaVuSans-74\" x=\"186.279297\"/>\n       <use xlink:href=\"#DejaVuSans-74\" x=\"225.488281\"/>\n       <use xlink:href=\"#DejaVuSans-6c\" x=\"264.697266\"/>\n       <use xlink:href=\"#DejaVuSans-65\" x=\"292.480469\"/>\n       <use xlink:href=\"#DejaVuSans-2c\" x=\"354.003906\"/>\n       <use xlink:href=\"#DejaVuSans-20\" x=\"385.791016\"/>\n       <use xlink:href=\"#DejaVuSans-57\" x=\"417.578125\"/>\n       <use xlink:href=\"#DejaVuSans-41\" x=\"510.955078\"/>\n      </g>\n     </g>\n    </g>\n    <g id=\"xtick_8\">\n     <g id=\"text_8\">\n      <!-- Portland, OR -->\n      <g transform=\"translate(471.566751 397.910596)rotate(-30)scale(0.1 -0.1)\">\n       <defs>\n        <path id=\"DejaVuSans-50\" d=\"M 1259 4147 \nL 1259 2394 \nL 2053 2394 \nQ 2494 2394 2734 2622 \nQ 2975 2850 2975 3272 \nQ 2975 3691 2734 3919 \nQ 2494 4147 2053 4147 \nL 1259 4147 \nz\nM 628 4666 \nL 2053 4666 \nQ 2838 4666 3239 4311 \nQ 3641 3956 3641 3272 \nQ 3641 2581 3239 2228 \nQ 2838 1875 2053 1875 \nL 1259 1875 \nL 1259 0 \nL 628 0 \nL 628 4666 \nz\n\" transform=\"scale(0.015625)\"/>\n        <path id=\"DejaVuSans-64\" d=\"M 2906 2969 \nL 2906 4863 \nL 3481 4863 \nL 3481 0 \nL 2906 0 \nL 2906 525 \nQ 2725 213 2448 61 \nQ 2172 -91 1784 -91 \nQ 1150 -91 751 415 \nQ 353 922 353 1747 \nQ 353 2572 751 3078 \nQ 1150 3584 1784 3584 \nQ 2172 3584 2448 3432 \nQ 2725 3281 2906 2969 \nz\nM 947 1747 \nQ 947 1113 1208 752 \nQ 1469 391 1925 391 \nQ 2381 391 2643 752 \nQ 2906 1113 2906 1747 \nQ 2906 2381 2643 2742 \nQ 2381 3103 1925 3103 \nQ 1469 3103 1208 2742 \nQ 947 2381 947 1747 \nz\n\" transform=\"scale(0.015625)\"/>\n        <path id=\"DejaVuSans-4f\" d=\"M 2522 4238 \nQ 1834 4238 1429 3725 \nQ 1025 3213 1025 2328 \nQ 1025 1447 1429 934 \nQ 1834 422 2522 422 \nQ 3209 422 3611 934 \nQ 4013 1447 4013 2328 \nQ 4013 3213 3611 3725 \nQ 3209 4238 2522 4238 \nz\nM 2522 4750 \nQ 3503 4750 4090 4092 \nQ 4678 3434 4678 2328 \nQ 4678 1225 4090 567 \nQ 3503 -91 2522 -91 \nQ 1538 -91 948 565 \nQ 359 1222 359 2328 \nQ 359 3434 948 4092 \nQ 1538 4750 2522 4750 \nz\n\" transform=\"scale(0.015625)\"/>\n        <path id=\"DejaVuSans-52\" d=\"M 2841 2188 \nQ 3044 2119 3236 1894 \nQ 3428 1669 3622 1275 \nL 4263 0 \nL 3584 0 \nL 2988 1197 \nQ 2756 1666 2539 1819 \nQ 2322 1972 1947 1972 \nL 1259 1972 \nL 1259 0 \nL 628 0 \nL 628 4666 \nL 2053 4666 \nQ 2853 4666 3247 4331 \nQ 3641 3997 3641 3322 \nQ 3641 2881 3436 2590 \nQ 3231 2300 2841 2188 \nz\nM 1259 4147 \nL 1259 2491 \nL 2053 2491 \nQ 2509 2491 2742 2702 \nQ 2975 2913 2975 3322 \nQ 2975 3731 2742 3939 \nQ 2509 4147 2053 4147 \nL 1259 4147 \nz\n\" transform=\"scale(0.015625)\"/>\n       </defs>\n       <use xlink:href=\"#DejaVuSans-50\"/>\n       <use xlink:href=\"#DejaVuSans-6f\" x=\"56.677734\"/>\n       <use xlink:href=\"#DejaVuSans-72\" x=\"117.859375\"/>\n       <use xlink:href=\"#DejaVuSans-74\" x=\"158.972656\"/>\n       <use xlink:href=\"#DejaVuSans-6c\" x=\"198.181641\"/>\n       <use xlink:href=\"#DejaVuSans-61\" x=\"225.964844\"/>\n       <use xlink:href=\"#DejaVuSans-6e\" x=\"287.244141\"/>\n       <use xlink:href=\"#DejaVuSans-64\" x=\"350.623047\"/>\n       <use xlink:href=\"#DejaVuSans-2c\" x=\"414.099609\"/>\n       <use xlink:href=\"#DejaVuSans-20\" x=\"445.886719\"/>\n       <use xlink:href=\"#DejaVuSans-4f\" x=\"477.673828\"/>\n       <use xlink:href=\"#DejaVuSans-52\" x=\"556.384766\"/>\n      </g>\n     </g>\n    </g>\n    <g id=\"xtick_9\">\n     <g id=\"text_9\">\n      <!-- Austin, TX -->\n      <g transform=\"translate(538.812303 391.986377)rotate(-30)scale(0.1 -0.1)\">\n       <defs>\n        <path id=\"DejaVuSans-75\" d=\"M 544 1381 \nL 544 3500 \nL 1119 3500 \nL 1119 1403 \nQ 1119 906 1312 657 \nQ 1506 409 1894 409 \nQ 2359 409 2629 706 \nQ 2900 1003 2900 1516 \nL 2900 3500 \nL 3475 3500 \nL 3475 0 \nL 2900 0 \nL 2900 538 \nQ 2691 219 2414 64 \nQ 2138 -91 1772 -91 \nQ 1169 -91 856 284 \nQ 544 659 544 1381 \nz\nM 1991 3584 \nL 1991 3584 \nz\n\" transform=\"scale(0.015625)\"/>\n       </defs>\n       <use xlink:href=\"#DejaVuSans-41\"/>\n       <use xlink:href=\"#DejaVuSans-75\" x=\"68.408203\"/>\n       <use xlink:href=\"#DejaVuSans-73\" x=\"131.787109\"/>\n       <use xlink:href=\"#DejaVuSans-74\" x=\"183.886719\"/>\n       <use xlink:href=\"#DejaVuSans-69\" x=\"223.095703\"/>\n       <use xlink:href=\"#DejaVuSans-6e\" x=\"250.878906\"/>\n       <use xlink:href=\"#DejaVuSans-2c\" x=\"314.257812\"/>\n       <use xlink:href=\"#DejaVuSans-20\" x=\"346.044922\"/>\n       <use xlink:href=\"#DejaVuSans-54\" x=\"377.832031\"/>\n       <use xlink:href=\"#DejaVuSans-58\" x=\"438.916016\"/>\n      </g>\n     </g>\n    </g>\n    <g id=\"xtick_10\">\n     <g id=\"text_10\">\n      <!-- Portland, ME -->\n      <g transform=\"translate(595.742004 397.973877)rotate(-30)scale(0.1 -0.1)\">\n       <defs>\n        <path id=\"DejaVuSans-45\" d=\"M 628 4666 \nL 3578 4666 \nL 3578 4134 \nL 1259 4134 \nL 1259 2753 \nL 3481 2753 \nL 3481 2222 \nL 1259 2222 \nL 1259 531 \nL 3634 531 \nL 3634 0 \nL 628 0 \nL 628 4666 \nz\n\" transform=\"scale(0.015625)\"/>\n       </defs>\n       <use xlink:href=\"#DejaVuSans-50\"/>\n       <use xlink:href=\"#DejaVuSans-6f\" x=\"56.677734\"/>\n       <use xlink:href=\"#DejaVuSans-72\" x=\"117.859375\"/>\n       <use xlink:href=\"#DejaVuSans-74\" x=\"158.972656\"/>\n       <use xlink:href=\"#DejaVuSans-6c\" x=\"198.181641\"/>\n       <use xlink:href=\"#DejaVuSans-61\" x=\"225.964844\"/>\n       <use xlink:href=\"#DejaVuSans-6e\" x=\"287.244141\"/>\n       <use xlink:href=\"#DejaVuSans-64\" x=\"350.623047\"/>\n       <use xlink:href=\"#DejaVuSans-2c\" x=\"414.099609\"/>\n       <use xlink:href=\"#DejaVuSans-20\" x=\"445.886719\"/>\n       <use xlink:href=\"#DejaVuSans-4d\" x=\"477.673828\"/>\n       <use xlink:href=\"#DejaVuSans-45\" x=\"563.953125\"/>\n      </g>\n     </g>\n    </g>\n   </g>\n   <g id=\"text_11\">\n    <!-- 8.26 M -->\n    <g style=\"fill: #ffffff\" transform=\"translate(41.885261 56.912991)scale(0.12 -0.12)\">\n     <defs>\n      <path id=\"DejaVuSans-38\" d=\"M 2034 2216 \nQ 1584 2216 1326 1975 \nQ 1069 1734 1069 1313 \nQ 1069 891 1326 650 \nQ 1584 409 2034 409 \nQ 2484 409 2743 651 \nQ 3003 894 3003 1313 \nQ 3003 1734 2745 1975 \nQ 2488 2216 2034 2216 \nz\nM 1403 2484 \nQ 997 2584 770 2862 \nQ 544 3141 544 3541 \nQ 544 4100 942 4425 \nQ 1341 4750 2034 4750 \nQ 2731 4750 3128 4425 \nQ 3525 4100 3525 3541 \nQ 3525 3141 3298 2862 \nQ 3072 2584 2669 2484 \nQ 3125 2378 3379 2068 \nQ 3634 1759 3634 1313 \nQ 3634 634 3220 271 \nQ 2806 -91 2034 -91 \nQ 1263 -91 848 271 \nQ 434 634 434 1313 \nQ 434 1759 690 2068 \nQ 947 2378 1403 2484 \nz\nM 1172 3481 \nQ 1172 3119 1398 2916 \nQ 1625 2713 2034 2713 \nQ 2441 2713 2670 2916 \nQ 2900 3119 2900 3481 \nQ 2900 3844 2670 4047 \nQ 2441 4250 2034 4250 \nQ 1625 4250 1398 4047 \nQ 1172 3844 1172 3481 \nz\n\" transform=\"scale(0.015625)\"/>\n      <path id=\"DejaVuSans-2e\" d=\"M 684 794 \nL 1344 794 \nL 1344 0 \nL 684 0 \nL 684 794 \nz\n\" transform=\"scale(0.015625)\"/>\n      <path id=\"DejaVuSans-32\" d=\"M 1228 531 \nL 3431 531 \nL 3431 0 \nL 469 0 \nL 469 531 \nQ 828 903 1448 1529 \nQ 2069 2156 2228 2338 \nQ 2531 2678 2651 2914 \nQ 2772 3150 2772 3378 \nQ 2772 3750 2511 3984 \nQ 2250 4219 1831 4219 \nQ 1534 4219 1204 4116 \nQ 875 4013 500 3803 \nL 500 4441 \nQ 881 4594 1212 4672 \nQ 1544 4750 1819 4750 \nQ 2544 4750 2975 4387 \nQ 3406 4025 3406 3419 \nQ 3406 3131 3298 2873 \nQ 3191 2616 2906 2266 \nQ 2828 2175 2409 1742 \nQ 1991 1309 1228 531 \nz\n\" transform=\"scale(0.015625)\"/>\n      <path id=\"DejaVuSans-36\" d=\"M 2113 2584 \nQ 1688 2584 1439 2293 \nQ 1191 2003 1191 1497 \nQ 1191 994 1439 701 \nQ 1688 409 2113 409 \nQ 2538 409 2786 701 \nQ 3034 994 3034 1497 \nQ 3034 2003 2786 2293 \nQ 2538 2584 2113 2584 \nz\nM 3366 4563 \nL 3366 3988 \nQ 3128 4100 2886 4159 \nQ 2644 4219 2406 4219 \nQ 1781 4219 1451 3797 \nQ 1122 3375 1075 2522 \nQ 1259 2794 1537 2939 \nQ 1816 3084 2150 3084 \nQ 2853 3084 3261 2657 \nQ 3669 2231 3669 1497 \nQ 3669 778 3244 343 \nQ 2819 -91 2113 -91 \nQ 1303 -91 875 529 \nQ 447 1150 447 2328 \nQ 447 3434 972 4092 \nQ 1497 4750 2381 4750 \nQ 2619 4750 2861 4703 \nQ 3103 4656 3366 4563 \nz\n\" transform=\"scale(0.015625)\"/>\n     </defs>\n     <use xlink:href=\"#DejaVuSans-38\"/>\n     <use xlink:href=\"#DejaVuSans-2e\" x=\"63.623047\"/>\n     <use xlink:href=\"#DejaVuSans-32\" x=\"95.410156\"/>\n     <use xlink:href=\"#DejaVuSans-36\" x=\"159.033203\"/>\n     <use xlink:href=\"#DejaVuSans-20\" x=\"222.65625\"/>\n     <use xlink:href=\"#DejaVuSans-4d\" x=\"254.443359\"/>\n    </g>\n   </g>\n   <g id=\"text_12\">\n    <!-- 5.45 M -->\n    <g style=\"fill: #ffffff\" transform=\"translate(104.000289 162.544894)scale(0.12 -0.12)\">\n     <defs>\n      <path id=\"DejaVuSans-35\" d=\"M 691 4666 \nL 3169 4666 \nL 3169 4134 \nL 1269 4134 \nL 1269 2991 \nQ 1406 3038 1543 3061 \nQ 1681 3084 1819 3084 \nQ 2600 3084 3056 2656 \nQ 3513 2228 3513 1497 \nQ 3513 744 3044 326 \nQ 2575 -91 1722 -91 \nQ 1428 -91 1123 -41 \nQ 819 9 494 109 \nL 494 744 \nQ 775 591 1075 516 \nQ 1375 441 1709 441 \nQ 2250 441 2565 725 \nQ 2881 1009 2881 1497 \nQ 2881 1984 2565 2268 \nQ 2250 2553 1709 2553 \nQ 1456 2553 1204 2497 \nQ 953 2441 691 2322 \nL 691 4666 \nz\n\" transform=\"scale(0.015625)\"/>\n      <path id=\"DejaVuSans-34\" d=\"M 2419 4116 \nL 825 1625 \nL 2419 1625 \nL 2419 4116 \nz\nM 2253 4666 \nL 3047 4666 \nL 3047 1625 \nL 3713 1625 \nL 3713 1100 \nL 3047 1100 \nL 3047 0 \nL 2419 0 \nL 2419 1100 \nL 313 1100 \nL 313 1709 \nL 2253 4666 \nz\n\" transform=\"scale(0.015625)\"/>\n     </defs>\n     <use xlink:href=\"#DejaVuSans-35\"/>\n     <use xlink:href=\"#DejaVuSans-2e\" x=\"63.623047\"/>\n     <use xlink:href=\"#DejaVuSans-34\" x=\"95.410156\"/>\n     <use xlink:href=\"#DejaVuSans-35\" x=\"159.033203\"/>\n     <use xlink:href=\"#DejaVuSans-20\" x=\"222.65625\"/>\n     <use xlink:href=\"#DejaVuSans-4d\" x=\"254.443359\"/>\n    </g>\n   </g>\n   <g id=\"text_13\">\n    <!-- 4.66 M -->\n    <g style=\"fill: #ffffff\" transform=\"translate(166.115317 192.18033)scale(0.12 -0.12)\">\n     <use xlink:href=\"#DejaVuSans-34\"/>\n     <use xlink:href=\"#DejaVuSans-2e\" x=\"63.623047\"/>\n     <use xlink:href=\"#DejaVuSans-36\" x=\"95.410156\"/>\n     <use xlink:href=\"#DejaVuSans-36\" x=\"159.033203\"/>\n     <use xlink:href=\"#DejaVuSans-20\" x=\"222.65625\"/>\n     <use xlink:href=\"#DejaVuSans-4d\" x=\"254.443359\"/>\n    </g>\n   </g>\n   <g id=\"text_14\">\n    <!-- 3.66 M -->\n    <g style=\"fill: #ffffff\" transform=\"translate(228.230344 229.877249)scale(0.12 -0.12)\">\n     <defs>\n      <path id=\"DejaVuSans-33\" d=\"M 2597 2516 \nQ 3050 2419 3304 2112 \nQ 3559 1806 3559 1356 \nQ 3559 666 3084 287 \nQ 2609 -91 1734 -91 \nQ 1441 -91 1130 -33 \nQ 819 25 488 141 \nL 488 750 \nQ 750 597 1062 519 \nQ 1375 441 1716 441 \nQ 2309 441 2620 675 \nQ 2931 909 2931 1356 \nQ 2931 1769 2642 2001 \nQ 2353 2234 1838 2234 \nL 1294 2234 \nL 1294 2753 \nL 1863 2753 \nQ 2328 2753 2575 2939 \nQ 2822 3125 2822 3475 \nQ 2822 3834 2567 4026 \nQ 2313 4219 1838 4219 \nQ 1578 4219 1281 4162 \nQ 984 4106 628 3988 \nL 628 4550 \nQ 988 4650 1302 4700 \nQ 1616 4750 1894 4750 \nQ 2613 4750 3031 4423 \nQ 3450 4097 3450 3541 \nQ 3450 3153 3228 2886 \nQ 3006 2619 2597 2516 \nz\n\" transform=\"scale(0.015625)\"/>\n     </defs>\n     <use xlink:href=\"#DejaVuSans-33\"/>\n     <use xlink:href=\"#DejaVuSans-2e\" x=\"63.623047\"/>\n     <use xlink:href=\"#DejaVuSans-36\" x=\"95.410156\"/>\n     <use xlink:href=\"#DejaVuSans-36\" x=\"159.033203\"/>\n     <use xlink:href=\"#DejaVuSans-20\" x=\"222.65625\"/>\n     <use xlink:href=\"#DejaVuSans-4d\" x=\"254.443359\"/>\n    </g>\n   </g>\n   <g id=\"text_15\">\n    <!-- 2.80 M -->\n    <g style=\"fill: #ffffff\" transform=\"translate(290.345372 262.441066)scale(0.12 -0.12)\">\n     <defs>\n      <path id=\"DejaVuSans-30\" d=\"M 2034 4250 \nQ 1547 4250 1301 3770 \nQ 1056 3291 1056 2328 \nQ 1056 1369 1301 889 \nQ 1547 409 2034 409 \nQ 2525 409 2770 889 \nQ 3016 1369 3016 2328 \nQ 3016 3291 2770 3770 \nQ 2525 4250 2034 4250 \nz\nM 2034 4750 \nQ 2819 4750 3233 4129 \nQ 3647 3509 3647 2328 \nQ 3647 1150 3233 529 \nQ 2819 -91 2034 -91 \nQ 1250 -91 836 529 \nQ 422 1150 422 2328 \nQ 422 3509 836 4129 \nQ 1250 4750 2034 4750 \nz\n\" transform=\"scale(0.015625)\"/>\n     </defs>\n     <use xlink:href=\"#DejaVuSans-32\"/>\n     <use xlink:href=\"#DejaVuSans-2e\" x=\"63.623047\"/>\n     <use xlink:href=\"#DejaVuSans-38\" x=\"95.410156\"/>\n     <use xlink:href=\"#DejaVuSans-30\" x=\"159.033203\"/>\n     <use xlink:href=\"#DejaVuSans-20\" x=\"222.65625\"/>\n     <use xlink:href=\"#DejaVuSans-4d\" x=\"254.443359\"/>\n    </g>\n   </g>\n   <g id=\"text_16\">\n    <!-- 2.77 M -->\n    <g style=\"fill: #ffffff\" transform=\"translate(352.4604 263.475837)scale(0.12 -0.12)\">\n     <defs>\n      <path id=\"DejaVuSans-37\" d=\"M 525 4666 \nL 3525 4666 \nL 3525 4397 \nL 1831 0 \nL 1172 0 \nL 2766 4134 \nL 525 4134 \nL 525 4666 \nz\n\" transform=\"scale(0.015625)\"/>\n     </defs>\n     <use xlink:href=\"#DejaVuSans-32\"/>\n     <use xlink:href=\"#DejaVuSans-2e\" x=\"63.623047\"/>\n     <use xlink:href=\"#DejaVuSans-37\" x=\"95.410156\"/>\n     <use xlink:href=\"#DejaVuSans-37\" x=\"159.033203\"/>\n     <use xlink:href=\"#DejaVuSans-20\" x=\"222.65625\"/>\n     <use xlink:href=\"#DejaVuSans-4d\" x=\"254.443359\"/>\n    </g>\n   </g>\n   <g id=\"text_17\">\n    <!-- 2.75 M -->\n    <g style=\"fill: #ffffff\" transform=\"translate(414.575428 264.236032)scale(0.12 -0.12)\">\n     <use xlink:href=\"#DejaVuSans-32\"/>\n     <use xlink:href=\"#DejaVuSans-2e\" x=\"63.623047\"/>\n     <use xlink:href=\"#DejaVuSans-37\" x=\"95.410156\"/>\n     <use xlink:href=\"#DejaVuSans-35\" x=\"159.033203\"/>\n     <use xlink:href=\"#DejaVuSans-20\" x=\"222.65625\"/>\n     <use xlink:href=\"#DejaVuSans-4d\" x=\"254.443359\"/>\n    </g>\n   </g>\n   <g id=\"text_18\">\n    <!-- 1.87 M -->\n    <g style=\"fill: #ffffff\" transform=\"translate(476.690456 297.208886)scale(0.12 -0.12)\">\n     <defs>\n      <path id=\"DejaVuSans-31\" d=\"M 794 531 \nL 1825 531 \nL 1825 4091 \nL 703 3866 \nL 703 4441 \nL 1819 4666 \nL 2450 4666 \nL 2450 531 \nL 3481 531 \nL 3481 0 \nL 794 0 \nL 794 531 \nz\n\" transform=\"scale(0.015625)\"/>\n     </defs>\n     <use xlink:href=\"#DejaVuSans-31\"/>\n     <use xlink:href=\"#DejaVuSans-2e\" x=\"63.623047\"/>\n     <use xlink:href=\"#DejaVuSans-38\" x=\"95.410156\"/>\n     <use xlink:href=\"#DejaVuSans-37\" x=\"159.033203\"/>\n     <use xlink:href=\"#DejaVuSans-20\" x=\"222.65625\"/>\n     <use xlink:href=\"#DejaVuSans-4d\" x=\"254.443359\"/>\n    </g>\n   </g>\n   <g id=\"text_19\">\n    <!-- 1.82 M -->\n    <g style=\"fill: #ffffff\" transform=\"translate(538.805484 299.131961)scale(0.12 -0.12)\">\n     <use xlink:href=\"#DejaVuSans-31\"/>\n     <use xlink:href=\"#DejaVuSans-2e\" x=\"63.623047\"/>\n     <use xlink:href=\"#DejaVuSans-38\" x=\"95.410156\"/>\n     <use xlink:href=\"#DejaVuSans-32\" x=\"159.033203\"/>\n     <use xlink:href=\"#DejaVuSans-20\" x=\"222.65625\"/>\n     <use xlink:href=\"#DejaVuSans-4d\" x=\"254.443359\"/>\n    </g>\n   </g>\n   <g id=\"text_20\">\n    <!-- 0.45 M -->\n    <g style=\"fill: #ffffff\" transform=\"translate(600.920511 350.632301)scale(0.12 -0.12)\">\n     <use xlink:href=\"#DejaVuSans-30\"/>\n     <use xlink:href=\"#DejaVuSans-2e\" x=\"63.623047\"/>\n     <use xlink:href=\"#DejaVuSans-34\" x=\"95.410156\"/>\n     <use xlink:href=\"#DejaVuSans-35\" x=\"159.033203\"/>\n     <use xlink:href=\"#DejaVuSans-20\" x=\"222.65625\"/>\n     <use xlink:href=\"#DejaVuSans-4d\" x=\"254.443359\"/>\n    </g>\n   </g>\n   <g id=\"text_21\">\n    <!-- Sales per City -->\n    <g style=\"fill: #787878\" transform=\"translate(7.2 20.877187)scale(0.18 -0.18)\">\n     <defs>\n      <path id=\"DejaVuSans-Bold-53\" d=\"M 3834 4519 \nL 3834 3531 \nQ 3450 3703 3084 3790 \nQ 2719 3878 2394 3878 \nQ 1963 3878 1756 3759 \nQ 1550 3641 1550 3391 \nQ 1550 3203 1689 3098 \nQ 1828 2994 2194 2919 \nL 2706 2816 \nQ 3484 2659 3812 2340 \nQ 4141 2022 4141 1434 \nQ 4141 663 3683 286 \nQ 3225 -91 2284 -91 \nQ 1841 -91 1394 -6 \nQ 947 78 500 244 \nL 500 1259 \nQ 947 1022 1364 901 \nQ 1781 781 2169 781 \nQ 2563 781 2772 912 \nQ 2981 1044 2981 1288 \nQ 2981 1506 2839 1625 \nQ 2697 1744 2272 1838 \nL 1806 1941 \nQ 1106 2091 782 2419 \nQ 459 2747 459 3303 \nQ 459 4000 909 4375 \nQ 1359 4750 2203 4750 \nQ 2588 4750 2994 4692 \nQ 3400 4634 3834 4519 \nz\n\" transform=\"scale(0.015625)\"/>\n      <path id=\"DejaVuSans-Bold-61\" d=\"M 2106 1575 \nQ 1756 1575 1579 1456 \nQ 1403 1338 1403 1106 \nQ 1403 894 1545 773 \nQ 1688 653 1941 653 \nQ 2256 653 2472 879 \nQ 2688 1106 2688 1447 \nL 2688 1575 \nL 2106 1575 \nz\nM 3816 1997 \nL 3816 0 \nL 2688 0 \nL 2688 519 \nQ 2463 200 2181 54 \nQ 1900 -91 1497 -91 \nQ 953 -91 614 226 \nQ 275 544 275 1050 \nQ 275 1666 698 1953 \nQ 1122 2241 2028 2241 \nL 2688 2241 \nL 2688 2328 \nQ 2688 2594 2478 2717 \nQ 2269 2841 1825 2841 \nQ 1466 2841 1156 2769 \nQ 847 2697 581 2553 \nL 581 3406 \nQ 941 3494 1303 3539 \nQ 1666 3584 2028 3584 \nQ 2975 3584 3395 3211 \nQ 3816 2838 3816 1997 \nz\n\" transform=\"scale(0.015625)\"/>\n      <path id=\"DejaVuSans-Bold-6c\" d=\"M 538 4863 \nL 1656 4863 \nL 1656 0 \nL 538 0 \nL 538 4863 \nz\n\" transform=\"scale(0.015625)\"/>\n      <path id=\"DejaVuSans-Bold-65\" d=\"M 4031 1759 \nL 4031 1441 \nL 1416 1441 \nQ 1456 1047 1700 850 \nQ 1944 653 2381 653 \nQ 2734 653 3104 758 \nQ 3475 863 3866 1075 \nL 3866 213 \nQ 3469 63 3072 -14 \nQ 2675 -91 2278 -91 \nQ 1328 -91 801 392 \nQ 275 875 275 1747 \nQ 275 2603 792 3093 \nQ 1309 3584 2216 3584 \nQ 3041 3584 3536 3087 \nQ 4031 2591 4031 1759 \nz\nM 2881 2131 \nQ 2881 2450 2695 2645 \nQ 2509 2841 2209 2841 \nQ 1884 2841 1681 2658 \nQ 1478 2475 1428 2131 \nL 2881 2131 \nz\n\" transform=\"scale(0.015625)\"/>\n      <path id=\"DejaVuSans-Bold-73\" d=\"M 3272 3391 \nL 3272 2541 \nQ 2913 2691 2578 2766 \nQ 2244 2841 1947 2841 \nQ 1628 2841 1473 2761 \nQ 1319 2681 1319 2516 \nQ 1319 2381 1436 2309 \nQ 1553 2238 1856 2203 \nL 2053 2175 \nQ 2913 2066 3209 1816 \nQ 3506 1566 3506 1031 \nQ 3506 472 3093 190 \nQ 2681 -91 1863 -91 \nQ 1516 -91 1145 -36 \nQ 775 19 384 128 \nL 384 978 \nQ 719 816 1070 734 \nQ 1422 653 1784 653 \nQ 2113 653 2278 743 \nQ 2444 834 2444 1013 \nQ 2444 1163 2330 1236 \nQ 2216 1309 1875 1350 \nL 1678 1375 \nQ 931 1469 631 1722 \nQ 331 1975 331 2491 \nQ 331 3047 712 3315 \nQ 1094 3584 1881 3584 \nQ 2191 3584 2531 3537 \nQ 2872 3491 3272 3391 \nz\n\" transform=\"scale(0.015625)\"/>\n      <path id=\"DejaVuSans-Bold-20\" transform=\"scale(0.015625)\"/>\n      <path id=\"DejaVuSans-Bold-70\" d=\"M 1656 506 \nL 1656 -1331 \nL 538 -1331 \nL 538 3500 \nL 1656 3500 \nL 1656 2988 \nQ 1888 3294 2169 3439 \nQ 2450 3584 2816 3584 \nQ 3463 3584 3878 3070 \nQ 4294 2556 4294 1747 \nQ 4294 938 3878 423 \nQ 3463 -91 2816 -91 \nQ 2450 -91 2169 54 \nQ 1888 200 1656 506 \nz\nM 2400 2772 \nQ 2041 2772 1848 2508 \nQ 1656 2244 1656 1747 \nQ 1656 1250 1848 986 \nQ 2041 722 2400 722 \nQ 2759 722 2948 984 \nQ 3138 1247 3138 1747 \nQ 3138 2247 2948 2509 \nQ 2759 2772 2400 2772 \nz\n\" transform=\"scale(0.015625)\"/>\n      <path id=\"DejaVuSans-Bold-72\" d=\"M 3138 2547 \nQ 2991 2616 2845 2648 \nQ 2700 2681 2553 2681 \nQ 2122 2681 1889 2404 \nQ 1656 2128 1656 1613 \nL 1656 0 \nL 538 0 \nL 538 3500 \nL 1656 3500 \nL 1656 2925 \nQ 1872 3269 2151 3426 \nQ 2431 3584 2822 3584 \nQ 2878 3584 2943 3579 \nQ 3009 3575 3134 3559 \nL 3138 2547 \nz\n\" transform=\"scale(0.015625)\"/>\n      <path id=\"DejaVuSans-Bold-43\" d=\"M 4288 256 \nQ 3956 84 3597 -3 \nQ 3238 -91 2847 -91 \nQ 1681 -91 1000 561 \nQ 319 1213 319 2328 \nQ 319 3447 1000 4098 \nQ 1681 4750 2847 4750 \nQ 3238 4750 3597 4662 \nQ 3956 4575 4288 4403 \nL 4288 3438 \nQ 3953 3666 3628 3772 \nQ 3303 3878 2944 3878 \nQ 2300 3878 1931 3465 \nQ 1563 3053 1563 2328 \nQ 1563 1606 1931 1193 \nQ 2300 781 2944 781 \nQ 3303 781 3628 887 \nQ 3953 994 4288 1222 \nL 4288 256 \nz\n\" transform=\"scale(0.015625)\"/>\n      <path id=\"DejaVuSans-Bold-69\" d=\"M 538 3500 \nL 1656 3500 \nL 1656 0 \nL 538 0 \nL 538 3500 \nz\nM 538 4863 \nL 1656 4863 \nL 1656 3950 \nL 538 3950 \nL 538 4863 \nz\n\" transform=\"scale(0.015625)\"/>\n      <path id=\"DejaVuSans-Bold-74\" d=\"M 1759 4494 \nL 1759 3500 \nL 2913 3500 \nL 2913 2700 \nL 1759 2700 \nL 1759 1216 \nQ 1759 972 1856 886 \nQ 1953 800 2241 800 \nL 2816 800 \nL 2816 0 \nL 1856 0 \nQ 1194 0 917 276 \nQ 641 553 641 1216 \nL 641 2700 \nL 84 2700 \nL 84 3500 \nL 641 3500 \nL 641 4494 \nL 1759 4494 \nz\n\" transform=\"scale(0.015625)\"/>\n      <path id=\"DejaVuSans-Bold-79\" d=\"M 78 3500 \nL 1197 3500 \nL 2138 1125 \nL 2938 3500 \nL 4056 3500 \nL 2584 -331 \nQ 2363 -916 2067 -1148 \nQ 1772 -1381 1288 -1381 \nL 641 -1381 \nL 641 -647 \nL 991 -647 \nQ 1275 -647 1404 -556 \nQ 1534 -466 1606 -231 \nL 1638 -134 \nL 78 3500 \nz\n\" transform=\"scale(0.015625)\"/>\n     </defs>\n     <use xlink:href=\"#DejaVuSans-Bold-53\"/>\n     <use xlink:href=\"#DejaVuSans-Bold-61\" x=\"72.021484\"/>\n     <use xlink:href=\"#DejaVuSans-Bold-6c\" x=\"139.501953\"/>\n     <use xlink:href=\"#DejaVuSans-Bold-65\" x=\"173.779297\"/>\n     <use xlink:href=\"#DejaVuSans-Bold-73\" x=\"241.601562\"/>\n     <use xlink:href=\"#DejaVuSans-Bold-20\" x=\"301.123047\"/>\n     <use xlink:href=\"#DejaVuSans-Bold-70\" x=\"335.9375\"/>\n     <use xlink:href=\"#DejaVuSans-Bold-65\" x=\"407.519531\"/>\n     <use xlink:href=\"#DejaVuSans-Bold-72\" x=\"475.341797\"/>\n     <use xlink:href=\"#DejaVuSans-Bold-20\" x=\"524.658203\"/>\n     <use xlink:href=\"#DejaVuSans-Bold-43\" x=\"559.472656\"/>\n     <use xlink:href=\"#DejaVuSans-Bold-69\" x=\"632.861328\"/>\n     <use xlink:href=\"#DejaVuSans-Bold-74\" x=\"667.138672\"/>\n     <use xlink:href=\"#DejaVuSans-Bold-79\" x=\"714.941406\"/>\n    </g>\n   </g>\n  </g>\n  <g id=\"text_22\">\n   <!-- $\\bf{San Fracisco, CA}$ -->\n   <g style=\"fill: #787878\" transform=\"translate(106.56 79.206375)scale(0.14 -0.14)\">\n    <defs>\n     <path id=\"DejaVuSans-Bold-6e\" d=\"M 4056 2131 \nL 4056 0 \nL 2931 0 \nL 2931 347 \nL 2931 1631 \nQ 2931 2084 2911 2256 \nQ 2891 2428 2841 2509 \nQ 2775 2619 2662 2680 \nQ 2550 2741 2406 2741 \nQ 2056 2741 1856 2470 \nQ 1656 2200 1656 1722 \nL 1656 0 \nL 538 0 \nL 538 3500 \nL 1656 3500 \nL 1656 2988 \nQ 1909 3294 2193 3439 \nQ 2478 3584 2822 3584 \nQ 3428 3584 3742 3212 \nQ 4056 2841 4056 2131 \nz\n\" transform=\"scale(0.015625)\"/>\n     <path id=\"DejaVuSans-Bold-46\" d=\"M 588 4666 \nL 3834 4666 \nL 3834 3756 \nL 1791 3756 \nL 1791 2888 \nL 3713 2888 \nL 3713 1978 \nL 1791 1978 \nL 1791 0 \nL 588 0 \nL 588 4666 \nz\n\" transform=\"scale(0.015625)\"/>\n     <path id=\"DejaVuSans-Bold-63\" d=\"M 3366 3391 \nL 3366 2478 \nQ 3138 2634 2908 2709 \nQ 2678 2784 2431 2784 \nQ 1963 2784 1702 2511 \nQ 1441 2238 1441 1747 \nQ 1441 1256 1702 982 \nQ 1963 709 2431 709 \nQ 2694 709 2930 787 \nQ 3166 866 3366 1019 \nL 3366 103 \nQ 3103 6 2833 -42 \nQ 2563 -91 2291 -91 \nQ 1344 -91 809 395 \nQ 275 881 275 1747 \nQ 275 2613 809 3098 \nQ 1344 3584 2291 3584 \nQ 2566 3584 2833 3536 \nQ 3100 3488 3366 3391 \nz\n\" transform=\"scale(0.015625)\"/>\n     <path id=\"DejaVuSans-Bold-6f\" d=\"M 2203 2784 \nQ 1831 2784 1636 2517 \nQ 1441 2250 1441 1747 \nQ 1441 1244 1636 976 \nQ 1831 709 2203 709 \nQ 2569 709 2762 976 \nQ 2956 1244 2956 1747 \nQ 2956 2250 2762 2517 \nQ 2569 2784 2203 2784 \nz\nM 2203 3584 \nQ 3106 3584 3614 3096 \nQ 4122 2609 4122 1747 \nQ 4122 884 3614 396 \nQ 3106 -91 2203 -91 \nQ 1297 -91 786 396 \nQ 275 884 275 1747 \nQ 275 2609 786 3096 \nQ 1297 3584 2203 3584 \nz\n\" transform=\"scale(0.015625)\"/>\n     <path id=\"DejaVuSans-Bold-2c\" d=\"M 653 1209 \nL 1778 1209 \nL 1778 256 \nL 1006 -909 \nL 341 -909 \nL 653 256 \nL 653 1209 \nz\n\" transform=\"scale(0.015625)\"/>\n     <path id=\"DejaVuSans-Bold-41\" d=\"M 3419 850 \nL 1538 850 \nL 1241 0 \nL 31 0 \nL 1759 4666 \nL 3194 4666 \nL 4922 0 \nL 3713 0 \nL 3419 850 \nz\nM 1838 1716 \nL 3116 1716 \nL 2478 3572 \nL 1838 1716 \nz\n\" transform=\"scale(0.015625)\"/>\n    </defs>\n    <use xlink:href=\"#DejaVuSans-Bold-53\" transform=\"translate(0 0.015625)\"/>\n    <use xlink:href=\"#DejaVuSans-Bold-61\" transform=\"translate(72.021484 0.015625)\"/>\n    <use xlink:href=\"#DejaVuSans-Bold-6e\" transform=\"translate(139.501953 0.015625)\"/>\n    <use xlink:href=\"#DejaVuSans-Bold-46\" transform=\"translate(210.693359 0.015625)\"/>\n    <use xlink:href=\"#DejaVuSans-Bold-72\" transform=\"translate(279.003906 0.015625)\"/>\n    <use xlink:href=\"#DejaVuSans-Bold-61\" transform=\"translate(328.320312 0.015625)\"/>\n    <use xlink:href=\"#DejaVuSans-Bold-63\" transform=\"translate(395.800781 0.015625)\"/>\n    <use xlink:href=\"#DejaVuSans-Bold-69\" transform=\"translate(455.078125 0.015625)\"/>\n    <use xlink:href=\"#DejaVuSans-Bold-73\" transform=\"translate(489.355469 0.015625)\"/>\n    <use xlink:href=\"#DejaVuSans-Bold-63\" transform=\"translate(548.876953 0.015625)\"/>\n    <use xlink:href=\"#DejaVuSans-Bold-6f\" transform=\"translate(608.154297 0.015625)\"/>\n    <use xlink:href=\"#DejaVuSans-Bold-2c\" transform=\"translate(676.855469 0.015625)\"/>\n    <use xlink:href=\"#DejaVuSans-Bold-43\" transform=\"translate(735.683594 0.015625)\"/>\n    <use xlink:href=\"#DejaVuSans-Bold-41\" transform=\"translate(809.072266 0.015625)\"/>\n   </g>\n   <!-- is leading sales by -->\n   <g style=\"fill: #787878\" transform=\"translate(106.56 94.883312)scale(0.14 -0.14)\">\n    <defs>\n     <path id=\"DejaVuSans-62\" d=\"M 3116 1747 \nQ 3116 2381 2855 2742 \nQ 2594 3103 2138 3103 \nQ 1681 3103 1420 2742 \nQ 1159 2381 1159 1747 \nQ 1159 1113 1420 752 \nQ 1681 391 2138 391 \nQ 2594 391 2855 752 \nQ 3116 1113 3116 1747 \nz\nM 1159 2969 \nQ 1341 3281 1617 3432 \nQ 1894 3584 2278 3584 \nQ 2916 3584 3314 3078 \nQ 3713 2572 3713 1747 \nQ 3713 922 3314 415 \nQ 2916 -91 2278 -91 \nQ 1894 -91 1617 61 \nQ 1341 213 1159 525 \nL 1159 0 \nL 581 0 \nL 581 4863 \nL 1159 4863 \nL 1159 2969 \nz\n\" transform=\"scale(0.015625)\"/>\n    </defs>\n    <use xlink:href=\"#DejaVuSans-69\"/>\n    <use xlink:href=\"#DejaVuSans-73\" x=\"27.783203\"/>\n    <use xlink:href=\"#DejaVuSans-20\" x=\"79.882812\"/>\n    <use xlink:href=\"#DejaVuSans-6c\" x=\"111.669922\"/>\n    <use xlink:href=\"#DejaVuSans-65\" x=\"139.453125\"/>\n    <use xlink:href=\"#DejaVuSans-61\" x=\"200.976562\"/>\n    <use xlink:href=\"#DejaVuSans-64\" x=\"262.255859\"/>\n    <use xlink:href=\"#DejaVuSans-69\" x=\"325.732422\"/>\n    <use xlink:href=\"#DejaVuSans-6e\" x=\"353.515625\"/>\n    <use xlink:href=\"#DejaVuSans-67\" x=\"416.894531\"/>\n    <use xlink:href=\"#DejaVuSans-20\" x=\"480.371094\"/>\n    <use xlink:href=\"#DejaVuSans-73\" x=\"512.158203\"/>\n    <use xlink:href=\"#DejaVuSans-61\" x=\"564.257812\"/>\n    <use xlink:href=\"#DejaVuSans-6c\" x=\"625.537109\"/>\n    <use xlink:href=\"#DejaVuSans-65\" x=\"653.320312\"/>\n    <use xlink:href=\"#DejaVuSans-73\" x=\"714.84375\"/>\n    <use xlink:href=\"#DejaVuSans-20\" x=\"766.943359\"/>\n    <use xlink:href=\"#DejaVuSans-62\" x=\"798.730469\"/>\n    <use xlink:href=\"#DejaVuSans-79\" x=\"862.207031\"/>\n   </g>\n   <!-- a large gap. -->\n   <g style=\"fill: #787878\" transform=\"translate(106.56 110.56025)scale(0.14 -0.14)\">\n    <defs>\n     <path id=\"DejaVuSans-70\" d=\"M 1159 525 \nL 1159 -1331 \nL 581 -1331 \nL 581 3500 \nL 1159 3500 \nL 1159 2969 \nQ 1341 3281 1617 3432 \nQ 1894 3584 2278 3584 \nQ 2916 3584 3314 3078 \nQ 3713 2572 3713 1747 \nQ 3713 922 3314 415 \nQ 2916 -91 2278 -91 \nQ 1894 -91 1617 61 \nQ 1341 213 1159 525 \nz\nM 3116 1747 \nQ 3116 2381 2855 2742 \nQ 2594 3103 2138 3103 \nQ 1681 3103 1420 2742 \nQ 1159 2381 1159 1747 \nQ 1159 1113 1420 752 \nQ 1681 391 2138 391 \nQ 2594 391 2855 752 \nQ 3116 1113 3116 1747 \nz\n\" transform=\"scale(0.015625)\"/>\n    </defs>\n    <use xlink:href=\"#DejaVuSans-61\"/>\n    <use xlink:href=\"#DejaVuSans-20\" x=\"61.279297\"/>\n    <use xlink:href=\"#DejaVuSans-6c\" x=\"93.066406\"/>\n    <use xlink:href=\"#DejaVuSans-61\" x=\"120.849609\"/>\n    <use xlink:href=\"#DejaVuSans-72\" x=\"182.128906\"/>\n    <use xlink:href=\"#DejaVuSans-67\" x=\"221.492188\"/>\n    <use xlink:href=\"#DejaVuSans-65\" x=\"284.96875\"/>\n    <use xlink:href=\"#DejaVuSans-20\" x=\"346.492188\"/>\n    <use xlink:href=\"#DejaVuSans-67\" x=\"378.279297\"/>\n    <use xlink:href=\"#DejaVuSans-61\" x=\"441.755859\"/>\n    <use xlink:href=\"#DejaVuSans-70\" x=\"503.035156\"/>\n    <use xlink:href=\"#DejaVuSans-2e\" x=\"566.511719\"/>\n   </g>\n   <!--  -->\n   <g style=\"fill: #787878\" transform=\"translate(106.56 126.237188)scale(0.14 -0.14)\"/>\n  </g>\n </g>\n <defs>\n  <clipPath id=\"p3746ed85da\">\n   <rect x=\"7.2\" y=\"26.877187\" width=\"669.6\" height=\"326.16\"/>\n  </clipPath>\n </defs>\n</svg>\n"
          },
          "metadata": {
            "needs_background": "light"
          }
        }
      ]
    },
    {
      "cell_type": "markdown",
      "source": [
        "San Francisco is leading by a large amount, I would like to check how ads are targeting, and how we are doing it, maybe that way I can have an idea on why we are getting more customers from there."
      ],
      "metadata": {
        "id": "HHGT3m3jZ8G3"
      }
    },
    {
      "cell_type": "markdown",
      "metadata": {
        "id": "bWO14VlW3p4k"
      },
      "source": [
        "# What time should we display advertisements to maximize likelihood of customer buying product?\n",
        "\n",
        "I want to compare number of sales and sales value to see if theres a big difference between the two."
      ]
    },
    {
      "cell_type": "code",
      "source": [
        "#@title\n",
        "#plot\n",
        "fig, (ax1, ax2) = plt.subplots(nrows=1, ncols=2, figsize=(16,4)) # set figure and axis\n",
        "sales_time_count.plot(kind='line', ax=ax1, marker='o', markevery=[19, 12], clip_on=False, color='#253760') # plot left chart\n",
        "sales_time_sum.plot(kind='line', ax=ax2, marker='o', markevery=[19, 12], clip_on=False, color='#253760') # plot right chart\n",
        "\n",
        "# remove corners\n",
        "ax1.spines['right'].set_visible(False) # remove ax1 right corner\n",
        "ax1.spines['top'].set_visible(False) # remove ax1 top corner\n",
        "ax2.spines['right'].set_visible(False) # remove ax2 right corner\n",
        "ax2.spines['top'].set_visible(False) # remove ax2 top corner\n",
        "\n",
        "# set corners color\n",
        "ax1.spines[\"bottom\"].set_color('#787878') # set ax1 bottom color\n",
        "ax1.spines[\"left\"].set_color('#787878') # set ax1 left color\n",
        "ax2.spines[\"bottom\"].set_color('#787878') # set ax1 bottom color\n",
        "ax2.spines[\"left\"].set_color('#787878') # set ax1 left color\n",
        "\n",
        "# set label style\n",
        "ax1.set_xlabel('') # hide ax1 label name\n",
        "ax1.tick_params(colors='#787878', which='both') # change ax1 tick color\n",
        "ax2.set_xlabel('') # hide ax2 label name\n",
        "ax2.tick_params(colors='#787878', which='both') # change ax2 tick color\n",
        "\n",
        "# remove legend\n",
        "ax1.get_legend().remove()\n",
        "ax2.get_legend().remove()\n",
        "\n",
        "# plotar título ax1\n",
        "ax1.set_title('Amount of Sales per Hour', # text\n",
        "             loc='left', # position\n",
        "             fontsize=16, # fontsize\n",
        "             fontweight='bold', #fontweight\n",
        "             color='#787878', # color\n",
        "             pad=18) # distance from border to chart\n",
        "\n",
        "# plotar título ax2\n",
        "ax2.set_title('Sales Value per Hour', # text\n",
        "             loc='left', # position\n",
        "             fontsize=16, # fontsize\n",
        "             fontweight='bold', #fontweight\n",
        "             color='#787878', # color\n",
        "             pad=18) # distance from border to chart\n",
        "\n",
        "# describing text\n",
        "fig.text(0.70, 0.3, # position\n",
        "         \"$\\\\bf{VALUES}$\\n\"\n",
        "         \"had almost the same\\n\"\n",
        "         \"variation comparing\\n\"\n",
        "         \"# of sales and sum of sales.\"\n",
        "         ,\n",
        "         fontsize=14, # fontsize\n",
        "         color='#787878') # color\n",
        "\n",
        "# annotation ax1\n",
        "for index, row in sales_time_count.nlargest(2,'Sales').iterrows(): # read each index row for top 3 sales_month\n",
        "      ax1.annotate(xy=(index, row['Sales']), xycoords='data', xytext=(0,10), textcoords='offset points',# positioning annotation\n",
        "              color='#5e5e5e', # color\n",
        "              text=row['Sales'], # annotation text\n",
        "              fontsize=12, # fontsize\n",
        "              horizontalalignment='center', # alignment\n",
        "              verticalalignment='center') # alignment\n",
        "# annotation ax2\n",
        "for index, row in sales_time_sum.nlargest(2,'Sales').iterrows(): # read each index row for top 3 sales_month\n",
        "      ax2.annotate(xy=(index, row['Sales']), xycoords='data', xytext=(0,10), textcoords='offset points',# positioning annotation\n",
        "              color='#5e5e5e', # color\n",
        "              text=row['Sales'], # annotation text\n",
        "              fontsize=12, # fontsize\n",
        "              horizontalalignment='center', # alignment\n",
        "              verticalalignment='center') # alignment\n",
        "\n",
        "# change font style\n",
        "plt.rcParams['font.family'] = 'sans-serif'"
      ],
      "metadata": {
        "colab": {
          "base_uri": "https://localhost:8080/",
          "height": 393
        },
        "id": "hfqv-Bdzr6Gr",
        "outputId": "6cc9a747-7733-473f-8dc4-1ae26db988c9",
        "cellView": "form"
      },
      "execution_count": 31,
      "outputs": [
        {
          "output_type": "display_data",
          "data": {
            "text/plain": [
              "<Figure size 1152x288 with 2 Axes>"
            ],
            "image/svg+xml": "<?xml version=\"1.0\" encoding=\"utf-8\" standalone=\"no\"?>\n<!DOCTYPE svg PUBLIC \"-//W3C//DTD SVG 1.1//EN\"\n  \"http://www.w3.org/Graphics/SVG/1.1/DTD/svg11.dtd\">\n<svg xmlns:xlink=\"http://www.w3.org/1999/xlink\" width=\"946.0125pt\" height=\"278.675625pt\" viewBox=\"0 0 946.0125 278.675625\" xmlns=\"http://www.w3.org/2000/svg\" version=\"1.1\">\n <metadata>\n  <rdf:RDF xmlns:dc=\"http://purl.org/dc/elements/1.1/\" xmlns:cc=\"http://creativecommons.org/ns#\" xmlns:rdf=\"http://www.w3.org/1999/02/22-rdf-syntax-ns#\">\n   <cc:Work>\n    <dc:type rdf:resource=\"http://purl.org/dc/dcmitype/StillImage\"/>\n    <dc:date>2022-03-30T14:47:17.856038</dc:date>\n    <dc:format>image/svg+xml</dc:format>\n    <dc:creator>\n     <cc:Agent>\n      <dc:title>Matplotlib v3.5.1, https://matplotlib.org/</dc:title>\n     </cc:Agent>\n    </dc:creator>\n   </cc:Work>\n  </rdf:RDF>\n </metadata>\n <defs>\n  <style type=\"text/css\">*{stroke-linejoin: round; stroke-linecap: butt}</style>\n </defs>\n <g id=\"figure_1\">\n  <g id=\"patch_1\">\n   <path d=\"M 0 278.675625 \nL 946.0125 278.675625 \nL 946.0125 0 \nL 0 0 \nL 0 278.675625 \nz\n\" style=\"fill: none\"/>\n  </g>\n  <g id=\"axes_1\">\n   <g id=\"patch_2\">\n    <path d=\"M 46.0125 254.7975 \nL 451.830682 254.7975 \nL 451.830682 37.3575 \nL 46.0125 37.3575 \nz\n\" style=\"fill: #ffffff\"/>\n   </g>\n   <g id=\"matplotlib.axis_1\">\n    <g id=\"xtick_1\">\n     <g id=\"line2d_1\">\n      <defs>\n       <path id=\"m70f7324fe4\" d=\"M 0 0 \nL 0 3.5 \n\" style=\"stroke: #787878; stroke-width: 0.8\"/>\n      </defs>\n      <g>\n       <use xlink:href=\"#m70f7324fe4\" x=\"64.458781\" y=\"254.7975\" style=\"fill: #787878; stroke: #787878; stroke-width: 0.8\"/>\n      </g>\n     </g>\n     <g id=\"text_1\">\n      <!-- 0 -->\n      <g style=\"fill: #787878\" transform=\"translate(61.277531 269.395938)scale(0.1 -0.1)\">\n       <defs>\n        <path id=\"DejaVuSans-30\" d=\"M 2034 4250 \nQ 1547 4250 1301 3770 \nQ 1056 3291 1056 2328 \nQ 1056 1369 1301 889 \nQ 1547 409 2034 409 \nQ 2525 409 2770 889 \nQ 3016 1369 3016 2328 \nQ 3016 3291 2770 3770 \nQ 2525 4250 2034 4250 \nz\nM 2034 4750 \nQ 2819 4750 3233 4129 \nQ 3647 3509 3647 2328 \nQ 3647 1150 3233 529 \nQ 2819 -91 2034 -91 \nQ 1250 -91 836 529 \nQ 422 1150 422 2328 \nQ 422 3509 836 4129 \nQ 1250 4750 2034 4750 \nz\n\" transform=\"scale(0.015625)\"/>\n       </defs>\n       <use xlink:href=\"#DejaVuSans-30\"/>\n      </g>\n     </g>\n    </g>\n    <g id=\"xtick_2\">\n     <g id=\"line2d_2\">\n      <g>\n       <use xlink:href=\"#m70f7324fe4\" x=\"144.660003\" y=\"254.7975\" style=\"fill: #787878; stroke: #787878; stroke-width: 0.8\"/>\n      </g>\n     </g>\n     <g id=\"text_2\">\n      <!-- 5 -->\n      <g style=\"fill: #787878\" transform=\"translate(141.478753 269.395938)scale(0.1 -0.1)\">\n       <defs>\n        <path id=\"DejaVuSans-35\" d=\"M 691 4666 \nL 3169 4666 \nL 3169 4134 \nL 1269 4134 \nL 1269 2991 \nQ 1406 3038 1543 3061 \nQ 1681 3084 1819 3084 \nQ 2600 3084 3056 2656 \nQ 3513 2228 3513 1497 \nQ 3513 744 3044 326 \nQ 2575 -91 1722 -91 \nQ 1428 -91 1123 -41 \nQ 819 9 494 109 \nL 494 744 \nQ 775 591 1075 516 \nQ 1375 441 1709 441 \nQ 2250 441 2565 725 \nQ 2881 1009 2881 1497 \nQ 2881 1984 2565 2268 \nQ 2250 2553 1709 2553 \nQ 1456 2553 1204 2497 \nQ 953 2441 691 2322 \nL 691 4666 \nz\n\" transform=\"scale(0.015625)\"/>\n       </defs>\n       <use xlink:href=\"#DejaVuSans-35\"/>\n      </g>\n     </g>\n    </g>\n    <g id=\"xtick_3\">\n     <g id=\"line2d_3\">\n      <g>\n       <use xlink:href=\"#m70f7324fe4\" x=\"224.861224\" y=\"254.7975\" style=\"fill: #787878; stroke: #787878; stroke-width: 0.8\"/>\n      </g>\n     </g>\n     <g id=\"text_3\">\n      <!-- 10 -->\n      <g style=\"fill: #787878\" transform=\"translate(218.498724 269.395938)scale(0.1 -0.1)\">\n       <defs>\n        <path id=\"DejaVuSans-31\" d=\"M 794 531 \nL 1825 531 \nL 1825 4091 \nL 703 3866 \nL 703 4441 \nL 1819 4666 \nL 2450 4666 \nL 2450 531 \nL 3481 531 \nL 3481 0 \nL 794 0 \nL 794 531 \nz\n\" transform=\"scale(0.015625)\"/>\n       </defs>\n       <use xlink:href=\"#DejaVuSans-31\"/>\n       <use xlink:href=\"#DejaVuSans-30\" x=\"63.623047\"/>\n      </g>\n     </g>\n    </g>\n    <g id=\"xtick_4\">\n     <g id=\"line2d_4\">\n      <g>\n       <use xlink:href=\"#m70f7324fe4\" x=\"305.062446\" y=\"254.7975\" style=\"fill: #787878; stroke: #787878; stroke-width: 0.8\"/>\n      </g>\n     </g>\n     <g id=\"text_4\">\n      <!-- 15 -->\n      <g style=\"fill: #787878\" transform=\"translate(298.699946 269.395938)scale(0.1 -0.1)\">\n       <use xlink:href=\"#DejaVuSans-31\"/>\n       <use xlink:href=\"#DejaVuSans-35\" x=\"63.623047\"/>\n      </g>\n     </g>\n    </g>\n    <g id=\"xtick_5\">\n     <g id=\"line2d_5\">\n      <g>\n       <use xlink:href=\"#m70f7324fe4\" x=\"385.263668\" y=\"254.7975\" style=\"fill: #787878; stroke: #787878; stroke-width: 0.8\"/>\n      </g>\n     </g>\n     <g id=\"text_5\">\n      <!-- 20 -->\n      <g style=\"fill: #787878\" transform=\"translate(378.901168 269.395938)scale(0.1 -0.1)\">\n       <defs>\n        <path id=\"DejaVuSans-32\" d=\"M 1228 531 \nL 3431 531 \nL 3431 0 \nL 469 0 \nL 469 531 \nQ 828 903 1448 1529 \nQ 2069 2156 2228 2338 \nQ 2531 2678 2651 2914 \nQ 2772 3150 2772 3378 \nQ 2772 3750 2511 3984 \nQ 2250 4219 1831 4219 \nQ 1534 4219 1204 4116 \nQ 875 4013 500 3803 \nL 500 4441 \nQ 881 4594 1212 4672 \nQ 1544 4750 1819 4750 \nQ 2544 4750 2975 4387 \nQ 3406 4025 3406 3419 \nQ 3406 3131 3298 2873 \nQ 3191 2616 2906 2266 \nQ 2828 2175 2409 1742 \nQ 1991 1309 1228 531 \nz\n\" transform=\"scale(0.015625)\"/>\n       </defs>\n       <use xlink:href=\"#DejaVuSans-32\"/>\n       <use xlink:href=\"#DejaVuSans-30\" x=\"63.623047\"/>\n      </g>\n     </g>\n    </g>\n   </g>\n   <g id=\"matplotlib.axis_2\">\n    <g id=\"ytick_1\">\n     <g id=\"line2d_6\">\n      <defs>\n       <path id=\"mcbfdd64b68\" d=\"M 0 0 \nL -3.5 0 \n\" style=\"stroke: #787878; stroke-width: 0.8\"/>\n      </defs>\n      <g>\n       <use xlink:href=\"#mcbfdd64b68\" x=\"46.0125\" y=\"225.775267\" style=\"fill: #787878; stroke: #787878; stroke-width: 0.8\"/>\n      </g>\n     </g>\n     <g id=\"text_6\">\n      <!-- 2000 -->\n      <g style=\"fill: #787878\" transform=\"translate(13.5625 229.574486)scale(0.1 -0.1)\">\n       <use xlink:href=\"#DejaVuSans-32\"/>\n       <use xlink:href=\"#DejaVuSans-30\" x=\"63.623047\"/>\n       <use xlink:href=\"#DejaVuSans-30\" x=\"127.246094\"/>\n       <use xlink:href=\"#DejaVuSans-30\" x=\"190.869141\"/>\n      </g>\n     </g>\n    </g>\n    <g id=\"ytick_2\">\n     <g id=\"line2d_7\">\n      <g>\n       <use xlink:href=\"#mcbfdd64b68\" x=\"46.0125\" y=\"193.031731\" style=\"fill: #787878; stroke: #787878; stroke-width: 0.8\"/>\n      </g>\n     </g>\n     <g id=\"text_7\">\n      <!-- 4000 -->\n      <g style=\"fill: #787878\" transform=\"translate(13.5625 196.830949)scale(0.1 -0.1)\">\n       <defs>\n        <path id=\"DejaVuSans-34\" d=\"M 2419 4116 \nL 825 1625 \nL 2419 1625 \nL 2419 4116 \nz\nM 2253 4666 \nL 3047 4666 \nL 3047 1625 \nL 3713 1625 \nL 3713 1100 \nL 3047 1100 \nL 3047 0 \nL 2419 0 \nL 2419 1100 \nL 313 1100 \nL 313 1709 \nL 2253 4666 \nz\n\" transform=\"scale(0.015625)\"/>\n       </defs>\n       <use xlink:href=\"#DejaVuSans-34\"/>\n       <use xlink:href=\"#DejaVuSans-30\" x=\"63.623047\"/>\n       <use xlink:href=\"#DejaVuSans-30\" x=\"127.246094\"/>\n       <use xlink:href=\"#DejaVuSans-30\" x=\"190.869141\"/>\n      </g>\n     </g>\n    </g>\n    <g id=\"ytick_3\">\n     <g id=\"line2d_8\">\n      <g>\n       <use xlink:href=\"#mcbfdd64b68\" x=\"46.0125\" y=\"160.288195\" style=\"fill: #787878; stroke: #787878; stroke-width: 0.8\"/>\n      </g>\n     </g>\n     <g id=\"text_8\">\n      <!-- 6000 -->\n      <g style=\"fill: #787878\" transform=\"translate(13.5625 164.087413)scale(0.1 -0.1)\">\n       <defs>\n        <path id=\"DejaVuSans-36\" d=\"M 2113 2584 \nQ 1688 2584 1439 2293 \nQ 1191 2003 1191 1497 \nQ 1191 994 1439 701 \nQ 1688 409 2113 409 \nQ 2538 409 2786 701 \nQ 3034 994 3034 1497 \nQ 3034 2003 2786 2293 \nQ 2538 2584 2113 2584 \nz\nM 3366 4563 \nL 3366 3988 \nQ 3128 4100 2886 4159 \nQ 2644 4219 2406 4219 \nQ 1781 4219 1451 3797 \nQ 1122 3375 1075 2522 \nQ 1259 2794 1537 2939 \nQ 1816 3084 2150 3084 \nQ 2853 3084 3261 2657 \nQ 3669 2231 3669 1497 \nQ 3669 778 3244 343 \nQ 2819 -91 2113 -91 \nQ 1303 -91 875 529 \nQ 447 1150 447 2328 \nQ 447 3434 972 4092 \nQ 1497 4750 2381 4750 \nQ 2619 4750 2861 4703 \nQ 3103 4656 3366 4563 \nz\n\" transform=\"scale(0.015625)\"/>\n       </defs>\n       <use xlink:href=\"#DejaVuSans-36\"/>\n       <use xlink:href=\"#DejaVuSans-30\" x=\"63.623047\"/>\n       <use xlink:href=\"#DejaVuSans-30\" x=\"127.246094\"/>\n       <use xlink:href=\"#DejaVuSans-30\" x=\"190.869141\"/>\n      </g>\n     </g>\n    </g>\n    <g id=\"ytick_4\">\n     <g id=\"line2d_9\">\n      <g>\n       <use xlink:href=\"#mcbfdd64b68\" x=\"46.0125\" y=\"127.544659\" style=\"fill: #787878; stroke: #787878; stroke-width: 0.8\"/>\n      </g>\n     </g>\n     <g id=\"text_9\">\n      <!-- 8000 -->\n      <g style=\"fill: #787878\" transform=\"translate(13.5625 131.343877)scale(0.1 -0.1)\">\n       <defs>\n        <path id=\"DejaVuSans-38\" d=\"M 2034 2216 \nQ 1584 2216 1326 1975 \nQ 1069 1734 1069 1313 \nQ 1069 891 1326 650 \nQ 1584 409 2034 409 \nQ 2484 409 2743 651 \nQ 3003 894 3003 1313 \nQ 3003 1734 2745 1975 \nQ 2488 2216 2034 2216 \nz\nM 1403 2484 \nQ 997 2584 770 2862 \nQ 544 3141 544 3541 \nQ 544 4100 942 4425 \nQ 1341 4750 2034 4750 \nQ 2731 4750 3128 4425 \nQ 3525 4100 3525 3541 \nQ 3525 3141 3298 2862 \nQ 3072 2584 2669 2484 \nQ 3125 2378 3379 2068 \nQ 3634 1759 3634 1313 \nQ 3634 634 3220 271 \nQ 2806 -91 2034 -91 \nQ 1263 -91 848 271 \nQ 434 634 434 1313 \nQ 434 1759 690 2068 \nQ 947 2378 1403 2484 \nz\nM 1172 3481 \nQ 1172 3119 1398 2916 \nQ 1625 2713 2034 2713 \nQ 2441 2713 2670 2916 \nQ 2900 3119 2900 3481 \nQ 2900 3844 2670 4047 \nQ 2441 4250 2034 4250 \nQ 1625 4250 1398 4047 \nQ 1172 3844 1172 3481 \nz\n\" transform=\"scale(0.015625)\"/>\n       </defs>\n       <use xlink:href=\"#DejaVuSans-38\"/>\n       <use xlink:href=\"#DejaVuSans-30\" x=\"63.623047\"/>\n       <use xlink:href=\"#DejaVuSans-30\" x=\"127.246094\"/>\n       <use xlink:href=\"#DejaVuSans-30\" x=\"190.869141\"/>\n      </g>\n     </g>\n    </g>\n    <g id=\"ytick_5\">\n     <g id=\"line2d_10\">\n      <g>\n       <use xlink:href=\"#mcbfdd64b68\" x=\"46.0125\" y=\"94.801123\" style=\"fill: #787878; stroke: #787878; stroke-width: 0.8\"/>\n      </g>\n     </g>\n     <g id=\"text_10\">\n      <!-- 10000 -->\n      <g style=\"fill: #787878\" transform=\"translate(7.2 98.600341)scale(0.1 -0.1)\">\n       <use xlink:href=\"#DejaVuSans-31\"/>\n       <use xlink:href=\"#DejaVuSans-30\" x=\"63.623047\"/>\n       <use xlink:href=\"#DejaVuSans-30\" x=\"127.246094\"/>\n       <use xlink:href=\"#DejaVuSans-30\" x=\"190.869141\"/>\n       <use xlink:href=\"#DejaVuSans-30\" x=\"254.492188\"/>\n      </g>\n     </g>\n    </g>\n    <g id=\"ytick_6\">\n     <g id=\"line2d_11\">\n      <g>\n       <use xlink:href=\"#mcbfdd64b68\" x=\"46.0125\" y=\"62.057586\" style=\"fill: #787878; stroke: #787878; stroke-width: 0.8\"/>\n      </g>\n     </g>\n     <g id=\"text_11\">\n      <!-- 12000 -->\n      <g style=\"fill: #787878\" transform=\"translate(7.2 65.856805)scale(0.1 -0.1)\">\n       <use xlink:href=\"#DejaVuSans-31\"/>\n       <use xlink:href=\"#DejaVuSans-32\" x=\"63.623047\"/>\n       <use xlink:href=\"#DejaVuSans-30\" x=\"127.246094\"/>\n       <use xlink:href=\"#DejaVuSans-30\" x=\"190.869141\"/>\n       <use xlink:href=\"#DejaVuSans-30\" x=\"254.492188\"/>\n      </g>\n     </g>\n    </g>\n   </g>\n   <g id=\"line2d_12\">\n    <path d=\"M 64.458781 194.50519 \nL 80.499025 220.045148 \nL 96.53927 238.168695 \nL 112.579514 244.913864 \nL 128.619758 244.537313 \nL 144.660003 236.891697 \nL 160.700247 217.884075 \nL 176.740491 192.851641 \nL 192.780736 156.097022 \nL 208.82098 115.298576 \nL 224.861224 79.346173 \nL 240.901469 55.32879 \nL 256.941713 52.447359 \nL 272.981957 59.945628 \nL 289.022202 78.691303 \nL 305.062446 91.936063 \nL 321.10269 88.514364 \nL 337.142935 80.082903 \nL 353.183179 57.473491 \nL 369.223423 47.241136 \nL 385.263668 58.324823 \nL 401.303912 79.722724 \nL 417.344156 114.087065 \nL 433.384401 155.785958 \n\" style=\"fill: none; stroke: #253760; stroke-width: 1.5; stroke-linecap: square\"/>\n    <defs>\n     <path id=\"mb6dea6ee87\" d=\"M 0 3 \nC 0.795609 3 1.55874 2.683901 2.12132 2.12132 \nC 2.683901 1.55874 3 0.795609 3 0 \nC 3 -0.795609 2.683901 -1.55874 2.12132 -2.12132 \nC 1.55874 -2.683901 0.795609 -3 0 -3 \nC -0.795609 -3 -1.55874 -2.683901 -2.12132 -2.12132 \nC -2.683901 -1.55874 -3 -0.795609 -3 0 \nC -3 0.795609 -2.683901 1.55874 -2.12132 2.12132 \nC -1.55874 2.683901 -0.795609 3 0 3 \nz\n\" style=\"stroke: #253760\"/>\n    </defs>\n    <g>\n     <use xlink:href=\"#mb6dea6ee87\" x=\"369.223423\" y=\"47.241136\" style=\"fill: #253760; stroke: #253760\"/>\n     <use xlink:href=\"#mb6dea6ee87\" x=\"256.941713\" y=\"52.447359\" style=\"fill: #253760; stroke: #253760\"/>\n    </g>\n   </g>\n   <g id=\"patch_3\">\n    <path d=\"M 46.0125 254.7975 \nL 46.0125 37.3575 \n\" style=\"fill: none; stroke: #787878; stroke-width: 0.8; stroke-linejoin: miter; stroke-linecap: square\"/>\n   </g>\n   <g id=\"patch_4\">\n    <path d=\"M 46.0125 254.7975 \nL 451.830682 254.7975 \n\" style=\"fill: none; stroke: #787878; stroke-width: 0.8; stroke-linejoin: miter; stroke-linecap: square\"/>\n   </g>\n   <g id=\"text_12\">\n    <!-- 12905 -->\n    <g style=\"fill: #5e5e5e\" transform=\"translate(350.135923 40.552386)scale(0.12 -0.12)\">\n     <defs>\n      <path id=\"DejaVuSans-39\" d=\"M 703 97 \nL 703 672 \nQ 941 559 1184 500 \nQ 1428 441 1663 441 \nQ 2288 441 2617 861 \nQ 2947 1281 2994 2138 \nQ 2813 1869 2534 1725 \nQ 2256 1581 1919 1581 \nQ 1219 1581 811 2004 \nQ 403 2428 403 3163 \nQ 403 3881 828 4315 \nQ 1253 4750 1959 4750 \nQ 2769 4750 3195 4129 \nQ 3622 3509 3622 2328 \nQ 3622 1225 3098 567 \nQ 2575 -91 1691 -91 \nQ 1453 -91 1209 -44 \nQ 966 3 703 97 \nz\nM 1959 2075 \nQ 2384 2075 2632 2365 \nQ 2881 2656 2881 3163 \nQ 2881 3666 2632 3958 \nQ 2384 4250 1959 4250 \nQ 1534 4250 1286 3958 \nQ 1038 3666 1038 3163 \nQ 1038 2656 1286 2365 \nQ 1534 2075 1959 2075 \nz\n\" transform=\"scale(0.015625)\"/>\n     </defs>\n     <use xlink:href=\"#DejaVuSans-31\"/>\n     <use xlink:href=\"#DejaVuSans-32\" x=\"63.623047\"/>\n     <use xlink:href=\"#DejaVuSans-39\" x=\"127.246094\"/>\n     <use xlink:href=\"#DejaVuSans-30\" x=\"190.869141\"/>\n     <use xlink:href=\"#DejaVuSans-35\" x=\"254.492188\"/>\n    </g>\n   </g>\n   <g id=\"text_13\">\n    <!-- 12587 -->\n    <g style=\"fill: #5e5e5e\" transform=\"translate(237.854213 45.758609)scale(0.12 -0.12)\">\n     <defs>\n      <path id=\"DejaVuSans-37\" d=\"M 525 4666 \nL 3525 4666 \nL 3525 4397 \nL 1831 0 \nL 1172 0 \nL 2766 4134 \nL 525 4134 \nL 525 4666 \nz\n\" transform=\"scale(0.015625)\"/>\n     </defs>\n     <use xlink:href=\"#DejaVuSans-31\"/>\n     <use xlink:href=\"#DejaVuSans-32\" x=\"63.623047\"/>\n     <use xlink:href=\"#DejaVuSans-35\" x=\"127.246094\"/>\n     <use xlink:href=\"#DejaVuSans-38\" x=\"190.869141\"/>\n     <use xlink:href=\"#DejaVuSans-37\" x=\"254.492188\"/>\n    </g>\n   </g>\n   <g id=\"text_14\">\n    <!-- Amount of Sales per Hour -->\n    <g style=\"fill: #787878\" transform=\"translate(46.0125 19.3575)scale(0.16 -0.16)\">\n     <defs>\n      <path id=\"DejaVuSans-Bold-41\" d=\"M 3419 850 \nL 1538 850 \nL 1241 0 \nL 31 0 \nL 1759 4666 \nL 3194 4666 \nL 4922 0 \nL 3713 0 \nL 3419 850 \nz\nM 1838 1716 \nL 3116 1716 \nL 2478 3572 \nL 1838 1716 \nz\n\" transform=\"scale(0.015625)\"/>\n      <path id=\"DejaVuSans-Bold-6d\" d=\"M 3781 2919 \nQ 3994 3244 4286 3414 \nQ 4578 3584 4928 3584 \nQ 5531 3584 5847 3212 \nQ 6163 2841 6163 2131 \nL 6163 0 \nL 5038 0 \nL 5038 1825 \nQ 5041 1866 5042 1909 \nQ 5044 1953 5044 2034 \nQ 5044 2406 4934 2573 \nQ 4825 2741 4581 2741 \nQ 4263 2741 4089 2478 \nQ 3916 2216 3909 1719 \nL 3909 0 \nL 2784 0 \nL 2784 1825 \nQ 2784 2406 2684 2573 \nQ 2584 2741 2328 2741 \nQ 2006 2741 1831 2477 \nQ 1656 2213 1656 1722 \nL 1656 0 \nL 531 0 \nL 531 3500 \nL 1656 3500 \nL 1656 2988 \nQ 1863 3284 2130 3434 \nQ 2397 3584 2719 3584 \nQ 3081 3584 3359 3409 \nQ 3638 3234 3781 2919 \nz\n\" transform=\"scale(0.015625)\"/>\n      <path id=\"DejaVuSans-Bold-6f\" d=\"M 2203 2784 \nQ 1831 2784 1636 2517 \nQ 1441 2250 1441 1747 \nQ 1441 1244 1636 976 \nQ 1831 709 2203 709 \nQ 2569 709 2762 976 \nQ 2956 1244 2956 1747 \nQ 2956 2250 2762 2517 \nQ 2569 2784 2203 2784 \nz\nM 2203 3584 \nQ 3106 3584 3614 3096 \nQ 4122 2609 4122 1747 \nQ 4122 884 3614 396 \nQ 3106 -91 2203 -91 \nQ 1297 -91 786 396 \nQ 275 884 275 1747 \nQ 275 2609 786 3096 \nQ 1297 3584 2203 3584 \nz\n\" transform=\"scale(0.015625)\"/>\n      <path id=\"DejaVuSans-Bold-75\" d=\"M 500 1363 \nL 500 3500 \nL 1625 3500 \nL 1625 3150 \nQ 1625 2866 1622 2436 \nQ 1619 2006 1619 1863 \nQ 1619 1441 1641 1255 \nQ 1663 1069 1716 984 \nQ 1784 875 1895 815 \nQ 2006 756 2150 756 \nQ 2500 756 2700 1025 \nQ 2900 1294 2900 1772 \nL 2900 3500 \nL 4019 3500 \nL 4019 0 \nL 2900 0 \nL 2900 506 \nQ 2647 200 2364 54 \nQ 2081 -91 1741 -91 \nQ 1134 -91 817 281 \nQ 500 653 500 1363 \nz\n\" transform=\"scale(0.015625)\"/>\n      <path id=\"DejaVuSans-Bold-6e\" d=\"M 4056 2131 \nL 4056 0 \nL 2931 0 \nL 2931 347 \nL 2931 1631 \nQ 2931 2084 2911 2256 \nQ 2891 2428 2841 2509 \nQ 2775 2619 2662 2680 \nQ 2550 2741 2406 2741 \nQ 2056 2741 1856 2470 \nQ 1656 2200 1656 1722 \nL 1656 0 \nL 538 0 \nL 538 3500 \nL 1656 3500 \nL 1656 2988 \nQ 1909 3294 2193 3439 \nQ 2478 3584 2822 3584 \nQ 3428 3584 3742 3212 \nQ 4056 2841 4056 2131 \nz\n\" transform=\"scale(0.015625)\"/>\n      <path id=\"DejaVuSans-Bold-74\" d=\"M 1759 4494 \nL 1759 3500 \nL 2913 3500 \nL 2913 2700 \nL 1759 2700 \nL 1759 1216 \nQ 1759 972 1856 886 \nQ 1953 800 2241 800 \nL 2816 800 \nL 2816 0 \nL 1856 0 \nQ 1194 0 917 276 \nQ 641 553 641 1216 \nL 641 2700 \nL 84 2700 \nL 84 3500 \nL 641 3500 \nL 641 4494 \nL 1759 4494 \nz\n\" transform=\"scale(0.015625)\"/>\n      <path id=\"DejaVuSans-Bold-20\" transform=\"scale(0.015625)\"/>\n      <path id=\"DejaVuSans-Bold-66\" d=\"M 2841 4863 \nL 2841 4128 \nL 2222 4128 \nQ 1984 4128 1890 4042 \nQ 1797 3956 1797 3744 \nL 1797 3500 \nL 2753 3500 \nL 2753 2700 \nL 1797 2700 \nL 1797 0 \nL 678 0 \nL 678 2700 \nL 122 2700 \nL 122 3500 \nL 678 3500 \nL 678 3744 \nQ 678 4316 997 4589 \nQ 1316 4863 1984 4863 \nL 2841 4863 \nz\n\" transform=\"scale(0.015625)\"/>\n      <path id=\"DejaVuSans-Bold-53\" d=\"M 3834 4519 \nL 3834 3531 \nQ 3450 3703 3084 3790 \nQ 2719 3878 2394 3878 \nQ 1963 3878 1756 3759 \nQ 1550 3641 1550 3391 \nQ 1550 3203 1689 3098 \nQ 1828 2994 2194 2919 \nL 2706 2816 \nQ 3484 2659 3812 2340 \nQ 4141 2022 4141 1434 \nQ 4141 663 3683 286 \nQ 3225 -91 2284 -91 \nQ 1841 -91 1394 -6 \nQ 947 78 500 244 \nL 500 1259 \nQ 947 1022 1364 901 \nQ 1781 781 2169 781 \nQ 2563 781 2772 912 \nQ 2981 1044 2981 1288 \nQ 2981 1506 2839 1625 \nQ 2697 1744 2272 1838 \nL 1806 1941 \nQ 1106 2091 782 2419 \nQ 459 2747 459 3303 \nQ 459 4000 909 4375 \nQ 1359 4750 2203 4750 \nQ 2588 4750 2994 4692 \nQ 3400 4634 3834 4519 \nz\n\" transform=\"scale(0.015625)\"/>\n      <path id=\"DejaVuSans-Bold-61\" d=\"M 2106 1575 \nQ 1756 1575 1579 1456 \nQ 1403 1338 1403 1106 \nQ 1403 894 1545 773 \nQ 1688 653 1941 653 \nQ 2256 653 2472 879 \nQ 2688 1106 2688 1447 \nL 2688 1575 \nL 2106 1575 \nz\nM 3816 1997 \nL 3816 0 \nL 2688 0 \nL 2688 519 \nQ 2463 200 2181 54 \nQ 1900 -91 1497 -91 \nQ 953 -91 614 226 \nQ 275 544 275 1050 \nQ 275 1666 698 1953 \nQ 1122 2241 2028 2241 \nL 2688 2241 \nL 2688 2328 \nQ 2688 2594 2478 2717 \nQ 2269 2841 1825 2841 \nQ 1466 2841 1156 2769 \nQ 847 2697 581 2553 \nL 581 3406 \nQ 941 3494 1303 3539 \nQ 1666 3584 2028 3584 \nQ 2975 3584 3395 3211 \nQ 3816 2838 3816 1997 \nz\n\" transform=\"scale(0.015625)\"/>\n      <path id=\"DejaVuSans-Bold-6c\" d=\"M 538 4863 \nL 1656 4863 \nL 1656 0 \nL 538 0 \nL 538 4863 \nz\n\" transform=\"scale(0.015625)\"/>\n      <path id=\"DejaVuSans-Bold-65\" d=\"M 4031 1759 \nL 4031 1441 \nL 1416 1441 \nQ 1456 1047 1700 850 \nQ 1944 653 2381 653 \nQ 2734 653 3104 758 \nQ 3475 863 3866 1075 \nL 3866 213 \nQ 3469 63 3072 -14 \nQ 2675 -91 2278 -91 \nQ 1328 -91 801 392 \nQ 275 875 275 1747 \nQ 275 2603 792 3093 \nQ 1309 3584 2216 3584 \nQ 3041 3584 3536 3087 \nQ 4031 2591 4031 1759 \nz\nM 2881 2131 \nQ 2881 2450 2695 2645 \nQ 2509 2841 2209 2841 \nQ 1884 2841 1681 2658 \nQ 1478 2475 1428 2131 \nL 2881 2131 \nz\n\" transform=\"scale(0.015625)\"/>\n      <path id=\"DejaVuSans-Bold-73\" d=\"M 3272 3391 \nL 3272 2541 \nQ 2913 2691 2578 2766 \nQ 2244 2841 1947 2841 \nQ 1628 2841 1473 2761 \nQ 1319 2681 1319 2516 \nQ 1319 2381 1436 2309 \nQ 1553 2238 1856 2203 \nL 2053 2175 \nQ 2913 2066 3209 1816 \nQ 3506 1566 3506 1031 \nQ 3506 472 3093 190 \nQ 2681 -91 1863 -91 \nQ 1516 -91 1145 -36 \nQ 775 19 384 128 \nL 384 978 \nQ 719 816 1070 734 \nQ 1422 653 1784 653 \nQ 2113 653 2278 743 \nQ 2444 834 2444 1013 \nQ 2444 1163 2330 1236 \nQ 2216 1309 1875 1350 \nL 1678 1375 \nQ 931 1469 631 1722 \nQ 331 1975 331 2491 \nQ 331 3047 712 3315 \nQ 1094 3584 1881 3584 \nQ 2191 3584 2531 3537 \nQ 2872 3491 3272 3391 \nz\n\" transform=\"scale(0.015625)\"/>\n      <path id=\"DejaVuSans-Bold-70\" d=\"M 1656 506 \nL 1656 -1331 \nL 538 -1331 \nL 538 3500 \nL 1656 3500 \nL 1656 2988 \nQ 1888 3294 2169 3439 \nQ 2450 3584 2816 3584 \nQ 3463 3584 3878 3070 \nQ 4294 2556 4294 1747 \nQ 4294 938 3878 423 \nQ 3463 -91 2816 -91 \nQ 2450 -91 2169 54 \nQ 1888 200 1656 506 \nz\nM 2400 2772 \nQ 2041 2772 1848 2508 \nQ 1656 2244 1656 1747 \nQ 1656 1250 1848 986 \nQ 2041 722 2400 722 \nQ 2759 722 2948 984 \nQ 3138 1247 3138 1747 \nQ 3138 2247 2948 2509 \nQ 2759 2772 2400 2772 \nz\n\" transform=\"scale(0.015625)\"/>\n      <path id=\"DejaVuSans-Bold-72\" d=\"M 3138 2547 \nQ 2991 2616 2845 2648 \nQ 2700 2681 2553 2681 \nQ 2122 2681 1889 2404 \nQ 1656 2128 1656 1613 \nL 1656 0 \nL 538 0 \nL 538 3500 \nL 1656 3500 \nL 1656 2925 \nQ 1872 3269 2151 3426 \nQ 2431 3584 2822 3584 \nQ 2878 3584 2943 3579 \nQ 3009 3575 3134 3559 \nL 3138 2547 \nz\n\" transform=\"scale(0.015625)\"/>\n      <path id=\"DejaVuSans-Bold-48\" d=\"M 588 4666 \nL 1791 4666 \nL 1791 2888 \nL 3566 2888 \nL 3566 4666 \nL 4769 4666 \nL 4769 0 \nL 3566 0 \nL 3566 1978 \nL 1791 1978 \nL 1791 0 \nL 588 0 \nL 588 4666 \nz\n\" transform=\"scale(0.015625)\"/>\n     </defs>\n     <use xlink:href=\"#DejaVuSans-Bold-41\"/>\n     <use xlink:href=\"#DejaVuSans-Bold-6d\" x=\"77.392578\"/>\n     <use xlink:href=\"#DejaVuSans-Bold-6f\" x=\"181.591797\"/>\n     <use xlink:href=\"#DejaVuSans-Bold-75\" x=\"250.292969\"/>\n     <use xlink:href=\"#DejaVuSans-Bold-6e\" x=\"321.484375\"/>\n     <use xlink:href=\"#DejaVuSans-Bold-74\" x=\"392.675781\"/>\n     <use xlink:href=\"#DejaVuSans-Bold-20\" x=\"440.478516\"/>\n     <use xlink:href=\"#DejaVuSans-Bold-6f\" x=\"475.292969\"/>\n     <use xlink:href=\"#DejaVuSans-Bold-66\" x=\"543.994141\"/>\n     <use xlink:href=\"#DejaVuSans-Bold-20\" x=\"587.5\"/>\n     <use xlink:href=\"#DejaVuSans-Bold-53\" x=\"622.314453\"/>\n     <use xlink:href=\"#DejaVuSans-Bold-61\" x=\"694.335938\"/>\n     <use xlink:href=\"#DejaVuSans-Bold-6c\" x=\"761.816406\"/>\n     <use xlink:href=\"#DejaVuSans-Bold-65\" x=\"796.09375\"/>\n     <use xlink:href=\"#DejaVuSans-Bold-73\" x=\"863.916016\"/>\n     <use xlink:href=\"#DejaVuSans-Bold-20\" x=\"923.4375\"/>\n     <use xlink:href=\"#DejaVuSans-Bold-70\" x=\"958.251953\"/>\n     <use xlink:href=\"#DejaVuSans-Bold-65\" x=\"1029.833984\"/>\n     <use xlink:href=\"#DejaVuSans-Bold-72\" x=\"1097.65625\"/>\n     <use xlink:href=\"#DejaVuSans-Bold-20\" x=\"1146.972656\"/>\n     <use xlink:href=\"#DejaVuSans-Bold-48\" x=\"1181.787109\"/>\n     <use xlink:href=\"#DejaVuSans-Bold-6f\" x=\"1265.478516\"/>\n     <use xlink:href=\"#DejaVuSans-Bold-75\" x=\"1334.179688\"/>\n     <use xlink:href=\"#DejaVuSans-Bold-72\" x=\"1405.371094\"/>\n    </g>\n   </g>\n  </g>\n  <g id=\"axes_2\">\n   <g id=\"patch_5\">\n    <path d=\"M 532.994318 254.7975 \nL 938.8125 254.7975 \nL 938.8125 37.3575 \nL 532.994318 37.3575 \nz\n\" style=\"fill: #ffffff\"/>\n   </g>\n   <g id=\"matplotlib.axis_3\">\n    <g id=\"xtick_6\">\n     <g id=\"line2d_13\">\n      <g>\n       <use xlink:href=\"#m70f7324fe4\" x=\"551.440599\" y=\"254.7975\" style=\"fill: #787878; stroke: #787878; stroke-width: 0.8\"/>\n      </g>\n     </g>\n     <g id=\"text_15\">\n      <!-- 0 -->\n      <g style=\"fill: #787878\" transform=\"translate(548.259349 269.395938)scale(0.1 -0.1)\">\n       <use xlink:href=\"#DejaVuSans-30\"/>\n      </g>\n     </g>\n    </g>\n    <g id=\"xtick_7\">\n     <g id=\"line2d_14\">\n      <g>\n       <use xlink:href=\"#m70f7324fe4\" x=\"631.641821\" y=\"254.7975\" style=\"fill: #787878; stroke: #787878; stroke-width: 0.8\"/>\n      </g>\n     </g>\n     <g id=\"text_16\">\n      <!-- 5 -->\n      <g style=\"fill: #787878\" transform=\"translate(628.460571 269.395938)scale(0.1 -0.1)\">\n       <use xlink:href=\"#DejaVuSans-35\"/>\n      </g>\n     </g>\n    </g>\n    <g id=\"xtick_8\">\n     <g id=\"line2d_15\">\n      <g>\n       <use xlink:href=\"#m70f7324fe4\" x=\"711.843043\" y=\"254.7975\" style=\"fill: #787878; stroke: #787878; stroke-width: 0.8\"/>\n      </g>\n     </g>\n     <g id=\"text_17\">\n      <!-- 10 -->\n      <g style=\"fill: #787878\" transform=\"translate(705.480543 269.395938)scale(0.1 -0.1)\">\n       <use xlink:href=\"#DejaVuSans-31\"/>\n       <use xlink:href=\"#DejaVuSans-30\" x=\"63.623047\"/>\n      </g>\n     </g>\n    </g>\n    <g id=\"xtick_9\">\n     <g id=\"line2d_16\">\n      <g>\n       <use xlink:href=\"#m70f7324fe4\" x=\"792.044264\" y=\"254.7975\" style=\"fill: #787878; stroke: #787878; stroke-width: 0.8\"/>\n      </g>\n     </g>\n     <g id=\"text_18\">\n      <!-- 15 -->\n      <g style=\"fill: #787878\" transform=\"translate(785.681764 269.395938)scale(0.1 -0.1)\">\n       <use xlink:href=\"#DejaVuSans-31\"/>\n       <use xlink:href=\"#DejaVuSans-35\" x=\"63.623047\"/>\n      </g>\n     </g>\n    </g>\n    <g id=\"xtick_10\">\n     <g id=\"line2d_17\">\n      <g>\n       <use xlink:href=\"#m70f7324fe4\" x=\"872.245486\" y=\"254.7975\" style=\"fill: #787878; stroke: #787878; stroke-width: 0.8\"/>\n      </g>\n     </g>\n     <g id=\"text_19\">\n      <!-- 20 -->\n      <g style=\"fill: #787878\" transform=\"translate(865.882986 269.395938)scale(0.1 -0.1)\">\n       <use xlink:href=\"#DejaVuSans-32\"/>\n       <use xlink:href=\"#DejaVuSans-30\" x=\"63.623047\"/>\n      </g>\n     </g>\n    </g>\n   </g>\n   <g id=\"matplotlib.axis_4\">\n    <g id=\"ytick_7\">\n     <g id=\"line2d_18\">\n      <g>\n       <use xlink:href=\"#mcbfdd64b68\" x=\"532.994318\" y=\"214.027924\" style=\"fill: #787878; stroke: #787878; stroke-width: 0.8\"/>\n      </g>\n     </g>\n     <g id=\"text_20\">\n      <!-- 0.5 -->\n      <g style=\"fill: #787878\" transform=\"translate(510.091193 217.827143)scale(0.1 -0.1)\">\n       <defs>\n        <path id=\"DejaVuSans-2e\" d=\"M 684 794 \nL 1344 794 \nL 1344 0 \nL 684 0 \nL 684 794 \nz\n\" transform=\"scale(0.015625)\"/>\n       </defs>\n       <use xlink:href=\"#DejaVuSans-30\"/>\n       <use xlink:href=\"#DejaVuSans-2e\" x=\"63.623047\"/>\n       <use xlink:href=\"#DejaVuSans-35\" x=\"95.410156\"/>\n      </g>\n     </g>\n    </g>\n    <g id=\"ytick_8\">\n     <g id=\"line2d_19\">\n      <g>\n       <use xlink:href=\"#mcbfdd64b68\" x=\"532.994318\" y=\"170.433532\" style=\"fill: #787878; stroke: #787878; stroke-width: 0.8\"/>\n      </g>\n     </g>\n     <g id=\"text_21\">\n      <!-- 1.0 -->\n      <g style=\"fill: #787878\" transform=\"translate(510.091193 174.23275)scale(0.1 -0.1)\">\n       <use xlink:href=\"#DejaVuSans-31\"/>\n       <use xlink:href=\"#DejaVuSans-2e\" x=\"63.623047\"/>\n       <use xlink:href=\"#DejaVuSans-30\" x=\"95.410156\"/>\n      </g>\n     </g>\n    </g>\n    <g id=\"ytick_9\">\n     <g id=\"line2d_20\">\n      <g>\n       <use xlink:href=\"#mcbfdd64b68\" x=\"532.994318\" y=\"126.839139\" style=\"fill: #787878; stroke: #787878; stroke-width: 0.8\"/>\n      </g>\n     </g>\n     <g id=\"text_22\">\n      <!-- 1.5 -->\n      <g style=\"fill: #787878\" transform=\"translate(510.091193 130.638358)scale(0.1 -0.1)\">\n       <use xlink:href=\"#DejaVuSans-31\"/>\n       <use xlink:href=\"#DejaVuSans-2e\" x=\"63.623047\"/>\n       <use xlink:href=\"#DejaVuSans-35\" x=\"95.410156\"/>\n      </g>\n     </g>\n    </g>\n    <g id=\"ytick_10\">\n     <g id=\"line2d_21\">\n      <g>\n       <use xlink:href=\"#mcbfdd64b68\" x=\"532.994318\" y=\"83.244746\" style=\"fill: #787878; stroke: #787878; stroke-width: 0.8\"/>\n      </g>\n     </g>\n     <g id=\"text_23\">\n      <!-- 2.0 -->\n      <g style=\"fill: #787878\" transform=\"translate(510.091193 87.043965)scale(0.1 -0.1)\">\n       <use xlink:href=\"#DejaVuSans-32\"/>\n       <use xlink:href=\"#DejaVuSans-2e\" x=\"63.623047\"/>\n       <use xlink:href=\"#DejaVuSans-30\" x=\"95.410156\"/>\n      </g>\n     </g>\n    </g>\n    <g id=\"ytick_11\">\n     <g id=\"line2d_22\">\n      <g>\n       <use xlink:href=\"#mcbfdd64b68\" x=\"532.994318\" y=\"39.650353\" style=\"fill: #787878; stroke: #787878; stroke-width: 0.8\"/>\n      </g>\n     </g>\n     <g id=\"text_24\">\n      <!-- 2.5 -->\n      <g style=\"fill: #787878\" transform=\"translate(510.091193 43.449572)scale(0.1 -0.1)\">\n       <use xlink:href=\"#DejaVuSans-32\"/>\n       <use xlink:href=\"#DejaVuSans-2e\" x=\"63.623047\"/>\n       <use xlink:href=\"#DejaVuSans-35\" x=\"95.410156\"/>\n      </g>\n     </g>\n    </g>\n    <g id=\"text_25\">\n     <!-- 1e6 -->\n     <g style=\"fill: #787878\" transform=\"translate(532.994318 34.3575)scale(0.1 -0.1)\">\n      <defs>\n       <path id=\"DejaVuSans-65\" d=\"M 3597 1894 \nL 3597 1613 \nL 953 1613 \nQ 991 1019 1311 708 \nQ 1631 397 2203 397 \nQ 2534 397 2845 478 \nQ 3156 559 3463 722 \nL 3463 178 \nQ 3153 47 2828 -22 \nQ 2503 -91 2169 -91 \nQ 1331 -91 842 396 \nQ 353 884 353 1716 \nQ 353 2575 817 3079 \nQ 1281 3584 2069 3584 \nQ 2775 3584 3186 3129 \nQ 3597 2675 3597 1894 \nz\nM 3022 2063 \nQ 3016 2534 2758 2815 \nQ 2500 3097 2075 3097 \nQ 1594 3097 1305 2825 \nQ 1016 2553 972 2059 \nL 3022 2063 \nz\n\" transform=\"scale(0.015625)\"/>\n      </defs>\n      <use xlink:href=\"#DejaVuSans-31\"/>\n      <use xlink:href=\"#DejaVuSans-65\" x=\"63.623047\"/>\n      <use xlink:href=\"#DejaVuSans-36\" x=\"125.146484\"/>\n     </g>\n    </g>\n   </g>\n   <g id=\"line2d_23\">\n    <path d=\"M 551.440599 195.393826 \nL 567.480844 217.439894 \nL 583.521088 237.145905 \nL 599.561332 244.913864 \nL 615.601577 243.440101 \nL 631.641821 237.509624 \nL 647.682065 218.551889 \nL 663.72231 192.679391 \nL 679.762554 153.662859 \nL 695.802798 114.717231 \nL 711.843043 88.102315 \nL 727.883287 57.034904 \nL 743.923531 55.621478 \nL 759.963776 69.696498 \nL 776.00402 75.949422 \nL 792.044264 88.340966 \nL 808.084509 91.562442 \nL 824.124753 71.965864 \nL 840.164997 64.120034 \nL 856.205242 47.241136 \nL 872.245486 58.682249 \nL 888.28573 79.582742 \nL 904.325975 117.462054 \nL 920.366219 154.800195 \n\" style=\"fill: none; stroke: #253760; stroke-width: 1.5; stroke-linecap: square\"/>\n    <g>\n     <use xlink:href=\"#mb6dea6ee87\" x=\"856.205242\" y=\"47.241136\" style=\"fill: #253760; stroke: #253760\"/>\n     <use xlink:href=\"#mb6dea6ee87\" x=\"743.923531\" y=\"55.621478\" style=\"fill: #253760; stroke: #253760\"/>\n    </g>\n   </g>\n   <g id=\"patch_6\">\n    <path d=\"M 532.994318 254.7975 \nL 532.994318 37.3575 \n\" style=\"fill: none; stroke: #787878; stroke-width: 0.8; stroke-linejoin: miter; stroke-linecap: square\"/>\n   </g>\n   <g id=\"patch_7\">\n    <path d=\"M 532.994318 254.7975 \nL 938.8125 254.7975 \n\" style=\"fill: none; stroke: #787878; stroke-width: 0.8; stroke-linejoin: miter; stroke-linecap: square\"/>\n   </g>\n   <g id=\"text_26\">\n    <!-- 2412938.54 -->\n    <g style=\"fill: #5e5e5e\" transform=\"translate(819.940867 40.552386)scale(0.12 -0.12)\">\n     <defs>\n      <path id=\"DejaVuSans-33\" d=\"M 2597 2516 \nQ 3050 2419 3304 2112 \nQ 3559 1806 3559 1356 \nQ 3559 666 3084 287 \nQ 2609 -91 1734 -91 \nQ 1441 -91 1130 -33 \nQ 819 25 488 141 \nL 488 750 \nQ 750 597 1062 519 \nQ 1375 441 1716 441 \nQ 2309 441 2620 675 \nQ 2931 909 2931 1356 \nQ 2931 1769 2642 2001 \nQ 2353 2234 1838 2234 \nL 1294 2234 \nL 1294 2753 \nL 1863 2753 \nQ 2328 2753 2575 2939 \nQ 2822 3125 2822 3475 \nQ 2822 3834 2567 4026 \nQ 2313 4219 1838 4219 \nQ 1578 4219 1281 4162 \nQ 984 4106 628 3988 \nL 628 4550 \nQ 988 4650 1302 4700 \nQ 1616 4750 1894 4750 \nQ 2613 4750 3031 4423 \nQ 3450 4097 3450 3541 \nQ 3450 3153 3228 2886 \nQ 3006 2619 2597 2516 \nz\n\" transform=\"scale(0.015625)\"/>\n     </defs>\n     <use xlink:href=\"#DejaVuSans-32\"/>\n     <use xlink:href=\"#DejaVuSans-34\" x=\"63.623047\"/>\n     <use xlink:href=\"#DejaVuSans-31\" x=\"127.246094\"/>\n     <use xlink:href=\"#DejaVuSans-32\" x=\"190.869141\"/>\n     <use xlink:href=\"#DejaVuSans-39\" x=\"254.492188\"/>\n     <use xlink:href=\"#DejaVuSans-33\" x=\"318.115234\"/>\n     <use xlink:href=\"#DejaVuSans-38\" x=\"381.738281\"/>\n     <use xlink:href=\"#DejaVuSans-2e\" x=\"445.361328\"/>\n     <use xlink:href=\"#DejaVuSans-35\" x=\"477.148438\"/>\n     <use xlink:href=\"#DejaVuSans-34\" x=\"540.771484\"/>\n    </g>\n   </g>\n   <g id=\"text_27\">\n    <!-- 2316821.34 -->\n    <g style=\"fill: #5e5e5e\" transform=\"translate(707.659156 48.932728)scale(0.12 -0.12)\">\n     <use xlink:href=\"#DejaVuSans-32\"/>\n     <use xlink:href=\"#DejaVuSans-33\" x=\"63.623047\"/>\n     <use xlink:href=\"#DejaVuSans-31\" x=\"127.246094\"/>\n     <use xlink:href=\"#DejaVuSans-36\" x=\"190.869141\"/>\n     <use xlink:href=\"#DejaVuSans-38\" x=\"254.492188\"/>\n     <use xlink:href=\"#DejaVuSans-32\" x=\"318.115234\"/>\n     <use xlink:href=\"#DejaVuSans-31\" x=\"381.738281\"/>\n     <use xlink:href=\"#DejaVuSans-2e\" x=\"445.361328\"/>\n     <use xlink:href=\"#DejaVuSans-33\" x=\"477.148438\"/>\n     <use xlink:href=\"#DejaVuSans-34\" x=\"540.771484\"/>\n    </g>\n   </g>\n   <g id=\"text_28\">\n    <!-- Sales Value per Hour -->\n    <g style=\"fill: #787878\" transform=\"translate(532.994318 19.3575)scale(0.16 -0.16)\">\n     <defs>\n      <path id=\"DejaVuSans-Bold-56\" d=\"M 31 4666 \nL 1241 4666 \nL 2478 1222 \nL 3713 4666 \nL 4922 4666 \nL 3194 0 \nL 1759 0 \nL 31 4666 \nz\n\" transform=\"scale(0.015625)\"/>\n     </defs>\n     <use xlink:href=\"#DejaVuSans-Bold-53\"/>\n     <use xlink:href=\"#DejaVuSans-Bold-61\" x=\"72.021484\"/>\n     <use xlink:href=\"#DejaVuSans-Bold-6c\" x=\"139.501953\"/>\n     <use xlink:href=\"#DejaVuSans-Bold-65\" x=\"173.779297\"/>\n     <use xlink:href=\"#DejaVuSans-Bold-73\" x=\"241.601562\"/>\n     <use xlink:href=\"#DejaVuSans-Bold-20\" x=\"301.123047\"/>\n     <use xlink:href=\"#DejaVuSans-Bold-56\" x=\"335.9375\"/>\n     <use xlink:href=\"#DejaVuSans-Bold-61\" x=\"407.830078\"/>\n     <use xlink:href=\"#DejaVuSans-Bold-6c\" x=\"475.310547\"/>\n     <use xlink:href=\"#DejaVuSans-Bold-75\" x=\"509.587891\"/>\n     <use xlink:href=\"#DejaVuSans-Bold-65\" x=\"580.779297\"/>\n     <use xlink:href=\"#DejaVuSans-Bold-20\" x=\"648.601562\"/>\n     <use xlink:href=\"#DejaVuSans-Bold-70\" x=\"683.416016\"/>\n     <use xlink:href=\"#DejaVuSans-Bold-65\" x=\"754.998047\"/>\n     <use xlink:href=\"#DejaVuSans-Bold-72\" x=\"822.820312\"/>\n     <use xlink:href=\"#DejaVuSans-Bold-20\" x=\"872.136719\"/>\n     <use xlink:href=\"#DejaVuSans-Bold-48\" x=\"906.951172\"/>\n     <use xlink:href=\"#DejaVuSans-Bold-6f\" x=\"990.642578\"/>\n     <use xlink:href=\"#DejaVuSans-Bold-75\" x=\"1059.34375\"/>\n     <use xlink:href=\"#DejaVuSans-Bold-72\" x=\"1130.535156\"/>\n    </g>\n   </g>\n  </g>\n  <g id=\"text_29\">\n   <!-- $\\bf{VALUES}$ -->\n   <g style=\"fill: #787878\" transform=\"translate(708.4125 157.366688)scale(0.14 -0.14)\">\n    <defs>\n     <path id=\"DejaVuSans-Bold-4c\" d=\"M 588 4666 \nL 1791 4666 \nL 1791 909 \nL 3903 909 \nL 3903 0 \nL 588 0 \nL 588 4666 \nz\n\" transform=\"scale(0.015625)\"/>\n     <path id=\"DejaVuSans-Bold-55\" d=\"M 588 4666 \nL 1791 4666 \nL 1791 1869 \nQ 1791 1291 1980 1042 \nQ 2169 794 2597 794 \nQ 3028 794 3217 1042 \nQ 3406 1291 3406 1869 \nL 3406 4666 \nL 4609 4666 \nL 4609 1869 \nQ 4609 878 4112 393 \nQ 3616 -91 2597 -91 \nQ 1581 -91 1084 393 \nQ 588 878 588 1869 \nL 588 4666 \nz\n\" transform=\"scale(0.015625)\"/>\n     <path id=\"DejaVuSans-Bold-45\" d=\"M 588 4666 \nL 3834 4666 \nL 3834 3756 \nL 1791 3756 \nL 1791 2888 \nL 3713 2888 \nL 3713 1978 \nL 1791 1978 \nL 1791 909 \nL 3903 909 \nL 3903 0 \nL 588 0 \nL 588 4666 \nz\n\" transform=\"scale(0.015625)\"/>\n    </defs>\n    <use xlink:href=\"#DejaVuSans-Bold-56\" transform=\"translate(0 0.78125)\"/>\n    <use xlink:href=\"#DejaVuSans-Bold-41\" transform=\"translate(77.392578 0.78125)\"/>\n    <use xlink:href=\"#DejaVuSans-Bold-4c\" transform=\"translate(154.785156 0.78125)\"/>\n    <use xlink:href=\"#DejaVuSans-Bold-55\" transform=\"translate(218.505859 0.78125)\"/>\n    <use xlink:href=\"#DejaVuSans-Bold-45\" transform=\"translate(299.707031 0.78125)\"/>\n    <use xlink:href=\"#DejaVuSans-Bold-53\" transform=\"translate(368.017578 0.78125)\"/>\n   </g>\n   <!-- had almost the same -->\n   <g style=\"fill: #787878\" transform=\"translate(708.4125 173.043625)scale(0.14 -0.14)\">\n    <defs>\n     <path id=\"DejaVuSans-68\" d=\"M 3513 2113 \nL 3513 0 \nL 2938 0 \nL 2938 2094 \nQ 2938 2591 2744 2837 \nQ 2550 3084 2163 3084 \nQ 1697 3084 1428 2787 \nQ 1159 2491 1159 1978 \nL 1159 0 \nL 581 0 \nL 581 4863 \nL 1159 4863 \nL 1159 2956 \nQ 1366 3272 1645 3428 \nQ 1925 3584 2291 3584 \nQ 2894 3584 3203 3211 \nQ 3513 2838 3513 2113 \nz\n\" transform=\"scale(0.015625)\"/>\n     <path id=\"DejaVuSans-61\" d=\"M 2194 1759 \nQ 1497 1759 1228 1600 \nQ 959 1441 959 1056 \nQ 959 750 1161 570 \nQ 1363 391 1709 391 \nQ 2188 391 2477 730 \nQ 2766 1069 2766 1631 \nL 2766 1759 \nL 2194 1759 \nz\nM 3341 1997 \nL 3341 0 \nL 2766 0 \nL 2766 531 \nQ 2569 213 2275 61 \nQ 1981 -91 1556 -91 \nQ 1019 -91 701 211 \nQ 384 513 384 1019 \nQ 384 1609 779 1909 \nQ 1175 2209 1959 2209 \nL 2766 2209 \nL 2766 2266 \nQ 2766 2663 2505 2880 \nQ 2244 3097 1772 3097 \nQ 1472 3097 1187 3025 \nQ 903 2953 641 2809 \nL 641 3341 \nQ 956 3463 1253 3523 \nQ 1550 3584 1831 3584 \nQ 2591 3584 2966 3190 \nQ 3341 2797 3341 1997 \nz\n\" transform=\"scale(0.015625)\"/>\n     <path id=\"DejaVuSans-64\" d=\"M 2906 2969 \nL 2906 4863 \nL 3481 4863 \nL 3481 0 \nL 2906 0 \nL 2906 525 \nQ 2725 213 2448 61 \nQ 2172 -91 1784 -91 \nQ 1150 -91 751 415 \nQ 353 922 353 1747 \nQ 353 2572 751 3078 \nQ 1150 3584 1784 3584 \nQ 2172 3584 2448 3432 \nQ 2725 3281 2906 2969 \nz\nM 947 1747 \nQ 947 1113 1208 752 \nQ 1469 391 1925 391 \nQ 2381 391 2643 752 \nQ 2906 1113 2906 1747 \nQ 2906 2381 2643 2742 \nQ 2381 3103 1925 3103 \nQ 1469 3103 1208 2742 \nQ 947 2381 947 1747 \nz\n\" transform=\"scale(0.015625)\"/>\n     <path id=\"DejaVuSans-20\" transform=\"scale(0.015625)\"/>\n     <path id=\"DejaVuSans-6c\" d=\"M 603 4863 \nL 1178 4863 \nL 1178 0 \nL 603 0 \nL 603 4863 \nz\n\" transform=\"scale(0.015625)\"/>\n     <path id=\"DejaVuSans-6d\" d=\"M 3328 2828 \nQ 3544 3216 3844 3400 \nQ 4144 3584 4550 3584 \nQ 5097 3584 5394 3201 \nQ 5691 2819 5691 2113 \nL 5691 0 \nL 5113 0 \nL 5113 2094 \nQ 5113 2597 4934 2840 \nQ 4756 3084 4391 3084 \nQ 3944 3084 3684 2787 \nQ 3425 2491 3425 1978 \nL 3425 0 \nL 2847 0 \nL 2847 2094 \nQ 2847 2600 2669 2842 \nQ 2491 3084 2119 3084 \nQ 1678 3084 1418 2786 \nQ 1159 2488 1159 1978 \nL 1159 0 \nL 581 0 \nL 581 3500 \nL 1159 3500 \nL 1159 2956 \nQ 1356 3278 1631 3431 \nQ 1906 3584 2284 3584 \nQ 2666 3584 2933 3390 \nQ 3200 3197 3328 2828 \nz\n\" transform=\"scale(0.015625)\"/>\n     <path id=\"DejaVuSans-6f\" d=\"M 1959 3097 \nQ 1497 3097 1228 2736 \nQ 959 2375 959 1747 \nQ 959 1119 1226 758 \nQ 1494 397 1959 397 \nQ 2419 397 2687 759 \nQ 2956 1122 2956 1747 \nQ 2956 2369 2687 2733 \nQ 2419 3097 1959 3097 \nz\nM 1959 3584 \nQ 2709 3584 3137 3096 \nQ 3566 2609 3566 1747 \nQ 3566 888 3137 398 \nQ 2709 -91 1959 -91 \nQ 1206 -91 779 398 \nQ 353 888 353 1747 \nQ 353 2609 779 3096 \nQ 1206 3584 1959 3584 \nz\n\" transform=\"scale(0.015625)\"/>\n     <path id=\"DejaVuSans-73\" d=\"M 2834 3397 \nL 2834 2853 \nQ 2591 2978 2328 3040 \nQ 2066 3103 1784 3103 \nQ 1356 3103 1142 2972 \nQ 928 2841 928 2578 \nQ 928 2378 1081 2264 \nQ 1234 2150 1697 2047 \nL 1894 2003 \nQ 2506 1872 2764 1633 \nQ 3022 1394 3022 966 \nQ 3022 478 2636 193 \nQ 2250 -91 1575 -91 \nQ 1294 -91 989 -36 \nQ 684 19 347 128 \nL 347 722 \nQ 666 556 975 473 \nQ 1284 391 1588 391 \nQ 1994 391 2212 530 \nQ 2431 669 2431 922 \nQ 2431 1156 2273 1281 \nQ 2116 1406 1581 1522 \nL 1381 1569 \nQ 847 1681 609 1914 \nQ 372 2147 372 2553 \nQ 372 3047 722 3315 \nQ 1072 3584 1716 3584 \nQ 2034 3584 2315 3537 \nQ 2597 3491 2834 3397 \nz\n\" transform=\"scale(0.015625)\"/>\n     <path id=\"DejaVuSans-74\" d=\"M 1172 4494 \nL 1172 3500 \nL 2356 3500 \nL 2356 3053 \nL 1172 3053 \nL 1172 1153 \nQ 1172 725 1289 603 \nQ 1406 481 1766 481 \nL 2356 481 \nL 2356 0 \nL 1766 0 \nQ 1100 0 847 248 \nQ 594 497 594 1153 \nL 594 3053 \nL 172 3053 \nL 172 3500 \nL 594 3500 \nL 594 4494 \nL 1172 4494 \nz\n\" transform=\"scale(0.015625)\"/>\n    </defs>\n    <use xlink:href=\"#DejaVuSans-68\"/>\n    <use xlink:href=\"#DejaVuSans-61\" x=\"63.378906\"/>\n    <use xlink:href=\"#DejaVuSans-64\" x=\"124.658203\"/>\n    <use xlink:href=\"#DejaVuSans-20\" x=\"188.134766\"/>\n    <use xlink:href=\"#DejaVuSans-61\" x=\"219.921875\"/>\n    <use xlink:href=\"#DejaVuSans-6c\" x=\"281.201172\"/>\n    <use xlink:href=\"#DejaVuSans-6d\" x=\"308.984375\"/>\n    <use xlink:href=\"#DejaVuSans-6f\" x=\"406.396484\"/>\n    <use xlink:href=\"#DejaVuSans-73\" x=\"467.578125\"/>\n    <use xlink:href=\"#DejaVuSans-74\" x=\"519.677734\"/>\n    <use xlink:href=\"#DejaVuSans-20\" x=\"558.886719\"/>\n    <use xlink:href=\"#DejaVuSans-74\" x=\"590.673828\"/>\n    <use xlink:href=\"#DejaVuSans-68\" x=\"629.882812\"/>\n    <use xlink:href=\"#DejaVuSans-65\" x=\"693.261719\"/>\n    <use xlink:href=\"#DejaVuSans-20\" x=\"754.785156\"/>\n    <use xlink:href=\"#DejaVuSans-73\" x=\"786.572266\"/>\n    <use xlink:href=\"#DejaVuSans-61\" x=\"838.671875\"/>\n    <use xlink:href=\"#DejaVuSans-6d\" x=\"899.951172\"/>\n    <use xlink:href=\"#DejaVuSans-65\" x=\"997.363281\"/>\n   </g>\n   <!-- variation comparing -->\n   <g style=\"fill: #787878\" transform=\"translate(708.4125 188.720563)scale(0.14 -0.14)\">\n    <defs>\n     <path id=\"DejaVuSans-76\" d=\"M 191 3500 \nL 800 3500 \nL 1894 563 \nL 2988 3500 \nL 3597 3500 \nL 2284 0 \nL 1503 0 \nL 191 3500 \nz\n\" transform=\"scale(0.015625)\"/>\n     <path id=\"DejaVuSans-72\" d=\"M 2631 2963 \nQ 2534 3019 2420 3045 \nQ 2306 3072 2169 3072 \nQ 1681 3072 1420 2755 \nQ 1159 2438 1159 1844 \nL 1159 0 \nL 581 0 \nL 581 3500 \nL 1159 3500 \nL 1159 2956 \nQ 1341 3275 1631 3429 \nQ 1922 3584 2338 3584 \nQ 2397 3584 2469 3576 \nQ 2541 3569 2628 3553 \nL 2631 2963 \nz\n\" transform=\"scale(0.015625)\"/>\n     <path id=\"DejaVuSans-69\" d=\"M 603 3500 \nL 1178 3500 \nL 1178 0 \nL 603 0 \nL 603 3500 \nz\nM 603 4863 \nL 1178 4863 \nL 1178 4134 \nL 603 4134 \nL 603 4863 \nz\n\" transform=\"scale(0.015625)\"/>\n     <path id=\"DejaVuSans-6e\" d=\"M 3513 2113 \nL 3513 0 \nL 2938 0 \nL 2938 2094 \nQ 2938 2591 2744 2837 \nQ 2550 3084 2163 3084 \nQ 1697 3084 1428 2787 \nQ 1159 2491 1159 1978 \nL 1159 0 \nL 581 0 \nL 581 3500 \nL 1159 3500 \nL 1159 2956 \nQ 1366 3272 1645 3428 \nQ 1925 3584 2291 3584 \nQ 2894 3584 3203 3211 \nQ 3513 2838 3513 2113 \nz\n\" transform=\"scale(0.015625)\"/>\n     <path id=\"DejaVuSans-63\" d=\"M 3122 3366 \nL 3122 2828 \nQ 2878 2963 2633 3030 \nQ 2388 3097 2138 3097 \nQ 1578 3097 1268 2742 \nQ 959 2388 959 1747 \nQ 959 1106 1268 751 \nQ 1578 397 2138 397 \nQ 2388 397 2633 464 \nQ 2878 531 3122 666 \nL 3122 134 \nQ 2881 22 2623 -34 \nQ 2366 -91 2075 -91 \nQ 1284 -91 818 406 \nQ 353 903 353 1747 \nQ 353 2603 823 3093 \nQ 1294 3584 2113 3584 \nQ 2378 3584 2631 3529 \nQ 2884 3475 3122 3366 \nz\n\" transform=\"scale(0.015625)\"/>\n     <path id=\"DejaVuSans-70\" d=\"M 1159 525 \nL 1159 -1331 \nL 581 -1331 \nL 581 3500 \nL 1159 3500 \nL 1159 2969 \nQ 1341 3281 1617 3432 \nQ 1894 3584 2278 3584 \nQ 2916 3584 3314 3078 \nQ 3713 2572 3713 1747 \nQ 3713 922 3314 415 \nQ 2916 -91 2278 -91 \nQ 1894 -91 1617 61 \nQ 1341 213 1159 525 \nz\nM 3116 1747 \nQ 3116 2381 2855 2742 \nQ 2594 3103 2138 3103 \nQ 1681 3103 1420 2742 \nQ 1159 2381 1159 1747 \nQ 1159 1113 1420 752 \nQ 1681 391 2138 391 \nQ 2594 391 2855 752 \nQ 3116 1113 3116 1747 \nz\n\" transform=\"scale(0.015625)\"/>\n     <path id=\"DejaVuSans-67\" d=\"M 2906 1791 \nQ 2906 2416 2648 2759 \nQ 2391 3103 1925 3103 \nQ 1463 3103 1205 2759 \nQ 947 2416 947 1791 \nQ 947 1169 1205 825 \nQ 1463 481 1925 481 \nQ 2391 481 2648 825 \nQ 2906 1169 2906 1791 \nz\nM 3481 434 \nQ 3481 -459 3084 -895 \nQ 2688 -1331 1869 -1331 \nQ 1566 -1331 1297 -1286 \nQ 1028 -1241 775 -1147 \nL 775 -588 \nQ 1028 -725 1275 -790 \nQ 1522 -856 1778 -856 \nQ 2344 -856 2625 -561 \nQ 2906 -266 2906 331 \nL 2906 616 \nQ 2728 306 2450 153 \nQ 2172 0 1784 0 \nQ 1141 0 747 490 \nQ 353 981 353 1791 \nQ 353 2603 747 3093 \nQ 1141 3584 1784 3584 \nQ 2172 3584 2450 3431 \nQ 2728 3278 2906 2969 \nL 2906 3500 \nL 3481 3500 \nL 3481 434 \nz\n\" transform=\"scale(0.015625)\"/>\n    </defs>\n    <use xlink:href=\"#DejaVuSans-76\"/>\n    <use xlink:href=\"#DejaVuSans-61\" x=\"59.179688\"/>\n    <use xlink:href=\"#DejaVuSans-72\" x=\"120.458984\"/>\n    <use xlink:href=\"#DejaVuSans-69\" x=\"161.572266\"/>\n    <use xlink:href=\"#DejaVuSans-61\" x=\"189.355469\"/>\n    <use xlink:href=\"#DejaVuSans-74\" x=\"250.634766\"/>\n    <use xlink:href=\"#DejaVuSans-69\" x=\"289.84375\"/>\n    <use xlink:href=\"#DejaVuSans-6f\" x=\"317.626953\"/>\n    <use xlink:href=\"#DejaVuSans-6e\" x=\"378.808594\"/>\n    <use xlink:href=\"#DejaVuSans-20\" x=\"442.1875\"/>\n    <use xlink:href=\"#DejaVuSans-63\" x=\"473.974609\"/>\n    <use xlink:href=\"#DejaVuSans-6f\" x=\"528.955078\"/>\n    <use xlink:href=\"#DejaVuSans-6d\" x=\"590.136719\"/>\n    <use xlink:href=\"#DejaVuSans-70\" x=\"687.548828\"/>\n    <use xlink:href=\"#DejaVuSans-61\" x=\"751.025391\"/>\n    <use xlink:href=\"#DejaVuSans-72\" x=\"812.304688\"/>\n    <use xlink:href=\"#DejaVuSans-69\" x=\"853.417969\"/>\n    <use xlink:href=\"#DejaVuSans-6e\" x=\"881.201172\"/>\n    <use xlink:href=\"#DejaVuSans-67\" x=\"944.580078\"/>\n   </g>\n   <!-- # of sales and sum of sales. -->\n   <g style=\"fill: #787878\" transform=\"translate(708.4125 204.3975)scale(0.14 -0.14)\">\n    <defs>\n     <path id=\"DejaVuSans-23\" d=\"M 3272 2816 \nL 2363 2816 \nL 2100 1772 \nL 3016 1772 \nL 3272 2816 \nz\nM 2803 4594 \nL 2478 3297 \nL 3391 3297 \nL 3719 4594 \nL 4219 4594 \nL 3897 3297 \nL 4872 3297 \nL 4872 2816 \nL 3775 2816 \nL 3519 1772 \nL 4513 1772 \nL 4513 1294 \nL 3397 1294 \nL 3072 0 \nL 2572 0 \nL 2894 1294 \nL 1978 1294 \nL 1656 0 \nL 1153 0 \nL 1478 1294 \nL 494 1294 \nL 494 1772 \nL 1594 1772 \nL 1856 2816 \nL 850 2816 \nL 850 3297 \nL 1978 3297 \nL 2297 4594 \nL 2803 4594 \nz\n\" transform=\"scale(0.015625)\"/>\n     <path id=\"DejaVuSans-66\" d=\"M 2375 4863 \nL 2375 4384 \nL 1825 4384 \nQ 1516 4384 1395 4259 \nQ 1275 4134 1275 3809 \nL 1275 3500 \nL 2222 3500 \nL 2222 3053 \nL 1275 3053 \nL 1275 0 \nL 697 0 \nL 697 3053 \nL 147 3053 \nL 147 3500 \nL 697 3500 \nL 697 3744 \nQ 697 4328 969 4595 \nQ 1241 4863 1831 4863 \nL 2375 4863 \nz\n\" transform=\"scale(0.015625)\"/>\n     <path id=\"DejaVuSans-75\" d=\"M 544 1381 \nL 544 3500 \nL 1119 3500 \nL 1119 1403 \nQ 1119 906 1312 657 \nQ 1506 409 1894 409 \nQ 2359 409 2629 706 \nQ 2900 1003 2900 1516 \nL 2900 3500 \nL 3475 3500 \nL 3475 0 \nL 2900 0 \nL 2900 538 \nQ 2691 219 2414 64 \nQ 2138 -91 1772 -91 \nQ 1169 -91 856 284 \nQ 544 659 544 1381 \nz\nM 1991 3584 \nL 1991 3584 \nz\n\" transform=\"scale(0.015625)\"/>\n    </defs>\n    <use xlink:href=\"#DejaVuSans-23\"/>\n    <use xlink:href=\"#DejaVuSans-20\" x=\"83.789062\"/>\n    <use xlink:href=\"#DejaVuSans-6f\" x=\"115.576172\"/>\n    <use xlink:href=\"#DejaVuSans-66\" x=\"176.757812\"/>\n    <use xlink:href=\"#DejaVuSans-20\" x=\"211.962891\"/>\n    <use xlink:href=\"#DejaVuSans-73\" x=\"243.75\"/>\n    <use xlink:href=\"#DejaVuSans-61\" x=\"295.849609\"/>\n    <use xlink:href=\"#DejaVuSans-6c\" x=\"357.128906\"/>\n    <use xlink:href=\"#DejaVuSans-65\" x=\"384.912109\"/>\n    <use xlink:href=\"#DejaVuSans-73\" x=\"446.435547\"/>\n    <use xlink:href=\"#DejaVuSans-20\" x=\"498.535156\"/>\n    <use xlink:href=\"#DejaVuSans-61\" x=\"530.322266\"/>\n    <use xlink:href=\"#DejaVuSans-6e\" x=\"591.601562\"/>\n    <use xlink:href=\"#DejaVuSans-64\" x=\"654.980469\"/>\n    <use xlink:href=\"#DejaVuSans-20\" x=\"718.457031\"/>\n    <use xlink:href=\"#DejaVuSans-73\" x=\"750.244141\"/>\n    <use xlink:href=\"#DejaVuSans-75\" x=\"802.34375\"/>\n    <use xlink:href=\"#DejaVuSans-6d\" x=\"865.722656\"/>\n    <use xlink:href=\"#DejaVuSans-20\" x=\"963.134766\"/>\n    <use xlink:href=\"#DejaVuSans-6f\" x=\"994.921875\"/>\n    <use xlink:href=\"#DejaVuSans-66\" x=\"1056.103516\"/>\n    <use xlink:href=\"#DejaVuSans-20\" x=\"1091.308594\"/>\n    <use xlink:href=\"#DejaVuSans-73\" x=\"1123.095703\"/>\n    <use xlink:href=\"#DejaVuSans-61\" x=\"1175.195312\"/>\n    <use xlink:href=\"#DejaVuSans-6c\" x=\"1236.474609\"/>\n    <use xlink:href=\"#DejaVuSans-65\" x=\"1264.257812\"/>\n    <use xlink:href=\"#DejaVuSans-73\" x=\"1325.78125\"/>\n    <use xlink:href=\"#DejaVuSans-2e\" x=\"1377.880859\"/>\n   </g>\n  </g>\n </g>\n</svg>\n"
          },
          "metadata": {
            "needs_background": "light"
          }
        }
      ]
    },
    {
      "cell_type": "markdown",
      "source": [
        "So the chart shows how the number of sales and sales values have almost the same variation.\n",
        "\n",
        "I like to think we have a increase of sales from the hour people start to prepare to go to work reaching the peak on lunch time them decreasing again and reaching other peak on the time people are leaving work, after that sales start to decline.\n",
        "\n",
        "I believe it is better to target ads from 11:00 until 14:00, and them from 18:00 until 21:00."
      ],
      "metadata": {
        "id": "gGGokADbacK3"
      }
    },
    {
      "cell_type": "markdown",
      "metadata": {
        "id": "UpI22v993xuU"
      },
      "source": [
        "# What products are most often sold together?"
      ]
    },
    {
      "cell_type": "code",
      "source": [
        "#@title\n",
        "#plot\n",
        "fig, ax = plt.subplots(figsize=(8,4)) # set figure and axis\n",
        "#df_together.plot(kind='bar', ax=ax, color='#253760') # plot chart\n",
        "rect = ax.bar(df_together['Products'], df_together['qt'], color='#253760') # plot\n",
        "\n",
        "# set ticks\n",
        "plt.xticks(ticks=(0, 1, 2), labels=('iPhone +\\nLightning Charging Cable','Google Phone +\\nUSB-C Charging Cable', 'iPhone +\\nWired Headphones'), rotation=0)\n",
        "\n",
        "# plotar título\n",
        "ax.set_title('Products sold together the most', # text\n",
        "             loc='left', # position\n",
        "             fontsize=16, # fontsize\n",
        "             fontweight='bold', #fontweight\n",
        "             color='#787878', # color\n",
        "             pad=18) # distance from border to chart\n",
        "\n",
        "# remove corners\n",
        "ax.spines['right'].set_visible(False) # remove right corner\n",
        "ax.spines['top'].set_visible(False) # remove top corner\n",
        "ax.spines['bottom'].set_visible(False) # remove bottom corner\n",
        "ax.spines['left'].set_visible(False) # remove left corner\n",
        "\n",
        "# remove y ticks\n",
        "plt.gca().axes.get_yaxis().set_visible(False)\n",
        "\n",
        "# remove x ticks\n",
        "plt.tick_params(\n",
        "    axis='both',         \n",
        "    which='both',     \n",
        "    bottom=False,      \n",
        "    top=False,         \n",
        "    labelbottom=True)\n",
        "\n",
        "autolabel(rect, -57, -30, 18, float=False)"
      ],
      "metadata": {
        "colab": {
          "base_uri": "https://localhost:8080/",
          "height": 408
        },
        "id": "ZQ_RC-t0TOnt",
        "outputId": "7f9d56f3-e08c-4ceb-ca00-900fd57ac967",
        "cellView": "form"
      },
      "execution_count": 26,
      "outputs": [
        {
          "output_type": "display_data",
          "data": {
            "text/plain": [
              "<Figure size 576x288 with 1 Axes>"
            ],
            "image/svg+xml": "<?xml version=\"1.0\" encoding=\"utf-8\" standalone=\"no\"?>\n<!DOCTYPE svg PUBLIC \"-//W3C//DTD SVG 1.1//EN\"\n  \"http://www.w3.org/Graphics/SVG/1.1/DTD/svg11.dtd\">\n<svg xmlns:xlink=\"http://www.w3.org/1999/xlink\" width=\"460.8pt\" height=\"289.873438pt\" viewBox=\"0 0 460.8 289.873438\" xmlns=\"http://www.w3.org/2000/svg\" version=\"1.1\">\n <metadata>\n  <rdf:RDF xmlns:dc=\"http://purl.org/dc/elements/1.1/\" xmlns:cc=\"http://creativecommons.org/ns#\" xmlns:rdf=\"http://www.w3.org/1999/02/22-rdf-syntax-ns#\">\n   <cc:Work>\n    <dc:type rdf:resource=\"http://purl.org/dc/dcmitype/StillImage\"/>\n    <dc:date>2022-03-30T14:45:30.799867</dc:date>\n    <dc:format>image/svg+xml</dc:format>\n    <dc:creator>\n     <cc:Agent>\n      <dc:title>Matplotlib v3.5.1, https://matplotlib.org/</dc:title>\n     </cc:Agent>\n    </dc:creator>\n   </cc:Work>\n  </rdf:RDF>\n </metadata>\n <defs>\n  <style type=\"text/css\">*{stroke-linejoin: round; stroke-linecap: butt}</style>\n </defs>\n <g id=\"figure_1\">\n  <g id=\"patch_1\">\n   <path d=\"M 0 289.873438 \nL 460.8 289.873438 \nL 460.8 0 \nL 0 0 \nL 0 289.873438 \nz\n\" style=\"fill: none\"/>\n  </g>\n  <g id=\"axes_1\">\n   <g id=\"patch_2\">\n    <path d=\"M 7.2 254.7975 \nL 453.6 254.7975 \nL 453.6 37.3575 \nL 7.2 37.3575 \nz\n\" style=\"fill: #ffffff\"/>\n   </g>\n   <g id=\"patch_3\">\n    <path d=\"M 27.490909 254.7975 \nL 143.438961 254.7975 \nL 143.438961 47.711786 \nL 27.490909 47.711786 \nz\n\" clip-path=\"url(#pc744420004)\" style=\"fill: #253760\"/>\n   </g>\n   <g id=\"patch_4\">\n    <path d=\"M 172.425974 254.7975 \nL 288.374026 254.7975 \nL 288.374026 51.420784 \nL 172.425974 51.420784 \nz\n\" clip-path=\"url(#pc744420004)\" style=\"fill: #253760\"/>\n   </g>\n   <g id=\"patch_5\">\n    <path d=\"M 317.361039 254.7975 \nL 433.309091 254.7975 \nL 433.309091 162.69072 \nL 317.361039 162.69072 \nz\n\" clip-path=\"url(#pc744420004)\" style=\"fill: #253760\"/>\n   </g>\n   <g id=\"matplotlib.axis_1\">\n    <g id=\"xtick_1\">\n     <g id=\"text_1\">\n      <!-- iPhone + -->\n      <g transform=\"translate(62.808685 269.395938)scale(0.1 -0.1)\">\n       <defs>\n        <path id=\"DejaVuSans-69\" d=\"M 603 3500 \nL 1178 3500 \nL 1178 0 \nL 603 0 \nL 603 3500 \nz\nM 603 4863 \nL 1178 4863 \nL 1178 4134 \nL 603 4134 \nL 603 4863 \nz\n\" transform=\"scale(0.015625)\"/>\n        <path id=\"DejaVuSans-50\" d=\"M 1259 4147 \nL 1259 2394 \nL 2053 2394 \nQ 2494 2394 2734 2622 \nQ 2975 2850 2975 3272 \nQ 2975 3691 2734 3919 \nQ 2494 4147 2053 4147 \nL 1259 4147 \nz\nM 628 4666 \nL 2053 4666 \nQ 2838 4666 3239 4311 \nQ 3641 3956 3641 3272 \nQ 3641 2581 3239 2228 \nQ 2838 1875 2053 1875 \nL 1259 1875 \nL 1259 0 \nL 628 0 \nL 628 4666 \nz\n\" transform=\"scale(0.015625)\"/>\n        <path id=\"DejaVuSans-68\" d=\"M 3513 2113 \nL 3513 0 \nL 2938 0 \nL 2938 2094 \nQ 2938 2591 2744 2837 \nQ 2550 3084 2163 3084 \nQ 1697 3084 1428 2787 \nQ 1159 2491 1159 1978 \nL 1159 0 \nL 581 0 \nL 581 4863 \nL 1159 4863 \nL 1159 2956 \nQ 1366 3272 1645 3428 \nQ 1925 3584 2291 3584 \nQ 2894 3584 3203 3211 \nQ 3513 2838 3513 2113 \nz\n\" transform=\"scale(0.015625)\"/>\n        <path id=\"DejaVuSans-6f\" d=\"M 1959 3097 \nQ 1497 3097 1228 2736 \nQ 959 2375 959 1747 \nQ 959 1119 1226 758 \nQ 1494 397 1959 397 \nQ 2419 397 2687 759 \nQ 2956 1122 2956 1747 \nQ 2956 2369 2687 2733 \nQ 2419 3097 1959 3097 \nz\nM 1959 3584 \nQ 2709 3584 3137 3096 \nQ 3566 2609 3566 1747 \nQ 3566 888 3137 398 \nQ 2709 -91 1959 -91 \nQ 1206 -91 779 398 \nQ 353 888 353 1747 \nQ 353 2609 779 3096 \nQ 1206 3584 1959 3584 \nz\n\" transform=\"scale(0.015625)\"/>\n        <path id=\"DejaVuSans-6e\" d=\"M 3513 2113 \nL 3513 0 \nL 2938 0 \nL 2938 2094 \nQ 2938 2591 2744 2837 \nQ 2550 3084 2163 3084 \nQ 1697 3084 1428 2787 \nQ 1159 2491 1159 1978 \nL 1159 0 \nL 581 0 \nL 581 3500 \nL 1159 3500 \nL 1159 2956 \nQ 1366 3272 1645 3428 \nQ 1925 3584 2291 3584 \nQ 2894 3584 3203 3211 \nQ 3513 2838 3513 2113 \nz\n\" transform=\"scale(0.015625)\"/>\n        <path id=\"DejaVuSans-65\" d=\"M 3597 1894 \nL 3597 1613 \nL 953 1613 \nQ 991 1019 1311 708 \nQ 1631 397 2203 397 \nQ 2534 397 2845 478 \nQ 3156 559 3463 722 \nL 3463 178 \nQ 3153 47 2828 -22 \nQ 2503 -91 2169 -91 \nQ 1331 -91 842 396 \nQ 353 884 353 1716 \nQ 353 2575 817 3079 \nQ 1281 3584 2069 3584 \nQ 2775 3584 3186 3129 \nQ 3597 2675 3597 1894 \nz\nM 3022 2063 \nQ 3016 2534 2758 2815 \nQ 2500 3097 2075 3097 \nQ 1594 3097 1305 2825 \nQ 1016 2553 972 2059 \nL 3022 2063 \nz\n\" transform=\"scale(0.015625)\"/>\n        <path id=\"DejaVuSans-20\" transform=\"scale(0.015625)\"/>\n        <path id=\"DejaVuSans-2b\" d=\"M 2944 4013 \nL 2944 2272 \nL 4684 2272 \nL 4684 1741 \nL 2944 1741 \nL 2944 0 \nL 2419 0 \nL 2419 1741 \nL 678 1741 \nL 678 2272 \nL 2419 2272 \nL 2419 4013 \nL 2944 4013 \nz\n\" transform=\"scale(0.015625)\"/>\n       </defs>\n       <use xlink:href=\"#DejaVuSans-69\"/>\n       <use xlink:href=\"#DejaVuSans-50\" x=\"27.783203\"/>\n       <use xlink:href=\"#DejaVuSans-68\" x=\"88.085938\"/>\n       <use xlink:href=\"#DejaVuSans-6f\" x=\"151.464844\"/>\n       <use xlink:href=\"#DejaVuSans-6e\" x=\"212.646484\"/>\n       <use xlink:href=\"#DejaVuSans-65\" x=\"276.025391\"/>\n       <use xlink:href=\"#DejaVuSans-20\" x=\"337.548828\"/>\n       <use xlink:href=\"#DejaVuSans-2b\" x=\"369.335938\"/>\n      </g>\n      <!-- Lightning Charging Cable -->\n      <g transform=\"translate(22.114154 280.59375)scale(0.1 -0.1)\">\n       <defs>\n        <path id=\"DejaVuSans-4c\" d=\"M 628 4666 \nL 1259 4666 \nL 1259 531 \nL 3531 531 \nL 3531 0 \nL 628 0 \nL 628 4666 \nz\n\" transform=\"scale(0.015625)\"/>\n        <path id=\"DejaVuSans-67\" d=\"M 2906 1791 \nQ 2906 2416 2648 2759 \nQ 2391 3103 1925 3103 \nQ 1463 3103 1205 2759 \nQ 947 2416 947 1791 \nQ 947 1169 1205 825 \nQ 1463 481 1925 481 \nQ 2391 481 2648 825 \nQ 2906 1169 2906 1791 \nz\nM 3481 434 \nQ 3481 -459 3084 -895 \nQ 2688 -1331 1869 -1331 \nQ 1566 -1331 1297 -1286 \nQ 1028 -1241 775 -1147 \nL 775 -588 \nQ 1028 -725 1275 -790 \nQ 1522 -856 1778 -856 \nQ 2344 -856 2625 -561 \nQ 2906 -266 2906 331 \nL 2906 616 \nQ 2728 306 2450 153 \nQ 2172 0 1784 0 \nQ 1141 0 747 490 \nQ 353 981 353 1791 \nQ 353 2603 747 3093 \nQ 1141 3584 1784 3584 \nQ 2172 3584 2450 3431 \nQ 2728 3278 2906 2969 \nL 2906 3500 \nL 3481 3500 \nL 3481 434 \nz\n\" transform=\"scale(0.015625)\"/>\n        <path id=\"DejaVuSans-74\" d=\"M 1172 4494 \nL 1172 3500 \nL 2356 3500 \nL 2356 3053 \nL 1172 3053 \nL 1172 1153 \nQ 1172 725 1289 603 \nQ 1406 481 1766 481 \nL 2356 481 \nL 2356 0 \nL 1766 0 \nQ 1100 0 847 248 \nQ 594 497 594 1153 \nL 594 3053 \nL 172 3053 \nL 172 3500 \nL 594 3500 \nL 594 4494 \nL 1172 4494 \nz\n\" transform=\"scale(0.015625)\"/>\n        <path id=\"DejaVuSans-43\" d=\"M 4122 4306 \nL 4122 3641 \nQ 3803 3938 3442 4084 \nQ 3081 4231 2675 4231 \nQ 1875 4231 1450 3742 \nQ 1025 3253 1025 2328 \nQ 1025 1406 1450 917 \nQ 1875 428 2675 428 \nQ 3081 428 3442 575 \nQ 3803 722 4122 1019 \nL 4122 359 \nQ 3791 134 3420 21 \nQ 3050 -91 2638 -91 \nQ 1578 -91 968 557 \nQ 359 1206 359 2328 \nQ 359 3453 968 4101 \nQ 1578 4750 2638 4750 \nQ 3056 4750 3426 4639 \nQ 3797 4528 4122 4306 \nz\n\" transform=\"scale(0.015625)\"/>\n        <path id=\"DejaVuSans-61\" d=\"M 2194 1759 \nQ 1497 1759 1228 1600 \nQ 959 1441 959 1056 \nQ 959 750 1161 570 \nQ 1363 391 1709 391 \nQ 2188 391 2477 730 \nQ 2766 1069 2766 1631 \nL 2766 1759 \nL 2194 1759 \nz\nM 3341 1997 \nL 3341 0 \nL 2766 0 \nL 2766 531 \nQ 2569 213 2275 61 \nQ 1981 -91 1556 -91 \nQ 1019 -91 701 211 \nQ 384 513 384 1019 \nQ 384 1609 779 1909 \nQ 1175 2209 1959 2209 \nL 2766 2209 \nL 2766 2266 \nQ 2766 2663 2505 2880 \nQ 2244 3097 1772 3097 \nQ 1472 3097 1187 3025 \nQ 903 2953 641 2809 \nL 641 3341 \nQ 956 3463 1253 3523 \nQ 1550 3584 1831 3584 \nQ 2591 3584 2966 3190 \nQ 3341 2797 3341 1997 \nz\n\" transform=\"scale(0.015625)\"/>\n        <path id=\"DejaVuSans-72\" d=\"M 2631 2963 \nQ 2534 3019 2420 3045 \nQ 2306 3072 2169 3072 \nQ 1681 3072 1420 2755 \nQ 1159 2438 1159 1844 \nL 1159 0 \nL 581 0 \nL 581 3500 \nL 1159 3500 \nL 1159 2956 \nQ 1341 3275 1631 3429 \nQ 1922 3584 2338 3584 \nQ 2397 3584 2469 3576 \nQ 2541 3569 2628 3553 \nL 2631 2963 \nz\n\" transform=\"scale(0.015625)\"/>\n        <path id=\"DejaVuSans-62\" d=\"M 3116 1747 \nQ 3116 2381 2855 2742 \nQ 2594 3103 2138 3103 \nQ 1681 3103 1420 2742 \nQ 1159 2381 1159 1747 \nQ 1159 1113 1420 752 \nQ 1681 391 2138 391 \nQ 2594 391 2855 752 \nQ 3116 1113 3116 1747 \nz\nM 1159 2969 \nQ 1341 3281 1617 3432 \nQ 1894 3584 2278 3584 \nQ 2916 3584 3314 3078 \nQ 3713 2572 3713 1747 \nQ 3713 922 3314 415 \nQ 2916 -91 2278 -91 \nQ 1894 -91 1617 61 \nQ 1341 213 1159 525 \nL 1159 0 \nL 581 0 \nL 581 4863 \nL 1159 4863 \nL 1159 2969 \nz\n\" transform=\"scale(0.015625)\"/>\n        <path id=\"DejaVuSans-6c\" d=\"M 603 4863 \nL 1178 4863 \nL 1178 0 \nL 603 0 \nL 603 4863 \nz\n\" transform=\"scale(0.015625)\"/>\n       </defs>\n       <use xlink:href=\"#DejaVuSans-4c\"/>\n       <use xlink:href=\"#DejaVuSans-69\" x=\"55.712891\"/>\n       <use xlink:href=\"#DejaVuSans-67\" x=\"83.496094\"/>\n       <use xlink:href=\"#DejaVuSans-68\" x=\"146.972656\"/>\n       <use xlink:href=\"#DejaVuSans-74\" x=\"210.351562\"/>\n       <use xlink:href=\"#DejaVuSans-6e\" x=\"249.560547\"/>\n       <use xlink:href=\"#DejaVuSans-69\" x=\"312.939453\"/>\n       <use xlink:href=\"#DejaVuSans-6e\" x=\"340.722656\"/>\n       <use xlink:href=\"#DejaVuSans-67\" x=\"404.101562\"/>\n       <use xlink:href=\"#DejaVuSans-20\" x=\"467.578125\"/>\n       <use xlink:href=\"#DejaVuSans-43\" x=\"499.365234\"/>\n       <use xlink:href=\"#DejaVuSans-68\" x=\"569.189453\"/>\n       <use xlink:href=\"#DejaVuSans-61\" x=\"632.568359\"/>\n       <use xlink:href=\"#DejaVuSans-72\" x=\"693.847656\"/>\n       <use xlink:href=\"#DejaVuSans-67\" x=\"733.210938\"/>\n       <use xlink:href=\"#DejaVuSans-69\" x=\"796.6875\"/>\n       <use xlink:href=\"#DejaVuSans-6e\" x=\"824.470703\"/>\n       <use xlink:href=\"#DejaVuSans-67\" x=\"887.849609\"/>\n       <use xlink:href=\"#DejaVuSans-20\" x=\"951.326172\"/>\n       <use xlink:href=\"#DejaVuSans-43\" x=\"983.113281\"/>\n       <use xlink:href=\"#DejaVuSans-61\" x=\"1052.9375\"/>\n       <use xlink:href=\"#DejaVuSans-62\" x=\"1114.216797\"/>\n       <use xlink:href=\"#DejaVuSans-6c\" x=\"1177.693359\"/>\n       <use xlink:href=\"#DejaVuSans-65\" x=\"1205.476562\"/>\n      </g>\n     </g>\n    </g>\n    <g id=\"xtick_2\">\n     <g id=\"text_2\">\n      <!-- Google Phone + -->\n      <g transform=\"translate(189.910937 269.395938)scale(0.1 -0.1)\">\n       <defs>\n        <path id=\"DejaVuSans-47\" d=\"M 3809 666 \nL 3809 1919 \nL 2778 1919 \nL 2778 2438 \nL 4434 2438 \nL 4434 434 \nQ 4069 175 3628 42 \nQ 3188 -91 2688 -91 \nQ 1594 -91 976 548 \nQ 359 1188 359 2328 \nQ 359 3472 976 4111 \nQ 1594 4750 2688 4750 \nQ 3144 4750 3555 4637 \nQ 3966 4525 4313 4306 \nL 4313 3634 \nQ 3963 3931 3569 4081 \nQ 3175 4231 2741 4231 \nQ 1884 4231 1454 3753 \nQ 1025 3275 1025 2328 \nQ 1025 1384 1454 906 \nQ 1884 428 2741 428 \nQ 3075 428 3337 486 \nQ 3600 544 3809 666 \nz\n\" transform=\"scale(0.015625)\"/>\n       </defs>\n       <use xlink:href=\"#DejaVuSans-47\"/>\n       <use xlink:href=\"#DejaVuSans-6f\" x=\"77.490234\"/>\n       <use xlink:href=\"#DejaVuSans-6f\" x=\"138.671875\"/>\n       <use xlink:href=\"#DejaVuSans-67\" x=\"199.853516\"/>\n       <use xlink:href=\"#DejaVuSans-6c\" x=\"263.330078\"/>\n       <use xlink:href=\"#DejaVuSans-65\" x=\"291.113281\"/>\n       <use xlink:href=\"#DejaVuSans-20\" x=\"352.636719\"/>\n       <use xlink:href=\"#DejaVuSans-50\" x=\"384.423828\"/>\n       <use xlink:href=\"#DejaVuSans-68\" x=\"444.726562\"/>\n       <use xlink:href=\"#DejaVuSans-6f\" x=\"508.105469\"/>\n       <use xlink:href=\"#DejaVuSans-6e\" x=\"569.287109\"/>\n       <use xlink:href=\"#DejaVuSans-65\" x=\"632.666016\"/>\n       <use xlink:href=\"#DejaVuSans-20\" x=\"694.189453\"/>\n       <use xlink:href=\"#DejaVuSans-2b\" x=\"725.976562\"/>\n      </g>\n      <!-- USB-C Charging Cable -->\n      <g transform=\"translate(174.86875 280.59375)scale(0.1 -0.1)\">\n       <defs>\n        <path id=\"DejaVuSans-55\" d=\"M 556 4666 \nL 1191 4666 \nL 1191 1831 \nQ 1191 1081 1462 751 \nQ 1734 422 2344 422 \nQ 2950 422 3222 751 \nQ 3494 1081 3494 1831 \nL 3494 4666 \nL 4128 4666 \nL 4128 1753 \nQ 4128 841 3676 375 \nQ 3225 -91 2344 -91 \nQ 1459 -91 1007 375 \nQ 556 841 556 1753 \nL 556 4666 \nz\n\" transform=\"scale(0.015625)\"/>\n        <path id=\"DejaVuSans-53\" d=\"M 3425 4513 \nL 3425 3897 \nQ 3066 4069 2747 4153 \nQ 2428 4238 2131 4238 \nQ 1616 4238 1336 4038 \nQ 1056 3838 1056 3469 \nQ 1056 3159 1242 3001 \nQ 1428 2844 1947 2747 \nL 2328 2669 \nQ 3034 2534 3370 2195 \nQ 3706 1856 3706 1288 \nQ 3706 609 3251 259 \nQ 2797 -91 1919 -91 \nQ 1588 -91 1214 -16 \nQ 841 59 441 206 \nL 441 856 \nQ 825 641 1194 531 \nQ 1563 422 1919 422 \nQ 2459 422 2753 634 \nQ 3047 847 3047 1241 \nQ 3047 1584 2836 1778 \nQ 2625 1972 2144 2069 \nL 1759 2144 \nQ 1053 2284 737 2584 \nQ 422 2884 422 3419 \nQ 422 4038 858 4394 \nQ 1294 4750 2059 4750 \nQ 2388 4750 2728 4690 \nQ 3069 4631 3425 4513 \nz\n\" transform=\"scale(0.015625)\"/>\n        <path id=\"DejaVuSans-42\" d=\"M 1259 2228 \nL 1259 519 \nL 2272 519 \nQ 2781 519 3026 730 \nQ 3272 941 3272 1375 \nQ 3272 1813 3026 2020 \nQ 2781 2228 2272 2228 \nL 1259 2228 \nz\nM 1259 4147 \nL 1259 2741 \nL 2194 2741 \nQ 2656 2741 2882 2914 \nQ 3109 3088 3109 3444 \nQ 3109 3797 2882 3972 \nQ 2656 4147 2194 4147 \nL 1259 4147 \nz\nM 628 4666 \nL 2241 4666 \nQ 2963 4666 3353 4366 \nQ 3744 4066 3744 3513 \nQ 3744 3084 3544 2831 \nQ 3344 2578 2956 2516 \nQ 3422 2416 3680 2098 \nQ 3938 1781 3938 1306 \nQ 3938 681 3513 340 \nQ 3088 0 2303 0 \nL 628 0 \nL 628 4666 \nz\n\" transform=\"scale(0.015625)\"/>\n        <path id=\"DejaVuSans-2d\" d=\"M 313 2009 \nL 1997 2009 \nL 1997 1497 \nL 313 1497 \nL 313 2009 \nz\n\" transform=\"scale(0.015625)\"/>\n       </defs>\n       <use xlink:href=\"#DejaVuSans-55\"/>\n       <use xlink:href=\"#DejaVuSans-53\" x=\"73.193359\"/>\n       <use xlink:href=\"#DejaVuSans-42\" x=\"136.669922\"/>\n       <use xlink:href=\"#DejaVuSans-2d\" x=\"205.273438\"/>\n       <use xlink:href=\"#DejaVuSans-43\" x=\"241.357422\"/>\n       <use xlink:href=\"#DejaVuSans-20\" x=\"311.181641\"/>\n       <use xlink:href=\"#DejaVuSans-43\" x=\"342.96875\"/>\n       <use xlink:href=\"#DejaVuSans-68\" x=\"412.792969\"/>\n       <use xlink:href=\"#DejaVuSans-61\" x=\"476.171875\"/>\n       <use xlink:href=\"#DejaVuSans-72\" x=\"537.451172\"/>\n       <use xlink:href=\"#DejaVuSans-67\" x=\"576.814453\"/>\n       <use xlink:href=\"#DejaVuSans-69\" x=\"640.291016\"/>\n       <use xlink:href=\"#DejaVuSans-6e\" x=\"668.074219\"/>\n       <use xlink:href=\"#DejaVuSans-67\" x=\"731.453125\"/>\n       <use xlink:href=\"#DejaVuSans-20\" x=\"794.929688\"/>\n       <use xlink:href=\"#DejaVuSans-43\" x=\"826.716797\"/>\n       <use xlink:href=\"#DejaVuSans-61\" x=\"896.541016\"/>\n       <use xlink:href=\"#DejaVuSans-62\" x=\"957.820312\"/>\n       <use xlink:href=\"#DejaVuSans-6c\" x=\"1021.296875\"/>\n       <use xlink:href=\"#DejaVuSans-65\" x=\"1049.080078\"/>\n      </g>\n     </g>\n    </g>\n    <g id=\"xtick_3\">\n     <g id=\"text_3\">\n      <!-- iPhone + -->\n      <g transform=\"translate(352.678815 269.395938)scale(0.1 -0.1)\">\n       <use xlink:href=\"#DejaVuSans-69\"/>\n       <use xlink:href=\"#DejaVuSans-50\" x=\"27.783203\"/>\n       <use xlink:href=\"#DejaVuSans-68\" x=\"88.085938\"/>\n       <use xlink:href=\"#DejaVuSans-6f\" x=\"151.464844\"/>\n       <use xlink:href=\"#DejaVuSans-6e\" x=\"212.646484\"/>\n       <use xlink:href=\"#DejaVuSans-65\" x=\"276.025391\"/>\n       <use xlink:href=\"#DejaVuSans-20\" x=\"337.548828\"/>\n       <use xlink:href=\"#DejaVuSans-2b\" x=\"369.335938\"/>\n      </g>\n      <!-- Wired Headphones -->\n      <g transform=\"translate(328.004596 280.59375)scale(0.1 -0.1)\">\n       <defs>\n        <path id=\"DejaVuSans-57\" d=\"M 213 4666 \nL 850 4666 \nL 1831 722 \nL 2809 4666 \nL 3519 4666 \nL 4500 722 \nL 5478 4666 \nL 6119 4666 \nL 4947 0 \nL 4153 0 \nL 3169 4050 \nL 2175 0 \nL 1381 0 \nL 213 4666 \nz\n\" transform=\"scale(0.015625)\"/>\n        <path id=\"DejaVuSans-64\" d=\"M 2906 2969 \nL 2906 4863 \nL 3481 4863 \nL 3481 0 \nL 2906 0 \nL 2906 525 \nQ 2725 213 2448 61 \nQ 2172 -91 1784 -91 \nQ 1150 -91 751 415 \nQ 353 922 353 1747 \nQ 353 2572 751 3078 \nQ 1150 3584 1784 3584 \nQ 2172 3584 2448 3432 \nQ 2725 3281 2906 2969 \nz\nM 947 1747 \nQ 947 1113 1208 752 \nQ 1469 391 1925 391 \nQ 2381 391 2643 752 \nQ 2906 1113 2906 1747 \nQ 2906 2381 2643 2742 \nQ 2381 3103 1925 3103 \nQ 1469 3103 1208 2742 \nQ 947 2381 947 1747 \nz\n\" transform=\"scale(0.015625)\"/>\n        <path id=\"DejaVuSans-48\" d=\"M 628 4666 \nL 1259 4666 \nL 1259 2753 \nL 3553 2753 \nL 3553 4666 \nL 4184 4666 \nL 4184 0 \nL 3553 0 \nL 3553 2222 \nL 1259 2222 \nL 1259 0 \nL 628 0 \nL 628 4666 \nz\n\" transform=\"scale(0.015625)\"/>\n        <path id=\"DejaVuSans-70\" d=\"M 1159 525 \nL 1159 -1331 \nL 581 -1331 \nL 581 3500 \nL 1159 3500 \nL 1159 2969 \nQ 1341 3281 1617 3432 \nQ 1894 3584 2278 3584 \nQ 2916 3584 3314 3078 \nQ 3713 2572 3713 1747 \nQ 3713 922 3314 415 \nQ 2916 -91 2278 -91 \nQ 1894 -91 1617 61 \nQ 1341 213 1159 525 \nz\nM 3116 1747 \nQ 3116 2381 2855 2742 \nQ 2594 3103 2138 3103 \nQ 1681 3103 1420 2742 \nQ 1159 2381 1159 1747 \nQ 1159 1113 1420 752 \nQ 1681 391 2138 391 \nQ 2594 391 2855 752 \nQ 3116 1113 3116 1747 \nz\n\" transform=\"scale(0.015625)\"/>\n        <path id=\"DejaVuSans-73\" d=\"M 2834 3397 \nL 2834 2853 \nQ 2591 2978 2328 3040 \nQ 2066 3103 1784 3103 \nQ 1356 3103 1142 2972 \nQ 928 2841 928 2578 \nQ 928 2378 1081 2264 \nQ 1234 2150 1697 2047 \nL 1894 2003 \nQ 2506 1872 2764 1633 \nQ 3022 1394 3022 966 \nQ 3022 478 2636 193 \nQ 2250 -91 1575 -91 \nQ 1294 -91 989 -36 \nQ 684 19 347 128 \nL 347 722 \nQ 666 556 975 473 \nQ 1284 391 1588 391 \nQ 1994 391 2212 530 \nQ 2431 669 2431 922 \nQ 2431 1156 2273 1281 \nQ 2116 1406 1581 1522 \nL 1381 1569 \nQ 847 1681 609 1914 \nQ 372 2147 372 2553 \nQ 372 3047 722 3315 \nQ 1072 3584 1716 3584 \nQ 2034 3584 2315 3537 \nQ 2597 3491 2834 3397 \nz\n\" transform=\"scale(0.015625)\"/>\n       </defs>\n       <use xlink:href=\"#DejaVuSans-57\"/>\n       <use xlink:href=\"#DejaVuSans-69\" x=\"96.626953\"/>\n       <use xlink:href=\"#DejaVuSans-72\" x=\"124.410156\"/>\n       <use xlink:href=\"#DejaVuSans-65\" x=\"163.273438\"/>\n       <use xlink:href=\"#DejaVuSans-64\" x=\"224.796875\"/>\n       <use xlink:href=\"#DejaVuSans-20\" x=\"288.273438\"/>\n       <use xlink:href=\"#DejaVuSans-48\" x=\"320.060547\"/>\n       <use xlink:href=\"#DejaVuSans-65\" x=\"395.255859\"/>\n       <use xlink:href=\"#DejaVuSans-61\" x=\"456.779297\"/>\n       <use xlink:href=\"#DejaVuSans-64\" x=\"518.058594\"/>\n       <use xlink:href=\"#DejaVuSans-70\" x=\"581.535156\"/>\n       <use xlink:href=\"#DejaVuSans-68\" x=\"645.011719\"/>\n       <use xlink:href=\"#DejaVuSans-6f\" x=\"708.390625\"/>\n       <use xlink:href=\"#DejaVuSans-6e\" x=\"769.572266\"/>\n       <use xlink:href=\"#DejaVuSans-65\" x=\"832.951172\"/>\n       <use xlink:href=\"#DejaVuSans-73\" x=\"894.474609\"/>\n      </g>\n     </g>\n    </g>\n   </g>\n   <g id=\"text_4\">\n    <!-- 1005 -->\n    <g style=\"fill: #ffffff\" transform=\"translate(63.533961 73.968348)scale(0.18 -0.18)\">\n     <defs>\n      <path id=\"DejaVuSans-31\" d=\"M 794 531 \nL 1825 531 \nL 1825 4091 \nL 703 3866 \nL 703 4441 \nL 1819 4666 \nL 2450 4666 \nL 2450 531 \nL 3481 531 \nL 3481 0 \nL 794 0 \nL 794 531 \nz\n\" transform=\"scale(0.015625)\"/>\n      <path id=\"DejaVuSans-30\" d=\"M 2034 4250 \nQ 1547 4250 1301 3770 \nQ 1056 3291 1056 2328 \nQ 1056 1369 1301 889 \nQ 1547 409 2034 409 \nQ 2525 409 2770 889 \nQ 3016 1369 3016 2328 \nQ 3016 3291 2770 3770 \nQ 2525 4250 2034 4250 \nz\nM 2034 4750 \nQ 2819 4750 3233 4129 \nQ 3647 3509 3647 2328 \nQ 3647 1150 3233 529 \nQ 2819 -91 2034 -91 \nQ 1250 -91 836 529 \nQ 422 1150 422 2328 \nQ 422 3509 836 4129 \nQ 1250 4750 2034 4750 \nz\n\" transform=\"scale(0.015625)\"/>\n      <path id=\"DejaVuSans-35\" d=\"M 691 4666 \nL 3169 4666 \nL 3169 4134 \nL 1269 4134 \nL 1269 2991 \nQ 1406 3038 1543 3061 \nQ 1681 3084 1819 3084 \nQ 2600 3084 3056 2656 \nQ 3513 2228 3513 1497 \nQ 3513 744 3044 326 \nQ 2575 -91 1722 -91 \nQ 1428 -91 1123 -41 \nQ 819 9 494 109 \nL 494 744 \nQ 775 591 1075 516 \nQ 1375 441 1709 441 \nQ 2250 441 2565 725 \nQ 2881 1009 2881 1497 \nQ 2881 1984 2565 2268 \nQ 2250 2553 1709 2553 \nQ 1456 2553 1204 2497 \nQ 953 2441 691 2322 \nL 691 4666 \nz\n\" transform=\"scale(0.015625)\"/>\n     </defs>\n     <use xlink:href=\"#DejaVuSans-31\"/>\n     <use xlink:href=\"#DejaVuSans-30\" x=\"63.623047\"/>\n     <use xlink:href=\"#DejaVuSans-30\" x=\"127.246094\"/>\n     <use xlink:href=\"#DejaVuSans-35\" x=\"190.869141\"/>\n    </g>\n   </g>\n   <g id=\"text_5\">\n    <!-- 987 -->\n    <g style=\"fill: #ffffff\" transform=\"translate(214.195276 77.677346)scale(0.18 -0.18)\">\n     <defs>\n      <path id=\"DejaVuSans-39\" d=\"M 703 97 \nL 703 672 \nQ 941 559 1184 500 \nQ 1428 441 1663 441 \nQ 2288 441 2617 861 \nQ 2947 1281 2994 2138 \nQ 2813 1869 2534 1725 \nQ 2256 1581 1919 1581 \nQ 1219 1581 811 2004 \nQ 403 2428 403 3163 \nQ 403 3881 828 4315 \nQ 1253 4750 1959 4750 \nQ 2769 4750 3195 4129 \nQ 3622 3509 3622 2328 \nQ 3622 1225 3098 567 \nQ 2575 -91 1691 -91 \nQ 1453 -91 1209 -44 \nQ 966 3 703 97 \nz\nM 1959 2075 \nQ 2384 2075 2632 2365 \nQ 2881 2656 2881 3163 \nQ 2881 3666 2632 3958 \nQ 2384 4250 1959 4250 \nQ 1534 4250 1286 3958 \nQ 1038 3666 1038 3163 \nQ 1038 2656 1286 2365 \nQ 1534 2075 1959 2075 \nz\n\" transform=\"scale(0.015625)\"/>\n      <path id=\"DejaVuSans-38\" d=\"M 2034 2216 \nQ 1584 2216 1326 1975 \nQ 1069 1734 1069 1313 \nQ 1069 891 1326 650 \nQ 1584 409 2034 409 \nQ 2484 409 2743 651 \nQ 3003 894 3003 1313 \nQ 3003 1734 2745 1975 \nQ 2488 2216 2034 2216 \nz\nM 1403 2484 \nQ 997 2584 770 2862 \nQ 544 3141 544 3541 \nQ 544 4100 942 4425 \nQ 1341 4750 2034 4750 \nQ 2731 4750 3128 4425 \nQ 3525 4100 3525 3541 \nQ 3525 3141 3298 2862 \nQ 3072 2584 2669 2484 \nQ 3125 2378 3379 2068 \nQ 3634 1759 3634 1313 \nQ 3634 634 3220 271 \nQ 2806 -91 2034 -91 \nQ 1263 -91 848 271 \nQ 434 634 434 1313 \nQ 434 1759 690 2068 \nQ 947 2378 1403 2484 \nz\nM 1172 3481 \nQ 1172 3119 1398 2916 \nQ 1625 2713 2034 2713 \nQ 2441 2713 2670 2916 \nQ 2900 3119 2900 3481 \nQ 2900 3844 2670 4047 \nQ 2441 4250 2034 4250 \nQ 1625 4250 1398 4047 \nQ 1172 3844 1172 3481 \nz\n\" transform=\"scale(0.015625)\"/>\n      <path id=\"DejaVuSans-37\" d=\"M 525 4666 \nL 3525 4666 \nL 3525 4397 \nL 1831 0 \nL 1172 0 \nL 2766 4134 \nL 525 4134 \nL 525 4666 \nz\n\" transform=\"scale(0.015625)\"/>\n     </defs>\n     <use xlink:href=\"#DejaVuSans-39\"/>\n     <use xlink:href=\"#DejaVuSans-38\" x=\"63.623047\"/>\n     <use xlink:href=\"#DejaVuSans-37\" x=\"127.246094\"/>\n    </g>\n   </g>\n   <g id=\"text_6\">\n    <!-- 447 -->\n    <g style=\"fill: #ffffff\" transform=\"translate(359.130341 188.947282)scale(0.18 -0.18)\">\n     <defs>\n      <path id=\"DejaVuSans-34\" d=\"M 2419 4116 \nL 825 1625 \nL 2419 1625 \nL 2419 4116 \nz\nM 2253 4666 \nL 3047 4666 \nL 3047 1625 \nL 3713 1625 \nL 3713 1100 \nL 3047 1100 \nL 3047 0 \nL 2419 0 \nL 2419 1100 \nL 313 1100 \nL 313 1709 \nL 2253 4666 \nz\n\" transform=\"scale(0.015625)\"/>\n     </defs>\n     <use xlink:href=\"#DejaVuSans-34\"/>\n     <use xlink:href=\"#DejaVuSans-34\" x=\"63.623047\"/>\n     <use xlink:href=\"#DejaVuSans-37\" x=\"127.246094\"/>\n    </g>\n   </g>\n   <g id=\"text_7\">\n    <!-- Products sold together the most -->\n    <g style=\"fill: #787878\" transform=\"translate(7.2 19.3575)scale(0.16 -0.16)\">\n     <defs>\n      <path id=\"DejaVuSans-Bold-50\" d=\"M 588 4666 \nL 2584 4666 \nQ 3475 4666 3951 4270 \nQ 4428 3875 4428 3144 \nQ 4428 2409 3951 2014 \nQ 3475 1619 2584 1619 \nL 1791 1619 \nL 1791 0 \nL 588 0 \nL 588 4666 \nz\nM 1791 3794 \nL 1791 2491 \nL 2456 2491 \nQ 2806 2491 2997 2661 \nQ 3188 2831 3188 3144 \nQ 3188 3456 2997 3625 \nQ 2806 3794 2456 3794 \nL 1791 3794 \nz\n\" transform=\"scale(0.015625)\"/>\n      <path id=\"DejaVuSans-Bold-72\" d=\"M 3138 2547 \nQ 2991 2616 2845 2648 \nQ 2700 2681 2553 2681 \nQ 2122 2681 1889 2404 \nQ 1656 2128 1656 1613 \nL 1656 0 \nL 538 0 \nL 538 3500 \nL 1656 3500 \nL 1656 2925 \nQ 1872 3269 2151 3426 \nQ 2431 3584 2822 3584 \nQ 2878 3584 2943 3579 \nQ 3009 3575 3134 3559 \nL 3138 2547 \nz\n\" transform=\"scale(0.015625)\"/>\n      <path id=\"DejaVuSans-Bold-6f\" d=\"M 2203 2784 \nQ 1831 2784 1636 2517 \nQ 1441 2250 1441 1747 \nQ 1441 1244 1636 976 \nQ 1831 709 2203 709 \nQ 2569 709 2762 976 \nQ 2956 1244 2956 1747 \nQ 2956 2250 2762 2517 \nQ 2569 2784 2203 2784 \nz\nM 2203 3584 \nQ 3106 3584 3614 3096 \nQ 4122 2609 4122 1747 \nQ 4122 884 3614 396 \nQ 3106 -91 2203 -91 \nQ 1297 -91 786 396 \nQ 275 884 275 1747 \nQ 275 2609 786 3096 \nQ 1297 3584 2203 3584 \nz\n\" transform=\"scale(0.015625)\"/>\n      <path id=\"DejaVuSans-Bold-64\" d=\"M 2919 2988 \nL 2919 4863 \nL 4044 4863 \nL 4044 0 \nL 2919 0 \nL 2919 506 \nQ 2688 197 2409 53 \nQ 2131 -91 1766 -91 \nQ 1119 -91 703 423 \nQ 288 938 288 1747 \nQ 288 2556 703 3070 \nQ 1119 3584 1766 3584 \nQ 2128 3584 2408 3439 \nQ 2688 3294 2919 2988 \nz\nM 2181 722 \nQ 2541 722 2730 984 \nQ 2919 1247 2919 1747 \nQ 2919 2247 2730 2509 \nQ 2541 2772 2181 2772 \nQ 1825 2772 1636 2509 \nQ 1447 2247 1447 1747 \nQ 1447 1247 1636 984 \nQ 1825 722 2181 722 \nz\n\" transform=\"scale(0.015625)\"/>\n      <path id=\"DejaVuSans-Bold-75\" d=\"M 500 1363 \nL 500 3500 \nL 1625 3500 \nL 1625 3150 \nQ 1625 2866 1622 2436 \nQ 1619 2006 1619 1863 \nQ 1619 1441 1641 1255 \nQ 1663 1069 1716 984 \nQ 1784 875 1895 815 \nQ 2006 756 2150 756 \nQ 2500 756 2700 1025 \nQ 2900 1294 2900 1772 \nL 2900 3500 \nL 4019 3500 \nL 4019 0 \nL 2900 0 \nL 2900 506 \nQ 2647 200 2364 54 \nQ 2081 -91 1741 -91 \nQ 1134 -91 817 281 \nQ 500 653 500 1363 \nz\n\" transform=\"scale(0.015625)\"/>\n      <path id=\"DejaVuSans-Bold-63\" d=\"M 3366 3391 \nL 3366 2478 \nQ 3138 2634 2908 2709 \nQ 2678 2784 2431 2784 \nQ 1963 2784 1702 2511 \nQ 1441 2238 1441 1747 \nQ 1441 1256 1702 982 \nQ 1963 709 2431 709 \nQ 2694 709 2930 787 \nQ 3166 866 3366 1019 \nL 3366 103 \nQ 3103 6 2833 -42 \nQ 2563 -91 2291 -91 \nQ 1344 -91 809 395 \nQ 275 881 275 1747 \nQ 275 2613 809 3098 \nQ 1344 3584 2291 3584 \nQ 2566 3584 2833 3536 \nQ 3100 3488 3366 3391 \nz\n\" transform=\"scale(0.015625)\"/>\n      <path id=\"DejaVuSans-Bold-74\" d=\"M 1759 4494 \nL 1759 3500 \nL 2913 3500 \nL 2913 2700 \nL 1759 2700 \nL 1759 1216 \nQ 1759 972 1856 886 \nQ 1953 800 2241 800 \nL 2816 800 \nL 2816 0 \nL 1856 0 \nQ 1194 0 917 276 \nQ 641 553 641 1216 \nL 641 2700 \nL 84 2700 \nL 84 3500 \nL 641 3500 \nL 641 4494 \nL 1759 4494 \nz\n\" transform=\"scale(0.015625)\"/>\n      <path id=\"DejaVuSans-Bold-73\" d=\"M 3272 3391 \nL 3272 2541 \nQ 2913 2691 2578 2766 \nQ 2244 2841 1947 2841 \nQ 1628 2841 1473 2761 \nQ 1319 2681 1319 2516 \nQ 1319 2381 1436 2309 \nQ 1553 2238 1856 2203 \nL 2053 2175 \nQ 2913 2066 3209 1816 \nQ 3506 1566 3506 1031 \nQ 3506 472 3093 190 \nQ 2681 -91 1863 -91 \nQ 1516 -91 1145 -36 \nQ 775 19 384 128 \nL 384 978 \nQ 719 816 1070 734 \nQ 1422 653 1784 653 \nQ 2113 653 2278 743 \nQ 2444 834 2444 1013 \nQ 2444 1163 2330 1236 \nQ 2216 1309 1875 1350 \nL 1678 1375 \nQ 931 1469 631 1722 \nQ 331 1975 331 2491 \nQ 331 3047 712 3315 \nQ 1094 3584 1881 3584 \nQ 2191 3584 2531 3537 \nQ 2872 3491 3272 3391 \nz\n\" transform=\"scale(0.015625)\"/>\n      <path id=\"DejaVuSans-Bold-20\" transform=\"scale(0.015625)\"/>\n      <path id=\"DejaVuSans-Bold-6c\" d=\"M 538 4863 \nL 1656 4863 \nL 1656 0 \nL 538 0 \nL 538 4863 \nz\n\" transform=\"scale(0.015625)\"/>\n      <path id=\"DejaVuSans-Bold-67\" d=\"M 2919 594 \nQ 2688 288 2409 144 \nQ 2131 0 1766 0 \nQ 1125 0 706 504 \nQ 288 1009 288 1791 \nQ 288 2575 706 3076 \nQ 1125 3578 1766 3578 \nQ 2131 3578 2409 3434 \nQ 2688 3291 2919 2981 \nL 2919 3500 \nL 4044 3500 \nL 4044 353 \nQ 4044 -491 3511 -936 \nQ 2978 -1381 1966 -1381 \nQ 1638 -1381 1331 -1331 \nQ 1025 -1281 716 -1178 \nL 716 -306 \nQ 1009 -475 1290 -558 \nQ 1572 -641 1856 -641 \nQ 2406 -641 2662 -400 \nQ 2919 -159 2919 353 \nL 2919 594 \nz\nM 2181 2772 \nQ 1834 2772 1640 2515 \nQ 1447 2259 1447 1791 \nQ 1447 1309 1634 1061 \nQ 1822 813 2181 813 \nQ 2531 813 2725 1069 \nQ 2919 1325 2919 1791 \nQ 2919 2259 2725 2515 \nQ 2531 2772 2181 2772 \nz\n\" transform=\"scale(0.015625)\"/>\n      <path id=\"DejaVuSans-Bold-65\" d=\"M 4031 1759 \nL 4031 1441 \nL 1416 1441 \nQ 1456 1047 1700 850 \nQ 1944 653 2381 653 \nQ 2734 653 3104 758 \nQ 3475 863 3866 1075 \nL 3866 213 \nQ 3469 63 3072 -14 \nQ 2675 -91 2278 -91 \nQ 1328 -91 801 392 \nQ 275 875 275 1747 \nQ 275 2603 792 3093 \nQ 1309 3584 2216 3584 \nQ 3041 3584 3536 3087 \nQ 4031 2591 4031 1759 \nz\nM 2881 2131 \nQ 2881 2450 2695 2645 \nQ 2509 2841 2209 2841 \nQ 1884 2841 1681 2658 \nQ 1478 2475 1428 2131 \nL 2881 2131 \nz\n\" transform=\"scale(0.015625)\"/>\n      <path id=\"DejaVuSans-Bold-68\" d=\"M 4056 2131 \nL 4056 0 \nL 2931 0 \nL 2931 347 \nL 2931 1625 \nQ 2931 2084 2911 2256 \nQ 2891 2428 2841 2509 \nQ 2775 2619 2662 2680 \nQ 2550 2741 2406 2741 \nQ 2056 2741 1856 2470 \nQ 1656 2200 1656 1722 \nL 1656 0 \nL 538 0 \nL 538 4863 \nL 1656 4863 \nL 1656 2988 \nQ 1909 3294 2193 3439 \nQ 2478 3584 2822 3584 \nQ 3428 3584 3742 3212 \nQ 4056 2841 4056 2131 \nz\n\" transform=\"scale(0.015625)\"/>\n      <path id=\"DejaVuSans-Bold-6d\" d=\"M 3781 2919 \nQ 3994 3244 4286 3414 \nQ 4578 3584 4928 3584 \nQ 5531 3584 5847 3212 \nQ 6163 2841 6163 2131 \nL 6163 0 \nL 5038 0 \nL 5038 1825 \nQ 5041 1866 5042 1909 \nQ 5044 1953 5044 2034 \nQ 5044 2406 4934 2573 \nQ 4825 2741 4581 2741 \nQ 4263 2741 4089 2478 \nQ 3916 2216 3909 1719 \nL 3909 0 \nL 2784 0 \nL 2784 1825 \nQ 2784 2406 2684 2573 \nQ 2584 2741 2328 2741 \nQ 2006 2741 1831 2477 \nQ 1656 2213 1656 1722 \nL 1656 0 \nL 531 0 \nL 531 3500 \nL 1656 3500 \nL 1656 2988 \nQ 1863 3284 2130 3434 \nQ 2397 3584 2719 3584 \nQ 3081 3584 3359 3409 \nQ 3638 3234 3781 2919 \nz\n\" transform=\"scale(0.015625)\"/>\n     </defs>\n     <use xlink:href=\"#DejaVuSans-Bold-50\"/>\n     <use xlink:href=\"#DejaVuSans-Bold-72\" x=\"73.291016\"/>\n     <use xlink:href=\"#DejaVuSans-Bold-6f\" x=\"122.607422\"/>\n     <use xlink:href=\"#DejaVuSans-Bold-64\" x=\"191.308594\"/>\n     <use xlink:href=\"#DejaVuSans-Bold-75\" x=\"262.890625\"/>\n     <use xlink:href=\"#DejaVuSans-Bold-63\" x=\"334.082031\"/>\n     <use xlink:href=\"#DejaVuSans-Bold-74\" x=\"393.359375\"/>\n     <use xlink:href=\"#DejaVuSans-Bold-73\" x=\"441.162109\"/>\n     <use xlink:href=\"#DejaVuSans-Bold-20\" x=\"500.683594\"/>\n     <use xlink:href=\"#DejaVuSans-Bold-73\" x=\"535.498047\"/>\n     <use xlink:href=\"#DejaVuSans-Bold-6f\" x=\"595.019531\"/>\n     <use xlink:href=\"#DejaVuSans-Bold-6c\" x=\"663.720703\"/>\n     <use xlink:href=\"#DejaVuSans-Bold-64\" x=\"697.998047\"/>\n     <use xlink:href=\"#DejaVuSans-Bold-20\" x=\"769.580078\"/>\n     <use xlink:href=\"#DejaVuSans-Bold-74\" x=\"804.394531\"/>\n     <use xlink:href=\"#DejaVuSans-Bold-6f\" x=\"852.197266\"/>\n     <use xlink:href=\"#DejaVuSans-Bold-67\" x=\"920.898438\"/>\n     <use xlink:href=\"#DejaVuSans-Bold-65\" x=\"992.480469\"/>\n     <use xlink:href=\"#DejaVuSans-Bold-74\" x=\"1060.302734\"/>\n     <use xlink:href=\"#DejaVuSans-Bold-68\" x=\"1108.105469\"/>\n     <use xlink:href=\"#DejaVuSans-Bold-65\" x=\"1179.296875\"/>\n     <use xlink:href=\"#DejaVuSans-Bold-72\" x=\"1247.119141\"/>\n     <use xlink:href=\"#DejaVuSans-Bold-20\" x=\"1296.435547\"/>\n     <use xlink:href=\"#DejaVuSans-Bold-74\" x=\"1331.25\"/>\n     <use xlink:href=\"#DejaVuSans-Bold-68\" x=\"1379.052734\"/>\n     <use xlink:href=\"#DejaVuSans-Bold-65\" x=\"1450.244141\"/>\n     <use xlink:href=\"#DejaVuSans-Bold-20\" x=\"1518.066406\"/>\n     <use xlink:href=\"#DejaVuSans-Bold-6d\" x=\"1552.880859\"/>\n     <use xlink:href=\"#DejaVuSans-Bold-6f\" x=\"1657.080078\"/>\n     <use xlink:href=\"#DejaVuSans-Bold-73\" x=\"1725.78125\"/>\n     <use xlink:href=\"#DejaVuSans-Bold-74\" x=\"1785.302734\"/>\n    </g>\n   </g>\n  </g>\n </g>\n <defs>\n  <clipPath id=\"pc744420004\">\n   <rect x=\"7.2\" y=\"37.3575\" width=\"446.4\" height=\"217.44\"/>\n  </clipPath>\n </defs>\n</svg>\n"
          },
          "metadata": {
            "needs_background": "light"
          }
        }
      ]
    },
    {
      "cell_type": "markdown",
      "source": [
        "For me this chart shows the impact of apple removing the chareger from the box!\n",
        "\n",
        "Jokes aside, people are concerned of buying a new phone and not getting a charger with it, and in half of this sales of not getting a headphone too. I believe it's a good strategy to try to create bundles with those itens giving a little discount if bought together."
      ],
      "metadata": {
        "id": "qh9ypcp6br6E"
      }
    },
    {
      "cell_type": "markdown",
      "metadata": {
        "id": "YX8IwJnn36uO"
      },
      "source": [
        "# What product sold the most?"
      ]
    },
    {
      "cell_type": "code",
      "source": [
        "#@title\n",
        "# plot\n",
        "fig, ax = plt.subplots(figsize=(8,6)) # set figure and size\n",
        "rect = ax.bar(sold_most['Product'], sold_most['Quantity Ordered'], color='#253760') # plot\n",
        "\n",
        "# remove corners\n",
        "ax.spines['right'].set_visible(False) # remove right corner\n",
        "ax.spines['top'].set_visible(False) # remove top corner\n",
        "ax.spines['bottom'].set_visible(False) # remove bottom corner\n",
        "ax.spines['left'].set_visible(False) # remove left corner\n",
        "\n",
        "# remove y ticks\n",
        "plt.gca().axes.get_yaxis().set_visible(False)\n",
        "\n",
        "plt.xticks(rotation=30)\n",
        "\n",
        "# remove x ticks\n",
        "plt.tick_params(\n",
        "    axis='both',         \n",
        "    which='both',     \n",
        "    bottom=False,      \n",
        "    top=False,         \n",
        "    labelbottom=True)\n",
        "\n",
        "# plotar título\n",
        "ax.set_title('Sold most vs price', # text\n",
        "             loc='left', # position\n",
        "             fontsize=16, # fontsize\n",
        "             fontweight='bold', #fontweight\n",
        "             color='#787878', # color\n",
        "             pad=18) # distance from border to chart\n",
        "\n",
        "autolabel(rect, -33, -30, 16, float=False)"
      ],
      "metadata": {
        "colab": {
          "base_uri": "https://localhost:8080/",
          "height": 621
        },
        "id": "FMJz88mVNpyL",
        "outputId": "00b1e6ea-51bc-402f-84c3-c05099018e3a",
        "cellView": "form"
      },
      "execution_count": 25,
      "outputs": [
        {
          "output_type": "display_data",
          "data": {
            "text/plain": [
              "<Figure size 576x432 with 1 Axes>"
            ],
            "image/svg+xml": "<?xml version=\"1.0\" encoding=\"utf-8\" standalone=\"no\"?>\n<!DOCTYPE svg PUBLIC \"-//W3C//DTD SVG 1.1//EN\"\n  \"http://www.w3.org/Graphics/SVG/1.1/DTD/svg11.dtd\">\n<svg xmlns:xlink=\"http://www.w3.org/1999/xlink\" width=\"460.8pt\" height=\"449.449783pt\" viewBox=\"0 0 460.8 449.449783\" xmlns=\"http://www.w3.org/2000/svg\" version=\"1.1\">\n <metadata>\n  <rdf:RDF xmlns:dc=\"http://purl.org/dc/elements/1.1/\" xmlns:cc=\"http://creativecommons.org/ns#\" xmlns:rdf=\"http://www.w3.org/1999/02/22-rdf-syntax-ns#\">\n   <cc:Work>\n    <dc:type rdf:resource=\"http://purl.org/dc/dcmitype/StillImage\"/>\n    <dc:date>2022-03-30T14:45:18.048867</dc:date>\n    <dc:format>image/svg+xml</dc:format>\n    <dc:creator>\n     <cc:Agent>\n      <dc:title>Matplotlib v3.5.1, https://matplotlib.org/</dc:title>\n     </cc:Agent>\n    </dc:creator>\n   </cc:Work>\n  </rdf:RDF>\n </metadata>\n <defs>\n  <style type=\"text/css\">*{stroke-linejoin: round; stroke-linecap: butt}</style>\n </defs>\n <g id=\"figure_1\">\n  <g id=\"patch_1\">\n   <path d=\"M 0 449.449783 \nL 460.8 449.449783 \nL 460.8 0 \nL 0 0 \nL 0 449.449783 \nz\n\" style=\"fill: none\"/>\n  </g>\n  <g id=\"axes_1\">\n   <g id=\"patch_2\">\n    <path d=\"M 7.2 363.5175 \nL 453.6 363.5175 \nL 453.6 37.3575 \nL 7.2 37.3575 \nz\n\" style=\"fill: #ffffff\"/>\n   </g>\n   <g id=\"patch_3\">\n    <path d=\"M 27.490909 363.5175 \nL 95.127273 363.5175 \nL 95.127273 52.888929 \nL 27.490909 52.888929 \nz\n\" clip-path=\"url(#p3bb30543b4)\" style=\"fill: #253760\"/>\n   </g>\n   <g id=\"patch_4\">\n    <path d=\"M 112.036364 363.5175 \nL 179.672727 363.5175 \nL 179.672727 86.75893 \nL 112.036364 86.75893 \nz\n\" clip-path=\"url(#p3bb30543b4)\" style=\"fill: #253760\"/>\n   </g>\n   <g id=\"patch_5\">\n    <path d=\"M 196.581818 363.5175 \nL 264.218182 363.5175 \nL 264.218182 123.413041 \nL 196.581818 123.413041 \nz\n\" clip-path=\"url(#p3bb30543b4)\" style=\"fill: #253760\"/>\n   </g>\n   <g id=\"patch_6\">\n    <path d=\"M 281.127273 363.5175 \nL 348.763636 363.5175 \nL 348.763636 131.004248 \nL 281.127273 131.004248 \nz\n\" clip-path=\"url(#p3bb30543b4)\" style=\"fill: #253760\"/>\n   </g>\n   <g id=\"patch_7\">\n    <path d=\"M 365.672727 363.5175 \nL 433.309091 363.5175 \nL 433.309091 157.643575 \nL 365.672727 157.643575 \nz\n\" clip-path=\"url(#p3bb30543b4)\" style=\"fill: #253760\"/>\n   </g>\n   <g id=\"matplotlib.axis_1\">\n    <g id=\"xtick_1\">\n     <g id=\"text_1\">\n      <!-- AAA Batteries (4-pack) -->\n      <g transform=\"translate(13.238051 434.198721)rotate(-30)scale(0.1 -0.1)\">\n       <defs>\n        <path id=\"DejaVuSans-41\" d=\"M 2188 4044 \nL 1331 1722 \nL 3047 1722 \nL 2188 4044 \nz\nM 1831 4666 \nL 2547 4666 \nL 4325 0 \nL 3669 0 \nL 3244 1197 \nL 1141 1197 \nL 716 0 \nL 50 0 \nL 1831 4666 \nz\n\" transform=\"scale(0.015625)\"/>\n        <path id=\"DejaVuSans-20\" transform=\"scale(0.015625)\"/>\n        <path id=\"DejaVuSans-42\" d=\"M 1259 2228 \nL 1259 519 \nL 2272 519 \nQ 2781 519 3026 730 \nQ 3272 941 3272 1375 \nQ 3272 1813 3026 2020 \nQ 2781 2228 2272 2228 \nL 1259 2228 \nz\nM 1259 4147 \nL 1259 2741 \nL 2194 2741 \nQ 2656 2741 2882 2914 \nQ 3109 3088 3109 3444 \nQ 3109 3797 2882 3972 \nQ 2656 4147 2194 4147 \nL 1259 4147 \nz\nM 628 4666 \nL 2241 4666 \nQ 2963 4666 3353 4366 \nQ 3744 4066 3744 3513 \nQ 3744 3084 3544 2831 \nQ 3344 2578 2956 2516 \nQ 3422 2416 3680 2098 \nQ 3938 1781 3938 1306 \nQ 3938 681 3513 340 \nQ 3088 0 2303 0 \nL 628 0 \nL 628 4666 \nz\n\" transform=\"scale(0.015625)\"/>\n        <path id=\"DejaVuSans-61\" d=\"M 2194 1759 \nQ 1497 1759 1228 1600 \nQ 959 1441 959 1056 \nQ 959 750 1161 570 \nQ 1363 391 1709 391 \nQ 2188 391 2477 730 \nQ 2766 1069 2766 1631 \nL 2766 1759 \nL 2194 1759 \nz\nM 3341 1997 \nL 3341 0 \nL 2766 0 \nL 2766 531 \nQ 2569 213 2275 61 \nQ 1981 -91 1556 -91 \nQ 1019 -91 701 211 \nQ 384 513 384 1019 \nQ 384 1609 779 1909 \nQ 1175 2209 1959 2209 \nL 2766 2209 \nL 2766 2266 \nQ 2766 2663 2505 2880 \nQ 2244 3097 1772 3097 \nQ 1472 3097 1187 3025 \nQ 903 2953 641 2809 \nL 641 3341 \nQ 956 3463 1253 3523 \nQ 1550 3584 1831 3584 \nQ 2591 3584 2966 3190 \nQ 3341 2797 3341 1997 \nz\n\" transform=\"scale(0.015625)\"/>\n        <path id=\"DejaVuSans-74\" d=\"M 1172 4494 \nL 1172 3500 \nL 2356 3500 \nL 2356 3053 \nL 1172 3053 \nL 1172 1153 \nQ 1172 725 1289 603 \nQ 1406 481 1766 481 \nL 2356 481 \nL 2356 0 \nL 1766 0 \nQ 1100 0 847 248 \nQ 594 497 594 1153 \nL 594 3053 \nL 172 3053 \nL 172 3500 \nL 594 3500 \nL 594 4494 \nL 1172 4494 \nz\n\" transform=\"scale(0.015625)\"/>\n        <path id=\"DejaVuSans-65\" d=\"M 3597 1894 \nL 3597 1613 \nL 953 1613 \nQ 991 1019 1311 708 \nQ 1631 397 2203 397 \nQ 2534 397 2845 478 \nQ 3156 559 3463 722 \nL 3463 178 \nQ 3153 47 2828 -22 \nQ 2503 -91 2169 -91 \nQ 1331 -91 842 396 \nQ 353 884 353 1716 \nQ 353 2575 817 3079 \nQ 1281 3584 2069 3584 \nQ 2775 3584 3186 3129 \nQ 3597 2675 3597 1894 \nz\nM 3022 2063 \nQ 3016 2534 2758 2815 \nQ 2500 3097 2075 3097 \nQ 1594 3097 1305 2825 \nQ 1016 2553 972 2059 \nL 3022 2063 \nz\n\" transform=\"scale(0.015625)\"/>\n        <path id=\"DejaVuSans-72\" d=\"M 2631 2963 \nQ 2534 3019 2420 3045 \nQ 2306 3072 2169 3072 \nQ 1681 3072 1420 2755 \nQ 1159 2438 1159 1844 \nL 1159 0 \nL 581 0 \nL 581 3500 \nL 1159 3500 \nL 1159 2956 \nQ 1341 3275 1631 3429 \nQ 1922 3584 2338 3584 \nQ 2397 3584 2469 3576 \nQ 2541 3569 2628 3553 \nL 2631 2963 \nz\n\" transform=\"scale(0.015625)\"/>\n        <path id=\"DejaVuSans-69\" d=\"M 603 3500 \nL 1178 3500 \nL 1178 0 \nL 603 0 \nL 603 3500 \nz\nM 603 4863 \nL 1178 4863 \nL 1178 4134 \nL 603 4134 \nL 603 4863 \nz\n\" transform=\"scale(0.015625)\"/>\n        <path id=\"DejaVuSans-73\" d=\"M 2834 3397 \nL 2834 2853 \nQ 2591 2978 2328 3040 \nQ 2066 3103 1784 3103 \nQ 1356 3103 1142 2972 \nQ 928 2841 928 2578 \nQ 928 2378 1081 2264 \nQ 1234 2150 1697 2047 \nL 1894 2003 \nQ 2506 1872 2764 1633 \nQ 3022 1394 3022 966 \nQ 3022 478 2636 193 \nQ 2250 -91 1575 -91 \nQ 1294 -91 989 -36 \nQ 684 19 347 128 \nL 347 722 \nQ 666 556 975 473 \nQ 1284 391 1588 391 \nQ 1994 391 2212 530 \nQ 2431 669 2431 922 \nQ 2431 1156 2273 1281 \nQ 2116 1406 1581 1522 \nL 1381 1569 \nQ 847 1681 609 1914 \nQ 372 2147 372 2553 \nQ 372 3047 722 3315 \nQ 1072 3584 1716 3584 \nQ 2034 3584 2315 3537 \nQ 2597 3491 2834 3397 \nz\n\" transform=\"scale(0.015625)\"/>\n        <path id=\"DejaVuSans-28\" d=\"M 1984 4856 \nQ 1566 4138 1362 3434 \nQ 1159 2731 1159 2009 \nQ 1159 1288 1364 580 \nQ 1569 -128 1984 -844 \nL 1484 -844 \nQ 1016 -109 783 600 \nQ 550 1309 550 2009 \nQ 550 2706 781 3412 \nQ 1013 4119 1484 4856 \nL 1984 4856 \nz\n\" transform=\"scale(0.015625)\"/>\n        <path id=\"DejaVuSans-34\" d=\"M 2419 4116 \nL 825 1625 \nL 2419 1625 \nL 2419 4116 \nz\nM 2253 4666 \nL 3047 4666 \nL 3047 1625 \nL 3713 1625 \nL 3713 1100 \nL 3047 1100 \nL 3047 0 \nL 2419 0 \nL 2419 1100 \nL 313 1100 \nL 313 1709 \nL 2253 4666 \nz\n\" transform=\"scale(0.015625)\"/>\n        <path id=\"DejaVuSans-2d\" d=\"M 313 2009 \nL 1997 2009 \nL 1997 1497 \nL 313 1497 \nL 313 2009 \nz\n\" transform=\"scale(0.015625)\"/>\n        <path id=\"DejaVuSans-70\" d=\"M 1159 525 \nL 1159 -1331 \nL 581 -1331 \nL 581 3500 \nL 1159 3500 \nL 1159 2969 \nQ 1341 3281 1617 3432 \nQ 1894 3584 2278 3584 \nQ 2916 3584 3314 3078 \nQ 3713 2572 3713 1747 \nQ 3713 922 3314 415 \nQ 2916 -91 2278 -91 \nQ 1894 -91 1617 61 \nQ 1341 213 1159 525 \nz\nM 3116 1747 \nQ 3116 2381 2855 2742 \nQ 2594 3103 2138 3103 \nQ 1681 3103 1420 2742 \nQ 1159 2381 1159 1747 \nQ 1159 1113 1420 752 \nQ 1681 391 2138 391 \nQ 2594 391 2855 752 \nQ 3116 1113 3116 1747 \nz\n\" transform=\"scale(0.015625)\"/>\n        <path id=\"DejaVuSans-63\" d=\"M 3122 3366 \nL 3122 2828 \nQ 2878 2963 2633 3030 \nQ 2388 3097 2138 3097 \nQ 1578 3097 1268 2742 \nQ 959 2388 959 1747 \nQ 959 1106 1268 751 \nQ 1578 397 2138 397 \nQ 2388 397 2633 464 \nQ 2878 531 3122 666 \nL 3122 134 \nQ 2881 22 2623 -34 \nQ 2366 -91 2075 -91 \nQ 1284 -91 818 406 \nQ 353 903 353 1747 \nQ 353 2603 823 3093 \nQ 1294 3584 2113 3584 \nQ 2378 3584 2631 3529 \nQ 2884 3475 3122 3366 \nz\n\" transform=\"scale(0.015625)\"/>\n        <path id=\"DejaVuSans-6b\" d=\"M 581 4863 \nL 1159 4863 \nL 1159 1991 \nL 2875 3500 \nL 3609 3500 \nL 1753 1863 \nL 3688 0 \nL 2938 0 \nL 1159 1709 \nL 1159 0 \nL 581 0 \nL 581 4863 \nz\n\" transform=\"scale(0.015625)\"/>\n        <path id=\"DejaVuSans-29\" d=\"M 513 4856 \nL 1013 4856 \nQ 1481 4119 1714 3412 \nQ 1947 2706 1947 2009 \nQ 1947 1309 1714 600 \nQ 1481 -109 1013 -844 \nL 513 -844 \nQ 928 -128 1133 580 \nQ 1338 1288 1338 2009 \nQ 1338 2731 1133 3434 \nQ 928 4138 513 4856 \nz\n\" transform=\"scale(0.015625)\"/>\n       </defs>\n       <use xlink:href=\"#DejaVuSans-41\"/>\n       <use xlink:href=\"#DejaVuSans-41\" x=\"71.158203\"/>\n       <use xlink:href=\"#DejaVuSans-41\" x=\"142.316406\"/>\n       <use xlink:href=\"#DejaVuSans-20\" x=\"210.724609\"/>\n       <use xlink:href=\"#DejaVuSans-42\" x=\"242.511719\"/>\n       <use xlink:href=\"#DejaVuSans-61\" x=\"311.115234\"/>\n       <use xlink:href=\"#DejaVuSans-74\" x=\"372.394531\"/>\n       <use xlink:href=\"#DejaVuSans-74\" x=\"411.603516\"/>\n       <use xlink:href=\"#DejaVuSans-65\" x=\"450.8125\"/>\n       <use xlink:href=\"#DejaVuSans-72\" x=\"512.335938\"/>\n       <use xlink:href=\"#DejaVuSans-69\" x=\"553.449219\"/>\n       <use xlink:href=\"#DejaVuSans-65\" x=\"581.232422\"/>\n       <use xlink:href=\"#DejaVuSans-73\" x=\"642.755859\"/>\n       <use xlink:href=\"#DejaVuSans-20\" x=\"694.855469\"/>\n       <use xlink:href=\"#DejaVuSans-28\" x=\"726.642578\"/>\n       <use xlink:href=\"#DejaVuSans-34\" x=\"765.65625\"/>\n       <use xlink:href=\"#DejaVuSans-2d\" x=\"829.279297\"/>\n       <use xlink:href=\"#DejaVuSans-70\" x=\"865.363281\"/>\n       <use xlink:href=\"#DejaVuSans-61\" x=\"928.839844\"/>\n       <use xlink:href=\"#DejaVuSans-63\" x=\"990.119141\"/>\n       <use xlink:href=\"#DejaVuSans-6b\" x=\"1045.099609\"/>\n       <use xlink:href=\"#DejaVuSans-29\" x=\"1103.009766\"/>\n      </g>\n     </g>\n    </g>\n    <g id=\"xtick_2\">\n     <g id=\"text_2\">\n      <!-- AA Batteries (4-pack) -->\n      <g transform=\"translate(100.864662 430.640909)rotate(-30)scale(0.1 -0.1)\">\n       <use xlink:href=\"#DejaVuSans-41\"/>\n       <use xlink:href=\"#DejaVuSans-41\" x=\"71.158203\"/>\n       <use xlink:href=\"#DejaVuSans-20\" x=\"139.566406\"/>\n       <use xlink:href=\"#DejaVuSans-42\" x=\"171.353516\"/>\n       <use xlink:href=\"#DejaVuSans-61\" x=\"239.957031\"/>\n       <use xlink:href=\"#DejaVuSans-74\" x=\"301.236328\"/>\n       <use xlink:href=\"#DejaVuSans-74\" x=\"340.445312\"/>\n       <use xlink:href=\"#DejaVuSans-65\" x=\"379.654297\"/>\n       <use xlink:href=\"#DejaVuSans-72\" x=\"441.177734\"/>\n       <use xlink:href=\"#DejaVuSans-69\" x=\"482.291016\"/>\n       <use xlink:href=\"#DejaVuSans-65\" x=\"510.074219\"/>\n       <use xlink:href=\"#DejaVuSans-73\" x=\"571.597656\"/>\n       <use xlink:href=\"#DejaVuSans-20\" x=\"623.697266\"/>\n       <use xlink:href=\"#DejaVuSans-28\" x=\"655.484375\"/>\n       <use xlink:href=\"#DejaVuSans-34\" x=\"694.498047\"/>\n       <use xlink:href=\"#DejaVuSans-2d\" x=\"758.121094\"/>\n       <use xlink:href=\"#DejaVuSans-70\" x=\"794.205078\"/>\n       <use xlink:href=\"#DejaVuSans-61\" x=\"857.681641\"/>\n       <use xlink:href=\"#DejaVuSans-63\" x=\"918.960938\"/>\n       <use xlink:href=\"#DejaVuSans-6b\" x=\"973.941406\"/>\n       <use xlink:href=\"#DejaVuSans-29\" x=\"1031.851562\"/>\n      </g>\n     </g>\n    </g>\n    <g id=\"xtick_3\">\n     <g id=\"text_3\">\n      <!-- USB-C Charging Cable -->\n      <g transform=\"translate(183.688214 432.62919)rotate(-30)scale(0.1 -0.1)\">\n       <defs>\n        <path id=\"DejaVuSans-55\" d=\"M 556 4666 \nL 1191 4666 \nL 1191 1831 \nQ 1191 1081 1462 751 \nQ 1734 422 2344 422 \nQ 2950 422 3222 751 \nQ 3494 1081 3494 1831 \nL 3494 4666 \nL 4128 4666 \nL 4128 1753 \nQ 4128 841 3676 375 \nQ 3225 -91 2344 -91 \nQ 1459 -91 1007 375 \nQ 556 841 556 1753 \nL 556 4666 \nz\n\" transform=\"scale(0.015625)\"/>\n        <path id=\"DejaVuSans-53\" d=\"M 3425 4513 \nL 3425 3897 \nQ 3066 4069 2747 4153 \nQ 2428 4238 2131 4238 \nQ 1616 4238 1336 4038 \nQ 1056 3838 1056 3469 \nQ 1056 3159 1242 3001 \nQ 1428 2844 1947 2747 \nL 2328 2669 \nQ 3034 2534 3370 2195 \nQ 3706 1856 3706 1288 \nQ 3706 609 3251 259 \nQ 2797 -91 1919 -91 \nQ 1588 -91 1214 -16 \nQ 841 59 441 206 \nL 441 856 \nQ 825 641 1194 531 \nQ 1563 422 1919 422 \nQ 2459 422 2753 634 \nQ 3047 847 3047 1241 \nQ 3047 1584 2836 1778 \nQ 2625 1972 2144 2069 \nL 1759 2144 \nQ 1053 2284 737 2584 \nQ 422 2884 422 3419 \nQ 422 4038 858 4394 \nQ 1294 4750 2059 4750 \nQ 2388 4750 2728 4690 \nQ 3069 4631 3425 4513 \nz\n\" transform=\"scale(0.015625)\"/>\n        <path id=\"DejaVuSans-43\" d=\"M 4122 4306 \nL 4122 3641 \nQ 3803 3938 3442 4084 \nQ 3081 4231 2675 4231 \nQ 1875 4231 1450 3742 \nQ 1025 3253 1025 2328 \nQ 1025 1406 1450 917 \nQ 1875 428 2675 428 \nQ 3081 428 3442 575 \nQ 3803 722 4122 1019 \nL 4122 359 \nQ 3791 134 3420 21 \nQ 3050 -91 2638 -91 \nQ 1578 -91 968 557 \nQ 359 1206 359 2328 \nQ 359 3453 968 4101 \nQ 1578 4750 2638 4750 \nQ 3056 4750 3426 4639 \nQ 3797 4528 4122 4306 \nz\n\" transform=\"scale(0.015625)\"/>\n        <path id=\"DejaVuSans-68\" d=\"M 3513 2113 \nL 3513 0 \nL 2938 0 \nL 2938 2094 \nQ 2938 2591 2744 2837 \nQ 2550 3084 2163 3084 \nQ 1697 3084 1428 2787 \nQ 1159 2491 1159 1978 \nL 1159 0 \nL 581 0 \nL 581 4863 \nL 1159 4863 \nL 1159 2956 \nQ 1366 3272 1645 3428 \nQ 1925 3584 2291 3584 \nQ 2894 3584 3203 3211 \nQ 3513 2838 3513 2113 \nz\n\" transform=\"scale(0.015625)\"/>\n        <path id=\"DejaVuSans-67\" d=\"M 2906 1791 \nQ 2906 2416 2648 2759 \nQ 2391 3103 1925 3103 \nQ 1463 3103 1205 2759 \nQ 947 2416 947 1791 \nQ 947 1169 1205 825 \nQ 1463 481 1925 481 \nQ 2391 481 2648 825 \nQ 2906 1169 2906 1791 \nz\nM 3481 434 \nQ 3481 -459 3084 -895 \nQ 2688 -1331 1869 -1331 \nQ 1566 -1331 1297 -1286 \nQ 1028 -1241 775 -1147 \nL 775 -588 \nQ 1028 -725 1275 -790 \nQ 1522 -856 1778 -856 \nQ 2344 -856 2625 -561 \nQ 2906 -266 2906 331 \nL 2906 616 \nQ 2728 306 2450 153 \nQ 2172 0 1784 0 \nQ 1141 0 747 490 \nQ 353 981 353 1791 \nQ 353 2603 747 3093 \nQ 1141 3584 1784 3584 \nQ 2172 3584 2450 3431 \nQ 2728 3278 2906 2969 \nL 2906 3500 \nL 3481 3500 \nL 3481 434 \nz\n\" transform=\"scale(0.015625)\"/>\n        <path id=\"DejaVuSans-6e\" d=\"M 3513 2113 \nL 3513 0 \nL 2938 0 \nL 2938 2094 \nQ 2938 2591 2744 2837 \nQ 2550 3084 2163 3084 \nQ 1697 3084 1428 2787 \nQ 1159 2491 1159 1978 \nL 1159 0 \nL 581 0 \nL 581 3500 \nL 1159 3500 \nL 1159 2956 \nQ 1366 3272 1645 3428 \nQ 1925 3584 2291 3584 \nQ 2894 3584 3203 3211 \nQ 3513 2838 3513 2113 \nz\n\" transform=\"scale(0.015625)\"/>\n        <path id=\"DejaVuSans-62\" d=\"M 3116 1747 \nQ 3116 2381 2855 2742 \nQ 2594 3103 2138 3103 \nQ 1681 3103 1420 2742 \nQ 1159 2381 1159 1747 \nQ 1159 1113 1420 752 \nQ 1681 391 2138 391 \nQ 2594 391 2855 752 \nQ 3116 1113 3116 1747 \nz\nM 1159 2969 \nQ 1341 3281 1617 3432 \nQ 1894 3584 2278 3584 \nQ 2916 3584 3314 3078 \nQ 3713 2572 3713 1747 \nQ 3713 922 3314 415 \nQ 2916 -91 2278 -91 \nQ 1894 -91 1617 61 \nQ 1341 213 1159 525 \nL 1159 0 \nL 581 0 \nL 581 4863 \nL 1159 4863 \nL 1159 2969 \nz\n\" transform=\"scale(0.015625)\"/>\n        <path id=\"DejaVuSans-6c\" d=\"M 603 4863 \nL 1178 4863 \nL 1178 0 \nL 603 0 \nL 603 4863 \nz\n\" transform=\"scale(0.015625)\"/>\n       </defs>\n       <use xlink:href=\"#DejaVuSans-55\"/>\n       <use xlink:href=\"#DejaVuSans-53\" x=\"73.193359\"/>\n       <use xlink:href=\"#DejaVuSans-42\" x=\"136.669922\"/>\n       <use xlink:href=\"#DejaVuSans-2d\" x=\"205.273438\"/>\n       <use xlink:href=\"#DejaVuSans-43\" x=\"241.357422\"/>\n       <use xlink:href=\"#DejaVuSans-20\" x=\"311.181641\"/>\n       <use xlink:href=\"#DejaVuSans-43\" x=\"342.96875\"/>\n       <use xlink:href=\"#DejaVuSans-68\" x=\"412.792969\"/>\n       <use xlink:href=\"#DejaVuSans-61\" x=\"476.171875\"/>\n       <use xlink:href=\"#DejaVuSans-72\" x=\"537.451172\"/>\n       <use xlink:href=\"#DejaVuSans-67\" x=\"576.814453\"/>\n       <use xlink:href=\"#DejaVuSans-69\" x=\"640.291016\"/>\n       <use xlink:href=\"#DejaVuSans-6e\" x=\"668.074219\"/>\n       <use xlink:href=\"#DejaVuSans-67\" x=\"731.453125\"/>\n       <use xlink:href=\"#DejaVuSans-20\" x=\"794.929688\"/>\n       <use xlink:href=\"#DejaVuSans-43\" x=\"826.716797\"/>\n       <use xlink:href=\"#DejaVuSans-61\" x=\"896.541016\"/>\n       <use xlink:href=\"#DejaVuSans-62\" x=\"957.820312\"/>\n       <use xlink:href=\"#DejaVuSans-6c\" x=\"1021.296875\"/>\n       <use xlink:href=\"#DejaVuSans-65\" x=\"1049.080078\"/>\n      </g>\n     </g>\n    </g>\n    <g id=\"xtick_4\">\n     <g id=\"text_4\">\n      <!-- Lightning Charging Cable -->\n      <g transform=\"translate(261.461756 440.448721)rotate(-30)scale(0.1 -0.1)\">\n       <defs>\n        <path id=\"DejaVuSans-4c\" d=\"M 628 4666 \nL 1259 4666 \nL 1259 531 \nL 3531 531 \nL 3531 0 \nL 628 0 \nL 628 4666 \nz\n\" transform=\"scale(0.015625)\"/>\n       </defs>\n       <use xlink:href=\"#DejaVuSans-4c\"/>\n       <use xlink:href=\"#DejaVuSans-69\" x=\"55.712891\"/>\n       <use xlink:href=\"#DejaVuSans-67\" x=\"83.496094\"/>\n       <use xlink:href=\"#DejaVuSans-68\" x=\"146.972656\"/>\n       <use xlink:href=\"#DejaVuSans-74\" x=\"210.351562\"/>\n       <use xlink:href=\"#DejaVuSans-6e\" x=\"249.560547\"/>\n       <use xlink:href=\"#DejaVuSans-69\" x=\"312.939453\"/>\n       <use xlink:href=\"#DejaVuSans-6e\" x=\"340.722656\"/>\n       <use xlink:href=\"#DejaVuSans-67\" x=\"404.101562\"/>\n       <use xlink:href=\"#DejaVuSans-20\" x=\"467.578125\"/>\n       <use xlink:href=\"#DejaVuSans-43\" x=\"499.365234\"/>\n       <use xlink:href=\"#DejaVuSans-68\" x=\"569.189453\"/>\n       <use xlink:href=\"#DejaVuSans-61\" x=\"632.568359\"/>\n       <use xlink:href=\"#DejaVuSans-72\" x=\"693.847656\"/>\n       <use xlink:href=\"#DejaVuSans-67\" x=\"733.210938\"/>\n       <use xlink:href=\"#DejaVuSans-69\" x=\"796.6875\"/>\n       <use xlink:href=\"#DejaVuSans-6e\" x=\"824.470703\"/>\n       <use xlink:href=\"#DejaVuSans-67\" x=\"887.849609\"/>\n       <use xlink:href=\"#DejaVuSans-20\" x=\"951.326172\"/>\n       <use xlink:href=\"#DejaVuSans-43\" x=\"983.113281\"/>\n       <use xlink:href=\"#DejaVuSans-61\" x=\"1052.9375\"/>\n       <use xlink:href=\"#DejaVuSans-62\" x=\"1114.216797\"/>\n       <use xlink:href=\"#DejaVuSans-6c\" x=\"1177.693359\"/>\n       <use xlink:href=\"#DejaVuSans-65\" x=\"1205.476562\"/>\n      </g>\n     </g>\n    </g>\n    <g id=\"xtick_5\">\n     <g id=\"text_5\">\n      <!-- Wired Headphones -->\n      <g transform=\"translate(359.881208 424.428409)rotate(-30)scale(0.1 -0.1)\">\n       <defs>\n        <path id=\"DejaVuSans-57\" d=\"M 213 4666 \nL 850 4666 \nL 1831 722 \nL 2809 4666 \nL 3519 4666 \nL 4500 722 \nL 5478 4666 \nL 6119 4666 \nL 4947 0 \nL 4153 0 \nL 3169 4050 \nL 2175 0 \nL 1381 0 \nL 213 4666 \nz\n\" transform=\"scale(0.015625)\"/>\n        <path id=\"DejaVuSans-64\" d=\"M 2906 2969 \nL 2906 4863 \nL 3481 4863 \nL 3481 0 \nL 2906 0 \nL 2906 525 \nQ 2725 213 2448 61 \nQ 2172 -91 1784 -91 \nQ 1150 -91 751 415 \nQ 353 922 353 1747 \nQ 353 2572 751 3078 \nQ 1150 3584 1784 3584 \nQ 2172 3584 2448 3432 \nQ 2725 3281 2906 2969 \nz\nM 947 1747 \nQ 947 1113 1208 752 \nQ 1469 391 1925 391 \nQ 2381 391 2643 752 \nQ 2906 1113 2906 1747 \nQ 2906 2381 2643 2742 \nQ 2381 3103 1925 3103 \nQ 1469 3103 1208 2742 \nQ 947 2381 947 1747 \nz\n\" transform=\"scale(0.015625)\"/>\n        <path id=\"DejaVuSans-48\" d=\"M 628 4666 \nL 1259 4666 \nL 1259 2753 \nL 3553 2753 \nL 3553 4666 \nL 4184 4666 \nL 4184 0 \nL 3553 0 \nL 3553 2222 \nL 1259 2222 \nL 1259 0 \nL 628 0 \nL 628 4666 \nz\n\" transform=\"scale(0.015625)\"/>\n        <path id=\"DejaVuSans-6f\" d=\"M 1959 3097 \nQ 1497 3097 1228 2736 \nQ 959 2375 959 1747 \nQ 959 1119 1226 758 \nQ 1494 397 1959 397 \nQ 2419 397 2687 759 \nQ 2956 1122 2956 1747 \nQ 2956 2369 2687 2733 \nQ 2419 3097 1959 3097 \nz\nM 1959 3584 \nQ 2709 3584 3137 3096 \nQ 3566 2609 3566 1747 \nQ 3566 888 3137 398 \nQ 2709 -91 1959 -91 \nQ 1206 -91 779 398 \nQ 353 888 353 1747 \nQ 353 2609 779 3096 \nQ 1206 3584 1959 3584 \nz\n\" transform=\"scale(0.015625)\"/>\n       </defs>\n       <use xlink:href=\"#DejaVuSans-57\"/>\n       <use xlink:href=\"#DejaVuSans-69\" x=\"96.626953\"/>\n       <use xlink:href=\"#DejaVuSans-72\" x=\"124.410156\"/>\n       <use xlink:href=\"#DejaVuSans-65\" x=\"163.273438\"/>\n       <use xlink:href=\"#DejaVuSans-64\" x=\"224.796875\"/>\n       <use xlink:href=\"#DejaVuSans-20\" x=\"288.273438\"/>\n       <use xlink:href=\"#DejaVuSans-48\" x=\"320.060547\"/>\n       <use xlink:href=\"#DejaVuSans-65\" x=\"395.255859\"/>\n       <use xlink:href=\"#DejaVuSans-61\" x=\"456.779297\"/>\n       <use xlink:href=\"#DejaVuSans-64\" x=\"518.058594\"/>\n       <use xlink:href=\"#DejaVuSans-70\" x=\"581.535156\"/>\n       <use xlink:href=\"#DejaVuSans-68\" x=\"645.011719\"/>\n       <use xlink:href=\"#DejaVuSans-6f\" x=\"708.390625\"/>\n       <use xlink:href=\"#DejaVuSans-6e\" x=\"769.572266\"/>\n       <use xlink:href=\"#DejaVuSans-65\" x=\"832.951172\"/>\n       <use xlink:href=\"#DejaVuSans-73\" x=\"894.474609\"/>\n      </g>\n     </g>\n    </g>\n   </g>\n   <g id=\"text_6\">\n    <!-- 31017 -->\n    <g style=\"fill: #ffffff\" transform=\"translate(36.677273 79.561429)scale(0.16 -0.16)\">\n     <defs>\n      <path id=\"DejaVuSans-33\" d=\"M 2597 2516 \nQ 3050 2419 3304 2112 \nQ 3559 1806 3559 1356 \nQ 3559 666 3084 287 \nQ 2609 -91 1734 -91 \nQ 1441 -91 1130 -33 \nQ 819 25 488 141 \nL 488 750 \nQ 750 597 1062 519 \nQ 1375 441 1716 441 \nQ 2309 441 2620 675 \nQ 2931 909 2931 1356 \nQ 2931 1769 2642 2001 \nQ 2353 2234 1838 2234 \nL 1294 2234 \nL 1294 2753 \nL 1863 2753 \nQ 2328 2753 2575 2939 \nQ 2822 3125 2822 3475 \nQ 2822 3834 2567 4026 \nQ 2313 4219 1838 4219 \nQ 1578 4219 1281 4162 \nQ 984 4106 628 3988 \nL 628 4550 \nQ 988 4650 1302 4700 \nQ 1616 4750 1894 4750 \nQ 2613 4750 3031 4423 \nQ 3450 4097 3450 3541 \nQ 3450 3153 3228 2886 \nQ 3006 2619 2597 2516 \nz\n\" transform=\"scale(0.015625)\"/>\n      <path id=\"DejaVuSans-31\" d=\"M 794 531 \nL 1825 531 \nL 1825 4091 \nL 703 3866 \nL 703 4441 \nL 1819 4666 \nL 2450 4666 \nL 2450 531 \nL 3481 531 \nL 3481 0 \nL 794 0 \nL 794 531 \nz\n\" transform=\"scale(0.015625)\"/>\n      <path id=\"DejaVuSans-30\" d=\"M 2034 4250 \nQ 1547 4250 1301 3770 \nQ 1056 3291 1056 2328 \nQ 1056 1369 1301 889 \nQ 1547 409 2034 409 \nQ 2525 409 2770 889 \nQ 3016 1369 3016 2328 \nQ 3016 3291 2770 3770 \nQ 2525 4250 2034 4250 \nz\nM 2034 4750 \nQ 2819 4750 3233 4129 \nQ 3647 3509 3647 2328 \nQ 3647 1150 3233 529 \nQ 2819 -91 2034 -91 \nQ 1250 -91 836 529 \nQ 422 1150 422 2328 \nQ 422 3509 836 4129 \nQ 1250 4750 2034 4750 \nz\n\" transform=\"scale(0.015625)\"/>\n      <path id=\"DejaVuSans-37\" d=\"M 525 4666 \nL 3525 4666 \nL 3525 4397 \nL 1831 0 \nL 1172 0 \nL 2766 4134 \nL 525 4134 \nL 525 4666 \nz\n\" transform=\"scale(0.015625)\"/>\n     </defs>\n     <use xlink:href=\"#DejaVuSans-33\"/>\n     <use xlink:href=\"#DejaVuSans-31\" x=\"63.623047\"/>\n     <use xlink:href=\"#DejaVuSans-30\" x=\"127.246094\"/>\n     <use xlink:href=\"#DejaVuSans-31\" x=\"190.869141\"/>\n     <use xlink:href=\"#DejaVuSans-37\" x=\"254.492188\"/>\n    </g>\n   </g>\n   <g id=\"text_7\">\n    <!-- 27635 -->\n    <g style=\"fill: #ffffff\" transform=\"translate(121.222727 113.43143)scale(0.16 -0.16)\">\n     <defs>\n      <path id=\"DejaVuSans-32\" d=\"M 1228 531 \nL 3431 531 \nL 3431 0 \nL 469 0 \nL 469 531 \nQ 828 903 1448 1529 \nQ 2069 2156 2228 2338 \nQ 2531 2678 2651 2914 \nQ 2772 3150 2772 3378 \nQ 2772 3750 2511 3984 \nQ 2250 4219 1831 4219 \nQ 1534 4219 1204 4116 \nQ 875 4013 500 3803 \nL 500 4441 \nQ 881 4594 1212 4672 \nQ 1544 4750 1819 4750 \nQ 2544 4750 2975 4387 \nQ 3406 4025 3406 3419 \nQ 3406 3131 3298 2873 \nQ 3191 2616 2906 2266 \nQ 2828 2175 2409 1742 \nQ 1991 1309 1228 531 \nz\n\" transform=\"scale(0.015625)\"/>\n      <path id=\"DejaVuSans-36\" d=\"M 2113 2584 \nQ 1688 2584 1439 2293 \nQ 1191 2003 1191 1497 \nQ 1191 994 1439 701 \nQ 1688 409 2113 409 \nQ 2538 409 2786 701 \nQ 3034 994 3034 1497 \nQ 3034 2003 2786 2293 \nQ 2538 2584 2113 2584 \nz\nM 3366 4563 \nL 3366 3988 \nQ 3128 4100 2886 4159 \nQ 2644 4219 2406 4219 \nQ 1781 4219 1451 3797 \nQ 1122 3375 1075 2522 \nQ 1259 2794 1537 2939 \nQ 1816 3084 2150 3084 \nQ 2853 3084 3261 2657 \nQ 3669 2231 3669 1497 \nQ 3669 778 3244 343 \nQ 2819 -91 2113 -91 \nQ 1303 -91 875 529 \nQ 447 1150 447 2328 \nQ 447 3434 972 4092 \nQ 1497 4750 2381 4750 \nQ 2619 4750 2861 4703 \nQ 3103 4656 3366 4563 \nz\n\" transform=\"scale(0.015625)\"/>\n      <path id=\"DejaVuSans-35\" d=\"M 691 4666 \nL 3169 4666 \nL 3169 4134 \nL 1269 4134 \nL 1269 2991 \nQ 1406 3038 1543 3061 \nQ 1681 3084 1819 3084 \nQ 2600 3084 3056 2656 \nQ 3513 2228 3513 1497 \nQ 3513 744 3044 326 \nQ 2575 -91 1722 -91 \nQ 1428 -91 1123 -41 \nQ 819 9 494 109 \nL 494 744 \nQ 775 591 1075 516 \nQ 1375 441 1709 441 \nQ 2250 441 2565 725 \nQ 2881 1009 2881 1497 \nQ 2881 1984 2565 2268 \nQ 2250 2553 1709 2553 \nQ 1456 2553 1204 2497 \nQ 953 2441 691 2322 \nL 691 4666 \nz\n\" transform=\"scale(0.015625)\"/>\n     </defs>\n     <use xlink:href=\"#DejaVuSans-32\"/>\n     <use xlink:href=\"#DejaVuSans-37\" x=\"63.623047\"/>\n     <use xlink:href=\"#DejaVuSans-36\" x=\"127.246094\"/>\n     <use xlink:href=\"#DejaVuSans-33\" x=\"190.869141\"/>\n     <use xlink:href=\"#DejaVuSans-35\" x=\"254.492188\"/>\n    </g>\n   </g>\n   <g id=\"text_8\">\n    <!-- 23975 -->\n    <g style=\"fill: #ffffff\" transform=\"translate(205.768182 150.085541)scale(0.16 -0.16)\">\n     <defs>\n      <path id=\"DejaVuSans-39\" d=\"M 703 97 \nL 703 672 \nQ 941 559 1184 500 \nQ 1428 441 1663 441 \nQ 2288 441 2617 861 \nQ 2947 1281 2994 2138 \nQ 2813 1869 2534 1725 \nQ 2256 1581 1919 1581 \nQ 1219 1581 811 2004 \nQ 403 2428 403 3163 \nQ 403 3881 828 4315 \nQ 1253 4750 1959 4750 \nQ 2769 4750 3195 4129 \nQ 3622 3509 3622 2328 \nQ 3622 1225 3098 567 \nQ 2575 -91 1691 -91 \nQ 1453 -91 1209 -44 \nQ 966 3 703 97 \nz\nM 1959 2075 \nQ 2384 2075 2632 2365 \nQ 2881 2656 2881 3163 \nQ 2881 3666 2632 3958 \nQ 2384 4250 1959 4250 \nQ 1534 4250 1286 3958 \nQ 1038 3666 1038 3163 \nQ 1038 2656 1286 2365 \nQ 1534 2075 1959 2075 \nz\n\" transform=\"scale(0.015625)\"/>\n     </defs>\n     <use xlink:href=\"#DejaVuSans-32\"/>\n     <use xlink:href=\"#DejaVuSans-33\" x=\"63.623047\"/>\n     <use xlink:href=\"#DejaVuSans-39\" x=\"127.246094\"/>\n     <use xlink:href=\"#DejaVuSans-37\" x=\"190.869141\"/>\n     <use xlink:href=\"#DejaVuSans-35\" x=\"254.492188\"/>\n    </g>\n   </g>\n   <g id=\"text_9\">\n    <!-- 23217 -->\n    <g style=\"fill: #ffffff\" transform=\"translate(290.313636 157.676748)scale(0.16 -0.16)\">\n     <use xlink:href=\"#DejaVuSans-32\"/>\n     <use xlink:href=\"#DejaVuSans-33\" x=\"63.623047\"/>\n     <use xlink:href=\"#DejaVuSans-32\" x=\"127.246094\"/>\n     <use xlink:href=\"#DejaVuSans-31\" x=\"190.869141\"/>\n     <use xlink:href=\"#DejaVuSans-37\" x=\"254.492188\"/>\n    </g>\n   </g>\n   <g id=\"text_10\">\n    <!-- 20557 -->\n    <g style=\"fill: #ffffff\" transform=\"translate(374.859091 184.316075)scale(0.16 -0.16)\">\n     <use xlink:href=\"#DejaVuSans-32\"/>\n     <use xlink:href=\"#DejaVuSans-30\" x=\"63.623047\"/>\n     <use xlink:href=\"#DejaVuSans-35\" x=\"127.246094\"/>\n     <use xlink:href=\"#DejaVuSans-35\" x=\"190.869141\"/>\n     <use xlink:href=\"#DejaVuSans-37\" x=\"254.492188\"/>\n    </g>\n   </g>\n   <g id=\"text_11\">\n    <!-- Sold most vs price -->\n    <g style=\"fill: #787878\" transform=\"translate(7.2 19.3575)scale(0.16 -0.16)\">\n     <defs>\n      <path id=\"DejaVuSans-Bold-53\" d=\"M 3834 4519 \nL 3834 3531 \nQ 3450 3703 3084 3790 \nQ 2719 3878 2394 3878 \nQ 1963 3878 1756 3759 \nQ 1550 3641 1550 3391 \nQ 1550 3203 1689 3098 \nQ 1828 2994 2194 2919 \nL 2706 2816 \nQ 3484 2659 3812 2340 \nQ 4141 2022 4141 1434 \nQ 4141 663 3683 286 \nQ 3225 -91 2284 -91 \nQ 1841 -91 1394 -6 \nQ 947 78 500 244 \nL 500 1259 \nQ 947 1022 1364 901 \nQ 1781 781 2169 781 \nQ 2563 781 2772 912 \nQ 2981 1044 2981 1288 \nQ 2981 1506 2839 1625 \nQ 2697 1744 2272 1838 \nL 1806 1941 \nQ 1106 2091 782 2419 \nQ 459 2747 459 3303 \nQ 459 4000 909 4375 \nQ 1359 4750 2203 4750 \nQ 2588 4750 2994 4692 \nQ 3400 4634 3834 4519 \nz\n\" transform=\"scale(0.015625)\"/>\n      <path id=\"DejaVuSans-Bold-6f\" d=\"M 2203 2784 \nQ 1831 2784 1636 2517 \nQ 1441 2250 1441 1747 \nQ 1441 1244 1636 976 \nQ 1831 709 2203 709 \nQ 2569 709 2762 976 \nQ 2956 1244 2956 1747 \nQ 2956 2250 2762 2517 \nQ 2569 2784 2203 2784 \nz\nM 2203 3584 \nQ 3106 3584 3614 3096 \nQ 4122 2609 4122 1747 \nQ 4122 884 3614 396 \nQ 3106 -91 2203 -91 \nQ 1297 -91 786 396 \nQ 275 884 275 1747 \nQ 275 2609 786 3096 \nQ 1297 3584 2203 3584 \nz\n\" transform=\"scale(0.015625)\"/>\n      <path id=\"DejaVuSans-Bold-6c\" d=\"M 538 4863 \nL 1656 4863 \nL 1656 0 \nL 538 0 \nL 538 4863 \nz\n\" transform=\"scale(0.015625)\"/>\n      <path id=\"DejaVuSans-Bold-64\" d=\"M 2919 2988 \nL 2919 4863 \nL 4044 4863 \nL 4044 0 \nL 2919 0 \nL 2919 506 \nQ 2688 197 2409 53 \nQ 2131 -91 1766 -91 \nQ 1119 -91 703 423 \nQ 288 938 288 1747 \nQ 288 2556 703 3070 \nQ 1119 3584 1766 3584 \nQ 2128 3584 2408 3439 \nQ 2688 3294 2919 2988 \nz\nM 2181 722 \nQ 2541 722 2730 984 \nQ 2919 1247 2919 1747 \nQ 2919 2247 2730 2509 \nQ 2541 2772 2181 2772 \nQ 1825 2772 1636 2509 \nQ 1447 2247 1447 1747 \nQ 1447 1247 1636 984 \nQ 1825 722 2181 722 \nz\n\" transform=\"scale(0.015625)\"/>\n      <path id=\"DejaVuSans-Bold-20\" transform=\"scale(0.015625)\"/>\n      <path id=\"DejaVuSans-Bold-6d\" d=\"M 3781 2919 \nQ 3994 3244 4286 3414 \nQ 4578 3584 4928 3584 \nQ 5531 3584 5847 3212 \nQ 6163 2841 6163 2131 \nL 6163 0 \nL 5038 0 \nL 5038 1825 \nQ 5041 1866 5042 1909 \nQ 5044 1953 5044 2034 \nQ 5044 2406 4934 2573 \nQ 4825 2741 4581 2741 \nQ 4263 2741 4089 2478 \nQ 3916 2216 3909 1719 \nL 3909 0 \nL 2784 0 \nL 2784 1825 \nQ 2784 2406 2684 2573 \nQ 2584 2741 2328 2741 \nQ 2006 2741 1831 2477 \nQ 1656 2213 1656 1722 \nL 1656 0 \nL 531 0 \nL 531 3500 \nL 1656 3500 \nL 1656 2988 \nQ 1863 3284 2130 3434 \nQ 2397 3584 2719 3584 \nQ 3081 3584 3359 3409 \nQ 3638 3234 3781 2919 \nz\n\" transform=\"scale(0.015625)\"/>\n      <path id=\"DejaVuSans-Bold-73\" d=\"M 3272 3391 \nL 3272 2541 \nQ 2913 2691 2578 2766 \nQ 2244 2841 1947 2841 \nQ 1628 2841 1473 2761 \nQ 1319 2681 1319 2516 \nQ 1319 2381 1436 2309 \nQ 1553 2238 1856 2203 \nL 2053 2175 \nQ 2913 2066 3209 1816 \nQ 3506 1566 3506 1031 \nQ 3506 472 3093 190 \nQ 2681 -91 1863 -91 \nQ 1516 -91 1145 -36 \nQ 775 19 384 128 \nL 384 978 \nQ 719 816 1070 734 \nQ 1422 653 1784 653 \nQ 2113 653 2278 743 \nQ 2444 834 2444 1013 \nQ 2444 1163 2330 1236 \nQ 2216 1309 1875 1350 \nL 1678 1375 \nQ 931 1469 631 1722 \nQ 331 1975 331 2491 \nQ 331 3047 712 3315 \nQ 1094 3584 1881 3584 \nQ 2191 3584 2531 3537 \nQ 2872 3491 3272 3391 \nz\n\" transform=\"scale(0.015625)\"/>\n      <path id=\"DejaVuSans-Bold-74\" d=\"M 1759 4494 \nL 1759 3500 \nL 2913 3500 \nL 2913 2700 \nL 1759 2700 \nL 1759 1216 \nQ 1759 972 1856 886 \nQ 1953 800 2241 800 \nL 2816 800 \nL 2816 0 \nL 1856 0 \nQ 1194 0 917 276 \nQ 641 553 641 1216 \nL 641 2700 \nL 84 2700 \nL 84 3500 \nL 641 3500 \nL 641 4494 \nL 1759 4494 \nz\n\" transform=\"scale(0.015625)\"/>\n      <path id=\"DejaVuSans-Bold-76\" d=\"M 97 3500 \nL 1216 3500 \nL 2088 1081 \nL 2956 3500 \nL 4078 3500 \nL 2700 0 \nL 1472 0 \nL 97 3500 \nz\n\" transform=\"scale(0.015625)\"/>\n      <path id=\"DejaVuSans-Bold-70\" d=\"M 1656 506 \nL 1656 -1331 \nL 538 -1331 \nL 538 3500 \nL 1656 3500 \nL 1656 2988 \nQ 1888 3294 2169 3439 \nQ 2450 3584 2816 3584 \nQ 3463 3584 3878 3070 \nQ 4294 2556 4294 1747 \nQ 4294 938 3878 423 \nQ 3463 -91 2816 -91 \nQ 2450 -91 2169 54 \nQ 1888 200 1656 506 \nz\nM 2400 2772 \nQ 2041 2772 1848 2508 \nQ 1656 2244 1656 1747 \nQ 1656 1250 1848 986 \nQ 2041 722 2400 722 \nQ 2759 722 2948 984 \nQ 3138 1247 3138 1747 \nQ 3138 2247 2948 2509 \nQ 2759 2772 2400 2772 \nz\n\" transform=\"scale(0.015625)\"/>\n      <path id=\"DejaVuSans-Bold-72\" d=\"M 3138 2547 \nQ 2991 2616 2845 2648 \nQ 2700 2681 2553 2681 \nQ 2122 2681 1889 2404 \nQ 1656 2128 1656 1613 \nL 1656 0 \nL 538 0 \nL 538 3500 \nL 1656 3500 \nL 1656 2925 \nQ 1872 3269 2151 3426 \nQ 2431 3584 2822 3584 \nQ 2878 3584 2943 3579 \nQ 3009 3575 3134 3559 \nL 3138 2547 \nz\n\" transform=\"scale(0.015625)\"/>\n      <path id=\"DejaVuSans-Bold-69\" d=\"M 538 3500 \nL 1656 3500 \nL 1656 0 \nL 538 0 \nL 538 3500 \nz\nM 538 4863 \nL 1656 4863 \nL 1656 3950 \nL 538 3950 \nL 538 4863 \nz\n\" transform=\"scale(0.015625)\"/>\n      <path id=\"DejaVuSans-Bold-63\" d=\"M 3366 3391 \nL 3366 2478 \nQ 3138 2634 2908 2709 \nQ 2678 2784 2431 2784 \nQ 1963 2784 1702 2511 \nQ 1441 2238 1441 1747 \nQ 1441 1256 1702 982 \nQ 1963 709 2431 709 \nQ 2694 709 2930 787 \nQ 3166 866 3366 1019 \nL 3366 103 \nQ 3103 6 2833 -42 \nQ 2563 -91 2291 -91 \nQ 1344 -91 809 395 \nQ 275 881 275 1747 \nQ 275 2613 809 3098 \nQ 1344 3584 2291 3584 \nQ 2566 3584 2833 3536 \nQ 3100 3488 3366 3391 \nz\n\" transform=\"scale(0.015625)\"/>\n      <path id=\"DejaVuSans-Bold-65\" d=\"M 4031 1759 \nL 4031 1441 \nL 1416 1441 \nQ 1456 1047 1700 850 \nQ 1944 653 2381 653 \nQ 2734 653 3104 758 \nQ 3475 863 3866 1075 \nL 3866 213 \nQ 3469 63 3072 -14 \nQ 2675 -91 2278 -91 \nQ 1328 -91 801 392 \nQ 275 875 275 1747 \nQ 275 2603 792 3093 \nQ 1309 3584 2216 3584 \nQ 3041 3584 3536 3087 \nQ 4031 2591 4031 1759 \nz\nM 2881 2131 \nQ 2881 2450 2695 2645 \nQ 2509 2841 2209 2841 \nQ 1884 2841 1681 2658 \nQ 1478 2475 1428 2131 \nL 2881 2131 \nz\n\" transform=\"scale(0.015625)\"/>\n     </defs>\n     <use xlink:href=\"#DejaVuSans-Bold-53\"/>\n     <use xlink:href=\"#DejaVuSans-Bold-6f\" x=\"72.021484\"/>\n     <use xlink:href=\"#DejaVuSans-Bold-6c\" x=\"140.722656\"/>\n     <use xlink:href=\"#DejaVuSans-Bold-64\" x=\"175\"/>\n     <use xlink:href=\"#DejaVuSans-Bold-20\" x=\"246.582031\"/>\n     <use xlink:href=\"#DejaVuSans-Bold-6d\" x=\"281.396484\"/>\n     <use xlink:href=\"#DejaVuSans-Bold-6f\" x=\"385.595703\"/>\n     <use xlink:href=\"#DejaVuSans-Bold-73\" x=\"454.296875\"/>\n     <use xlink:href=\"#DejaVuSans-Bold-74\" x=\"513.818359\"/>\n     <use xlink:href=\"#DejaVuSans-Bold-20\" x=\"561.621094\"/>\n     <use xlink:href=\"#DejaVuSans-Bold-76\" x=\"596.435547\"/>\n     <use xlink:href=\"#DejaVuSans-Bold-73\" x=\"661.621094\"/>\n     <use xlink:href=\"#DejaVuSans-Bold-20\" x=\"721.142578\"/>\n     <use xlink:href=\"#DejaVuSans-Bold-70\" x=\"755.957031\"/>\n     <use xlink:href=\"#DejaVuSans-Bold-72\" x=\"827.539062\"/>\n     <use xlink:href=\"#DejaVuSans-Bold-69\" x=\"876.855469\"/>\n     <use xlink:href=\"#DejaVuSans-Bold-63\" x=\"911.132812\"/>\n     <use xlink:href=\"#DejaVuSans-Bold-65\" x=\"970.410156\"/>\n    </g>\n   </g>\n  </g>\n </g>\n <defs>\n  <clipPath id=\"p3bb30543b4\">\n   <rect x=\"7.2\" y=\"37.3575\" width=\"446.4\" height=\"326.16\"/>\n  </clipPath>\n </defs>\n</svg>\n"
          },
          "metadata": {
            "needs_background": "light"
          }
        }
      ]
    },
    {
      "cell_type": "markdown",
      "source": [
        "Besides the price of the batteries been lower than the charging cables and headphones, I believe this is due to the fact that I (and everyone) need to buy new batteries more often than new charging cables, so the most sold item is the one that needs to be replaced the most."
      ],
      "metadata": {
        "id": "qXo_5SZBdCkr"
      }
    },
    {
      "cell_type": "markdown",
      "source": [
        "# Conclusion\n",
        "\n",
        "This shop could focus ads from 11:00 until 14:00, and them from 18:00 until 21:00, showing bundles of most common sold together itens on the months that sales are linked to comemorative dates, and with more replacabe itens on the other dates.\n",
        "\n",
        "I would also conduct a deep dive on sales per month to check if we can find any other trends and if the ones that is showing is not biased, and on sales per city to try to find out why we sell so much on San Francisco and if we can use the same strategie to increase sales on other cities."
      ],
      "metadata": {
        "id": "kc73kvI8dgxu"
      }
    }
  ],
  "metadata": {
    "colab": {
      "name": "sales_analysis.ipynb",
      "provenance": [],
      "authorship_tag": "ABX9TyOZW9YmmCy3MkWpmF3KitEJ",
      "include_colab_link": true
    },
    "kernelspec": {
      "display_name": "Python 3",
      "name": "python3"
    },
    "language_info": {
      "name": "python"
    }
  },
  "nbformat": 4,
  "nbformat_minor": 0
}